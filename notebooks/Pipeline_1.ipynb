{
 "cells": [
  {
   "cell_type": "code",
   "execution_count": null,
   "id": "initial_id",
   "metadata": {
    "collapsed": true
   },
   "outputs": [],
   "source": [
    "import os\n",
    "from dotenv import load_dotenv, find_dotenv\n",
    "import fitz  # Import the PyMuPDF library\n",
    "from langchain_openai  import ChatOpenAI\n",
    "\n",
    "load_dotenv(find_dotenv())"
   ]
  },
  {
   "cell_type": "code",
   "outputs": [],
   "source": [
    "def extract_text_from_pdf(pdf_path):\n",
    "    document = fitz.open(pdf_path)  # Open the PDF file\n",
    "    text = \"\"\n",
    "    for page in document:  # Iterate through each page\n",
    "        text += page.get_text()  # Extract text from the page\n",
    "    document.close()  # Close the document\n",
    "    return text"
   ],
   "metadata": {
    "collapsed": false
   },
   "id": "f6282d9c8e9a6659"
  },
  {
   "cell_type": "code",
   "outputs": [],
   "source": [
    "# gpt-4, gpt-4-turbo-preview, gpt-3.5-turbo\n",
    "chat_3 = ChatOpenAI(model_name='gpt-3.5-turbo', temperature=0)\n",
    "chat_4 = ChatOpenAI(model_name='gpt-4', temperature=0)\n",
    "chat_4t = ChatOpenAI(model_name='gpt-4-turbo-preview', temperature=0)"
   ],
   "metadata": {
    "collapsed": false
   },
   "id": "110d281f82bc6c2e"
  },
  {
   "cell_type": "code",
   "outputs": [],
   "source": [
    "job_letter_prompt = (\n",
    "    '''\n",
    "    This is a job letter for an employee, please extract the following information and return it as such: \n",
    "    {Start date of employment} ; {Salary or hourly rate}\n",
    "    \n",
    "    Example of a valid response:\n",
    "    January 1, 2000 ; $65,000.00\n",
    "    \n",
    "    Letter: \n",
    "    '''\n",
    ")*"
   ],
   "metadata": {
    "collapsed": false
   },
   "id": "9464eb050293fde1"
  }
 ],
 "metadata": {
  "kernelspec": {
   "display_name": "Python 3",
   "language": "python",
   "name": "python3"
  },
  "language_info": {
   "codemirror_mode": {
    "name": "ipython",
    "version": 2
   },
   "file_extension": ".py",
   "mimetype": "text/x-python",
   "name": "python",
   "nbconvert_exporter": "python",
   "pygments_lexer": "ipython2",
   "version": "2.7.6"
  }
 },
 "nbformat": 4,
 "nbformat_minor": 5
}
