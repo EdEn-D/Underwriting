{
 "cells": [
  {
   "cell_type": "code",
   "execution_count": 4,
   "id": "initial_id",
   "metadata": {
    "collapsed": true,
    "ExecuteTime": {
     "end_time": "2024-03-01T12:39:56.275409Z",
     "start_time": "2024-03-01T12:39:56.228873Z"
    }
   },
   "outputs": [
    {
     "data": {
      "text/plain": "True"
     },
     "execution_count": 4,
     "metadata": {},
     "output_type": "execute_result"
    }
   ],
   "source": [
    "import os\n",
    "from dotenv import load_dotenv, find_dotenv\n",
    "from pprint import pprint, pformat\n",
    "import fitz  # Import the PyMuPDF library\n",
    "\n",
    "from langchain import hub\n",
    "from langchain_openai  import ChatOpenAI, OpenAIEmbeddings\n",
    "from langchain.schema import AIMessage, HumanMessage, SystemMessage, Document\n",
    "from langchain.vectorstores import Chroma\n",
    "from langchain_core.output_parsers import StrOutputParser\n",
    "from langchain_core.runnables import RunnablePassthrough\n",
    "\n",
    "import tiktoken\n",
    "\n",
    "load_dotenv(find_dotenv())\n"
   ]
  },
  {
   "cell_type": "code",
   "outputs": [],
   "source": [
    "def extract_text_from_pdf(pdf_path):\n",
    "    document = fitz.open(pdf_path)  # Open the PDF file\n",
    "    text = \"\"\n",
    "    for page in document:  # Iterate through each page\n",
    "        text += page.get_text()  # Extract text from the page\n",
    "    document.close()  # Close the document\n",
    "    return text"
   ],
   "metadata": {
    "collapsed": false,
    "ExecuteTime": {
     "end_time": "2024-03-01T12:39:57.186543500Z",
     "start_time": "2024-03-01T12:39:57.173088500Z"
    }
   },
   "id": "28098f2d7e7e992c",
   "execution_count": 5
  },
  {
   "cell_type": "code",
   "outputs": [],
   "source": [
    "# gpt-4, gpt-4-turbo-preview, gpt-3.5-turbo\n",
    "chat_3 = ChatOpenAI(model_name='gpt-3.5-turbo', temperature=0)\n",
    "chat_4 = ChatOpenAI(model_name='gpt-4', temperature=0)\n",
    "chat_4t = ChatOpenAI(model_name='gpt-4-turbo-preview', temperature=0)"
   ],
   "metadata": {
    "collapsed": false,
    "ExecuteTime": {
     "end_time": "2024-03-01T12:35:55.299969900Z",
     "start_time": "2024-03-01T12:35:55.241237800Z"
    }
   },
   "id": "be4894c6e6e2f4fe",
   "execution_count": 3
  },
  {
   "cell_type": "code",
   "outputs": [],
   "source": [
    "job_letter_prompt = (\n",
    "    '''\n",
    "    This is a job letter for an employee, please extract the following information and return it as such: \n",
    "    {Start date of employment} ; {Salary or hourly rate}\n",
    "    \n",
    "    Example of a valid response:\n",
    "    January 1, 2000 ; $65,000.00\n",
    "    \n",
    "    Letter: \n",
    "    '''\n",
    ")"
   ],
   "metadata": {
    "collapsed": false,
    "ExecuteTime": {
     "end_time": "2024-03-01T12:45:29.234594200Z",
     "start_time": "2024-03-01T12:45:29.220611100Z"
    }
   },
   "id": "3d5f2dadd970e008",
   "execution_count": 22
  },
  {
   "cell_type": "code",
   "outputs": [
    {
     "data": {
      "text/plain": "'\\n    This is a job letter for an employee, please extract the following information and return it as such: \\n    {Start date of employment} ; {Salary or hourly rate}\\n    \\n    Example of a valid response:\\n    January 1, 2000 ; $65,000.00\\n    \\n    Letter: \\n    November 16, 2023\\nTo whom it may concern,\\nBARRICK GOLD CORPORATION\\nP.O. Bag 500\\nMarathon, Ontario P0T 2E0 \\nCanada\\nTel: +1 807-238-1100\\nThis letter is confirmation that Yash Patel is employed fulltime/permanent at a company within \\nOntario, Williams Operating Corporation. He is an employee in the role of Drill and Blast Planner \\nin the Technical Services department working on a 14 on, 14 off schedule. He has been employed \\nsince May 7, 2019. He works an average of 40 hrs/week with a current annual salary of\\n$105,000.00\\nIf you have any further questions, please feel free to contact me.\\nSincerely,\\nStacey Ratte\\nHuman Resources Business Partner \\nsratte@barrick.com\\n807-238-2170\\n'"
     },
     "execution_count": 23,
     "metadata": {},
     "output_type": "execute_result"
    }
   ],
   "source": [
    "job_letter_txt = extract_text_from_pdf('Underwriting/Yash LOE 11.16.2023.pdf')\n",
    "job_letter_prompt += job_letter_txt\n",
    "job_letter_prompt"
   ],
   "metadata": {
    "collapsed": false,
    "ExecuteTime": {
     "end_time": "2024-03-01T12:45:29.598880900Z",
     "start_time": "2024-03-01T12:45:29.575825100Z"
    }
   },
   "id": "f0b404b36de021e7",
   "execution_count": 23
  },
  {
   "cell_type": "code",
   "outputs": [
    {
     "data": {
      "text/plain": "'May 7, 2019 ; $105,000.00'"
     },
     "execution_count": 26,
     "metadata": {},
     "output_type": "execute_result"
    }
   ],
   "source": [
    "messages = [\n",
    "    HumanMessage(\n",
    "        content=job_letter_prompt\n",
    "    ),\n",
    "]\n",
    "\n",
    "chat_4t(messages).content"
   ],
   "metadata": {
    "collapsed": false,
    "ExecuteTime": {
     "end_time": "2024-03-01T12:45:57.076006800Z",
     "start_time": "2024-03-01T12:45:55.168822400Z"
    }
   },
   "id": "3aae2940a985106e",
   "execution_count": 26
  },
  {
   "cell_type": "code",
   "outputs": [
    {
     "data": {
      "text/plain": "'May 7, 2019 ; $105,000.00'"
     },
     "execution_count": 27,
     "metadata": {},
     "output_type": "execute_result"
    }
   ],
   "source": [
    "chat_4(messages).content"
   ],
   "metadata": {
    "collapsed": false,
    "ExecuteTime": {
     "end_time": "2024-03-01T12:45:58.496482100Z",
     "start_time": "2024-03-01T12:45:57.072469500Z"
    }
   },
   "id": "3d0696be1a67406a",
   "execution_count": 27
  },
  {
   "cell_type": "code",
   "outputs": [
    {
     "data": {
      "text/plain": "'May 7, 2019 ; $105,000.00'"
     },
     "execution_count": 28,
     "metadata": {},
     "output_type": "execute_result"
    }
   ],
   "source": [
    "chat_3(messages).content"
   ],
   "metadata": {
    "collapsed": false,
    "ExecuteTime": {
     "end_time": "2024-03-01T12:45:59.698200500Z",
     "start_time": "2024-03-01T12:45:58.498297800Z"
    }
   },
   "id": "55181c4b6d329e7e",
   "execution_count": 28
  },
  {
   "cell_type": "code",
   "outputs": [],
   "source": [],
   "metadata": {
    "collapsed": false
   },
   "id": "5c446f6c492d31d5"
  }
 ],
 "metadata": {
  "kernelspec": {
   "display_name": "Python 3",
   "language": "python",
   "name": "python3"
  },
  "language_info": {
   "codemirror_mode": {
    "name": "ipython",
    "version": 2
   },
   "file_extension": ".py",
   "mimetype": "text/x-python",
   "name": "python",
   "nbconvert_exporter": "python",
   "pygments_lexer": "ipython2",
   "version": "2.7.6"
  }
 },
 "nbformat": 4,
 "nbformat_minor": 5
}
