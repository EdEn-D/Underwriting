{
 "cells": [
  {
   "cell_type": "code",
   "outputs": [],
   "source": [
    "import fitz  # Import the PyMuPDF library\n"
   ],
   "metadata": {
    "collapsed": false
   },
   "id": "6be6ca9356ebc051",
   "execution_count": null
  },
  {
   "cell_type": "markdown",
   "source": [
    "# Extracting Text from PDF"
   ],
   "metadata": {
    "collapsed": false
   },
   "id": "d7a00f5e9424546d"
  },
  {
   "cell_type": "code",
   "outputs": [],
   "source": [
    "def extract_text_from_pdf(pdf_path):\n",
    "    document = fitz.open(pdf_path)  # Open the PDF file\n",
    "    text = \"\"\n",
    "    for page in document:  # Iterate through each page\n",
    "        text += page.get_text()  # Extract text from the page\n",
    "    document.close()  # Close the document\n",
    "    return text"
   ],
   "metadata": {
    "collapsed": false
   },
   "id": "c337d5f80811b4fb",
   "execution_count": null
  },
  {
   "cell_type": "code",
   "outputs": [],
   "source": [
    "# Replace 'yourfile.pdf' with the path to your PDF file\n",
    "# pdf_text_1 = extract_text_from_pdf(\"Underwriting/Yash LOE 11.16.2023.pdf\")\n",
    "pdf_text_2 = extract_text_from_pdf(\"data/pdfs/Yash_Patel_2022_-_T4_Slip.pdf\")\n",
    "print(pdf_text_2)"
   ],
   "metadata": {
    "collapsed": false
   },
   "id": "9178a1aa9478d235",
   "execution_count": null
  },
  {
   "cell_type": "markdown",
   "source": [
    "## Extracting Employment income from T4 - employee"
   ],
   "metadata": {
    "collapsed": false
   },
   "id": "eecf27b5c0036047"
  },
  {
   "cell_type": "code",
   "outputs": [],
   "source": [
    "pdf_lines = pdf_text_2.split('\\n')\n",
    "i = pdf_lines.index('Employment income')\n",
    "t4_income = pdf_lines[i+3]\n",
    "t4_income"
   ],
   "metadata": {
    "collapsed": false
   },
   "id": "b9cb5c432a96fb06",
   "execution_count": null
  },
  {
   "cell_type": "markdown",
   "source": [
    "# Detecting T4 data using OCR"
   ],
   "metadata": {
    "collapsed": false
   },
   "id": "92ee5b83bcb44b6a"
  },
  {
   "cell_type": "code",
   "outputs": [],
   "source": [
    "import cv2\n",
    "import pytesseract\n",
    "from pytesseract import Output\n",
    "from pdf2image import convert_from_path\n",
    "import re \n",
    "from IPython.display import display\n",
    "from PIL import Image\n",
    "import matplotlib.pyplot as plt\n",
    "pytesseract.pytesseract.tesseract_cmd = r'N:\\Program Files\\Tesseract-OCR\\tesseract.exe'\n"
   ],
   "metadata": {
    "collapsed": false
   },
   "id": "65a7e29f44c02f57",
   "execution_count": null
  },
  {
   "cell_type": "code",
   "outputs": [],
   "source": [
    "pdf_path = 'N:/Dev/AI/Underwriting/data/clients/Hemat and Amy/Hemant/Hemant Sud 2021 T4.pdf'\n",
    "imgs = convert_from_path(pdf_path)\n",
    "display(imgs[0])"
   ],
   "metadata": {
    "collapsed": false
   },
   "id": "a2bbdee7c6b3c67b",
   "execution_count": null
  },
  {
   "cell_type": "markdown",
   "source": [
    "# Preprocessing\n",
    "## Cropping"
   ],
   "metadata": {
    "collapsed": false
   },
   "id": "4f12a7f71aadae76"
  },
  {
   "cell_type": "code",
   "outputs": [],
   "source": [
    "from PIL import Image\n",
    "import matplotlib.pyplot as plt\n",
    "\n",
    "def crop_image_to_top_right(image_path, cropped_path):\n",
    "# Function to load an image and crop it to the top-right quarter\n",
    "    image = convert_from_path(image_path)[0]\n",
    "    # image = Image.open(image_path)\n",
    "    # Crop coordinates for the top-right quarter\n",
    "    width, height = image.size\n",
    "    crop_coords = (width // 2, 0, width, height // 2)\n",
    "    cropped_image = image.crop(crop_coords)\n",
    "    \n",
    "    width, height = cropped_image.size\n",
    "    crop_coords = (0, height // 2, width, height )\n",
    "    cropped_image = cropped_image.crop(crop_coords)\n",
    "\n",
    "    width, height = cropped_image.size\n",
    "    crop_coords = (0, 0, width // 2, height // 2 )\n",
    "    cropped_image = cropped_image.crop(crop_coords)\n",
    "\n",
    "    width, height = cropped_image.size\n",
    "    crop_coords = (0, height // 2, width, height )\n",
    "    cropped_image = cropped_image.crop(crop_coords)\n",
    "\n",
    "    cropped_image.save(cropped_path)\n",
    "    return cropped_image\n",
    "\n",
    "# Display the cropped image\n",
    "def display_image(image):\n",
    "    plt.imshow(image)\n",
    "    plt.axis('off')  # Turn off axis numbers and ticks\n",
    "    plt.show()\n",
    "\n",
    "\n",
    "# Path to your image\n",
    "image_path = 'N:/Dev/AI/Underwriting/data/clients/Hemat and Amy/Hemant/Hemant Sud 2021 T4.pdf'\n",
    "cropped_path = 'N:/Dev/AI/Underwriting/data/clients/Hemat and Amy/Hemant/Hemant Sud 2021 T4_cropped.jpg'\n",
    "\n",
    "# Crop the image to the top-right quarter\n",
    "cropped_image = crop_image_to_top_right(image_path, cropped_path)\n",
    "\n",
    "# Display the cropped top-right image\n",
    "display_image(cropped_image)\n",
    "\n",
    "# Now, 'top_right_image' holds the cropped image for further processing\n",
    "\n"
   ],
   "metadata": {
    "collapsed": false
   },
   "id": "b351df1c69ecc0be",
   "execution_count": null
  },
  {
   "cell_type": "markdown",
   "source": [
    "# Tesseract OCR"
   ],
   "metadata": {
    "collapsed": false
   },
   "id": "d8fb13d2ed030e48"
  },
  {
   "cell_type": "code",
   "outputs": [],
   "source": [
    "text = pytesseract.image_to_string(cropped_image, lang='eng', output_type=Output.STRING)\n",
    "print(\"PDF text detected: \\n\" + text)"
   ],
   "metadata": {
    "collapsed": false
   },
   "id": "d4f4e438f878152",
   "execution_count": null
  },
  {
   "cell_type": "markdown",
   "source": [
    "# Paddle OCR"
   ],
   "metadata": {
    "collapsed": false
   },
   "id": "40edec65ff5905ed"
  },
  {
   "cell_type": "code",
   "outputs": [
    {
     "name": "stdout",
     "output_type": "stream",
     "text": [
      "PATH: C:\\Users\\edent\\AppData\\Local\\Programs\\Python\\Python310\\Lib\\site-packages\\cv2\\../../x64/vc14/bin;C:\\Users\\edent\\AppData\\Local\\Programs\\Python\\Python310\\lib\\site-packages\\paddle\\base;C:\\Users\\edent\\AppData\\Local\\Programs\\Python\\Python310\\lib\\site-packages\\paddle\\base\\..\\libs;C:\\Users\\edent\\AppData\\Local\\Programs\\Python\\Python310\\Scripts;N:\\Program Files\\NVIDIA GPU Computing Toolkit\\CUDA\\v11.8\\bin;N:\\Program Files\\NVIDIA GPU Computing Toolkit\\CUDA\\v11.8\\libnvvp;N:\\Program Files\\NVIDIA GPU Computing Toolkit\\CUDA\\v12.4\\bin;N:\\Program Files\\NVIDIA GPU Computing Toolkit\\CUDA\\v12.4\\libnvvp;N:\\Program Files\\NVIDIA\\CUDNN\\v9.1\\bin;C:\\Program Files\\NVIDIA\\CUDNN\\v9.1\\bin;C:\\Windows\\system32;C:\\Windows;C:\\Windows\\System32\\Wbem;C:\\Windows\\System32\\WindowsPowerShell\\v1.0\\;C:\\Windows\\System32\\OpenSSH\\;N:\\Program Files\\Git\\cmd;N:\\Program Files\\nodejs\\;C:\\Program Files\\dotnet\\;C:\\Program Files\\Microsoft SQL Server\\Client SDK\\ODBC\\110\\Tools\\Binn\\;C:\\Program Files (x86)\\Microsoft SQL Server\\120\\Tools\\Binn\\;C:\\Program Files\\Microsoft SQL Server\\120\\Tools\\Binn\\;C:\\Program Files\\Microsoft SQL Server\\120\\DTS\\Binn\\;C:\\Program Files (x86)\\Windows Kits\\8.1\\Windows Performance Toolkit\\;C:\\Program Files (x86)\\Bitvise SSH Client;N:\\Program Files\\Process Lasso\\;C:\\Program Files\\Microsoft SQL Server\\Client SDK\\ODBC\\170\\Tools\\Binn\\;N:\\Dev\\poppler-0.68.0\\bin;C:\\WINDOWS\\system32;C:\\WINDOWS;C:\\WINDOWS\\System32\\Wbem;C:\\WINDOWS\\System32\\WindowsPowerShell\\v1.0\\;C:\\WINDOWS\\System32\\OpenSSH\\;C:\\Program Files\\Java\\jre-1.8\\bin;C:\\Program Files\\gs\\gs10.02.1\\bin;C:\\Program Files\\NVIDIA Corporation\\NVIDIA NvDLISR;C:\\Program Files (x86)\\NVIDIA Corporation\\PhysX\\Common;N:\\Program Files\\NVIDIA\\CUDNN\\v8.9.7\\bin;N:\\Program Files\\NVIDIA GPU Computing Toolkit\\CUDA\\v11.8\\bin;N:\\Program Files\\NVIDIA GPU Computing Toolkit\\CUDA\\v11.8\\libnvvp;C:\\Program Files\\NVIDIA Corporation\\Nsight Compute 2022.3.0\\;C:\\Users\\edent\\.cargo\\bin;C:\\Users\\edent\\AppData\\Local\\Programs\\Python\\Python310\\;C:\\Users\\edent\\AppData\\Local\\Microsoft\\WindowsApps;N:\\Program Files\\JetBrains\\PyCharm 2023.3.2\\bin;N:\\Program Files\\Microsoft VS Code\\bin;N:\\ESP32\\Espressif/tools/xtensa-esp32-elf-clang/esp-13.0.0-20211203-x86_64-pc-windows-msvc/bin/;C:\\Users\\edent\\AppData\\Roaming\\npm;C:\\Users\\edent\\.dotnet\\tools;C:\\Users\\edent\\AppData\\Local\\GitHubDesktop\\bin;N:\\Program Files\\Tesseract-OCR;N:\\Program Files\\NVIDIA\\CUDNN\\v9.1\\bin\n",
      "CUDA_PATH: N:\\Program Files\\NVIDIA GPU Computing Toolkit\\CUDA\\v11.8\n",
      "Running verify PaddlePaddle program ... \n",
      "PaddlePaddle works well on 1 GPU.\n",
      "PaddlePaddle is installed successfully! Let's start deep learning with PaddlePaddle now.\n"
     ]
    }
   ],
   "source": [
    "from PIL import Image\n",
    "import matplotlib.pyplot as plt\n",
    "from PIL import ImageFont\n",
    "import paddle\n",
    "import os\n",
    "\n",
    "# Print the CUDA-related environment variables\n",
    "print(\"PATH:\", os.getenv(\"PATH\"))\n",
    "print(\"CUDA_PATH:\", os.getenv(\"CUDA_PATH\"))\n",
    "\n",
    "\n",
    "paddle.utils.run_check()    "
   ],
   "metadata": {
    "collapsed": false,
    "ExecuteTime": {
     "end_time": "2024-04-17T14:25:36.372199700Z",
     "start_time": "2024-04-17T14:25:30.352106300Z"
    }
   },
   "id": "a565ea18737d13f6",
   "execution_count": 1
  },
  {
   "cell_type": "code",
   "outputs": [],
   "source": [
    "\n",
    "from pdf2image import convert_from_path\n",
    "from PIL import Image\n",
    "convert_from_path(r\"N:\\Dev\\AI\\Underwriting\\data\\clients\\Alex and Patricia\\Alex\\Alexander - Credit bureau 10.04.23.pdf\")"
   ],
   "metadata": {
    "collapsed": false
   },
   "id": "cc3f142b153ae07c",
   "execution_count": null
  },
  {
   "cell_type": "code",
   "outputs": [
    {
     "name": "stdout",
     "output_type": "stream",
     "text": [
      "[2024/04/17 17:33:22] ppocr DEBUG: Namespace(help='==SUPPRESS==', use_gpu=True, use_xpu=False, use_npu=False, ir_optim=True, use_tensorrt=False, min_subgraph_size=15, precision='fp32', gpu_mem=500, gpu_id=0, image_dir=None, page_num=0, det_algorithm='DB', det_model_dir='C:\\\\Users\\\\edent/.paddleocr/whl\\\\det\\\\en\\\\en_PP-OCRv3_det_infer', det_limit_side_len=960, det_limit_type='max', det_box_type='quad', det_db_thresh=0.3, det_db_box_thresh=0.6, det_db_unclip_ratio=1.5, max_batch_size=10, use_dilation=False, det_db_score_mode='fast', det_east_score_thresh=0.8, det_east_cover_thresh=0.1, det_east_nms_thresh=0.2, det_sast_score_thresh=0.5, det_sast_nms_thresh=0.2, det_pse_thresh=0, det_pse_box_thresh=0.85, det_pse_min_area=16, det_pse_scale=1, scales=[8, 16, 32], alpha=1.0, beta=1.0, fourier_degree=5, rec_algorithm='SVTR_LCNet', rec_model_dir='C:\\\\Users\\\\edent/.paddleocr/whl\\\\rec\\\\en\\\\en_PP-OCRv4_rec_infer', rec_image_inverse=True, rec_image_shape='3, 48, 320', rec_batch_num=6, max_text_length=25, rec_char_dict_path='C:\\\\Users\\\\edent\\\\AppData\\\\Local\\\\Programs\\\\Python\\\\Python310\\\\lib\\\\site-packages\\\\paddleocr\\\\ppocr\\\\utils\\\\en_dict.txt', use_space_char=True, vis_font_path='./doc/fonts/simfang.ttf', drop_score=0.5, e2e_algorithm='PGNet', e2e_model_dir=None, e2e_limit_side_len=768, e2e_limit_type='max', e2e_pgnet_score_thresh=0.5, e2e_char_dict_path='./ppocr/utils/ic15_dict.txt', e2e_pgnet_valid_set='totaltext', e2e_pgnet_mode='fast', use_angle_cls=True, cls_model_dir='C:\\\\Users\\\\edent/.paddleocr/whl\\\\cls\\\\ch_ppocr_mobile_v2.0_cls_infer', cls_image_shape='3, 48, 192', label_list=['0', '180'], cls_batch_num=6, cls_thresh=0.9, enable_mkldnn=False, cpu_threads=10, use_pdserving=False, warmup=False, sr_model_dir=None, sr_image_shape='3, 32, 128', sr_batch_num=1, draw_img_save_dir='./inference_results', save_crop_res=False, crop_res_save_dir='./output', use_mp=False, total_process_num=1, process_id=0, benchmark=False, save_log_path='./log_output/', show_log=True, use_onnx=False, output='./output', table_max_len=488, table_algorithm='TableAttn', table_model_dir=None, merge_no_span_structure=True, table_char_dict_path=None, layout_model_dir=None, layout_dict_path=None, layout_score_threshold=0.5, layout_nms_threshold=0.5, kie_algorithm='LayoutXLM', ser_model_dir=None, re_model_dir=None, use_visual_backbone=True, ser_dict_path='../train_data/XFUND/class_list_xfun.txt', ocr_order_method=None, mode='structure', image_orientation=False, layout=True, table=True, ocr=True, recovery=False, use_pdf2docx_api=False, invert=False, binarize=False, alphacolor=(255, 255, 255), lang='en', det=True, rec=True, type='ocr', ocr_version='PP-OCRv4', structure_version='PP-StructureV2')\n"
     ]
    },
    {
     "ename": "NameError",
     "evalue": "name 'cropped_path' is not defined",
     "output_type": "error",
     "traceback": [
      "\u001B[1;31m---------------------------------------------------------------------------\u001B[0m",
      "\u001B[1;31mNameError\u001B[0m                                 Traceback (most recent call last)",
      "Cell \u001B[1;32mIn[2], line 4\u001B[0m\n\u001B[0;32m      1\u001B[0m \u001B[38;5;28;01mfrom\u001B[39;00m \u001B[38;5;21;01mpaddleocr\u001B[39;00m \u001B[38;5;28;01mimport\u001B[39;00m PaddleOCR, draw_ocr\n\u001B[0;32m      3\u001B[0m ocr \u001B[38;5;241m=\u001B[39m PaddleOCR(use_angle_cls\u001B[38;5;241m=\u001B[39m\u001B[38;5;28;01mTrue\u001B[39;00m, lang\u001B[38;5;241m=\u001B[39m\u001B[38;5;124m'\u001B[39m\u001B[38;5;124men\u001B[39m\u001B[38;5;124m'\u001B[39m, use_gpu\u001B[38;5;241m=\u001B[39m\u001B[38;5;28;01mTrue\u001B[39;00m) \u001B[38;5;66;03m# need to run only once to download and load model into memory\u001B[39;00m\n\u001B[1;32m----> 4\u001B[0m result \u001B[38;5;241m=\u001B[39m ocr\u001B[38;5;241m.\u001B[39mocr(\u001B[43mcropped_path\u001B[49m, \u001B[38;5;28mcls\u001B[39m\u001B[38;5;241m=\u001B[39m\u001B[38;5;28;01mTrue\u001B[39;00m)\n\u001B[0;32m      5\u001B[0m \u001B[38;5;28mprint\u001B[39m(\u001B[38;5;124m\"\u001B[39m\u001B[38;5;124m##################################################################\u001B[39m\u001B[38;5;124m\"\u001B[39m)\n\u001B[0;32m      6\u001B[0m \u001B[38;5;28mprint\u001B[39m(\u001B[38;5;124m\"\u001B[39m\u001B[38;5;124mResults: \u001B[39m\u001B[38;5;130;01m\\n\u001B[39;00m\u001B[38;5;124m\"\u001B[39m)\n",
      "\u001B[1;31mNameError\u001B[0m: name 'cropped_path' is not defined"
     ]
    }
   ],
   "source": [
    "from paddleocr import PaddleOCR, draw_ocr\n",
    "\n",
    "ocr = PaddleOCR(use_angle_cls=True, lang='en', use_gpu=True) # need to run only once to download and load model into memory\n",
    "result = ocr.ocr(cropped_path, cls=True)\n",
    "print(\"##################################################################\")\n",
    "print(\"Results: \\n\")\n",
    "for idx in range(len(result)):\n",
    "    res = result[idx]\n",
    "    for line in res:\n",
    "        print(line)"
   ],
   "metadata": {
    "collapsed": false,
    "ExecuteTime": {
     "end_time": "2024-04-17T14:33:28.453767900Z",
     "start_time": "2024-04-17T14:33:20.123654100Z"
    }
   },
   "id": "ea524ca9f84f8368",
   "execution_count": 2
  },
  {
   "cell_type": "code",
   "outputs": [],
   "source": [
    "for line in result[0]:\n",
    "    print(f\"Line: {line}\")\n",
    "    print()\n",
    "    for lin in line:\n",
    "        print(f\"Lin: {lin}\")\n",
    "    print()"
   ],
   "metadata": {
    "collapsed": false
   },
   "id": "67192725834b35b4",
   "execution_count": null
  },
  {
   "cell_type": "code",
   "outputs": [],
   "source": [
    "# draw result\n",
    "from PIL import Image\n",
    "image = Image.open(cropped_path).convert('RGB')\n",
    "result=result[0]\n",
    "boxes = [line[0] for line in result]\n",
    "print(f\"boxes\\n{boxes}\")\n",
    "txts = [line[1][0] for line in result]\n",
    "print(f\"txts\\n{txts}\")\n",
    "scores = [line[1][1] for line in result]\n",
    "im_show = draw_ocr(image, boxes, txts, scores)\n",
    "im_show.save('result.jpg')\n",
    "im_show = Image.fromarray(im_show)"
   ],
   "metadata": {
    "collapsed": false
   },
   "id": "870e740249eded4",
   "execution_count": null
  },
  {
   "cell_type": "code",
   "outputs": [],
   "source": [
    "from paddleocr import PaddleOCR, draw_ocr\n",
    "\n",
    "# Paddleocr supports Chinese, English, French, German, Korean and Japanese.\n",
    "# You can set the parameter `lang` as `ch`, `en`, `fr`, `german`, `korean`, `japan`\n",
    "# to switch the language model in order.\n",
    "ocr = PaddleOCR(use_angle_cls=True, lang=\"ch\", page_num=2)  # need to run only once to download and load model into memory\n",
    "# img_path = './xxx.pdf'\n",
    "img_path = pdf_path\n",
    "result = ocr.ocr(img_path, cls=True)\n",
    "for idx in range(len(result)):\n",
    "    res = result[idx]\n",
    "    for line in res:\n",
    "        print(line)\n",
    "\n",
    "# draw result\n",
    "import fitz\n",
    "from PIL import Image\n",
    "import cv2\n",
    "import numpy as np\n",
    "imgs = []\n",
    "with fitz.open(img_path) as pdf:\n",
    "    for pg in range(0, pdf.pageCount):\n",
    "        page = pdf[pg]\n",
    "        mat = fitz.Matrix(2, 2)\n",
    "        pm = page.getPixmap(matrix=mat, alpha=False)\n",
    "        # if width or height > 2000 pixels, don't enlarge the image\n",
    "        if pm.width > 2000 or pm.height > 2000:\n",
    "            pm = page.getPixmap(matrix=fitz.Matrix(1, 1), alpha=False)\n",
    "\n",
    "        img = Image.frombytes(\"RGB\", [pm.width, pm.height], pm.samples)\n",
    "        img = cv2.cvtColor(np.array(img), cv2.COLOR_RGB2BGR)\n",
    "        imgs.append(img)\n",
    "for idx in range(len(result)):\n",
    "    res = result[idx]\n",
    "    image = imgs[idx]\n",
    "    boxes = [line[0] for line in res]\n",
    "    txts = [line[1][0] for line in res]\n",
    "    scores = [line[1][1] for line in res]\n",
    "    im_show = draw_ocr(image, boxes, txts, scores, font_path='doc/fonts/simfang.ttf')\n",
    "    im_show = Image.fromarray(im_show)\n",
    "    im_show.save('result_page_{}.jpg'.format(idx))"
   ],
   "metadata": {
    "collapsed": false
   },
   "id": "996c7b2894ba2ace",
   "execution_count": null
  },
  {
   "cell_type": "code",
   "outputs": [],
   "source": [],
   "metadata": {
    "collapsed": false
   },
   "id": "e27f1a8574705f47"
  }
 ],
 "metadata": {
  "kernelspec": {
   "display_name": "Python 3",
   "language": "python",
   "name": "python3"
  },
  "language_info": {
   "codemirror_mode": {
    "name": "ipython",
    "version": 2
   },
   "file_extension": ".py",
   "mimetype": "text/x-python",
   "name": "python",
   "nbconvert_exporter": "python",
   "pygments_lexer": "ipython2",
   "version": "2.7.6"
  }
 },
 "nbformat": 4,
 "nbformat_minor": 5
}
