{
 "cells": [
  {
   "cell_type": "code",
   "execution_count": 3,
   "id": "initial_id",
   "metadata": {
    "collapsed": true,
    "ExecuteTime": {
     "end_time": "2024-03-01T21:54:34.150555900Z",
     "start_time": "2024-03-01T21:54:34.135618400Z"
    }
   },
   "outputs": [
    {
     "data": {
      "text/plain": "True"
     },
     "execution_count": 3,
     "metadata": {},
     "output_type": "execute_result"
    }
   ],
   "source": [
    "import os\n",
    "from dotenv import load_dotenv, find_dotenv\n",
    "from pprint import pprint, pformat\n",
    "import fitz  # Import the PyMuPDF library\n",
    "\n",
    "from langchain import hub\n",
    "from langchain_openai  import ChatOpenAI, OpenAIEmbeddings\n",
    "from langchain.schema import AIMessage, HumanMessage, SystemMessage, Document\n",
    "from langchain.vectorstores import Chroma\n",
    "from langchain_core.output_parsers import StrOutputParser\n",
    "from langchain_core.runnables import RunnablePassthrough\n",
    "\n",
    "import tiktoken\n",
    "\n",
    "from langchain.agents.agent_types import AgentType\n",
    "from langchain_experimental.agents.agent_toolkits import create_csv_agent\n",
    "from langchain_openai import ChatOpenAI, OpenAI\n",
    "\n",
    "load_dotenv(find_dotenv())"
   ]
  },
  {
   "cell_type": "raw",
   "source": [],
   "metadata": {
    "collapsed": false
   },
   "id": "e935851b9bde7bf8"
  },
  {
   "cell_type": "markdown",
   "source": [
    "# Parse CSV"
   ],
   "metadata": {
    "collapsed": false
   },
   "id": "dce6ebf86c5b9c8a"
  },
  {
   "cell_type": "code",
   "outputs": [
    {
     "name": "stdout",
     "output_type": "stream",
     "text": [
      "Table 1 saved to data/pdfs\\Yash Paystub Nov 17 2023_extracted\\Table_1.csv\n",
      "Table 2 saved to data/pdfs\\Yash Paystub Nov 17 2023_extracted\\Table_2.csv\n",
      "Table 3 saved to data/pdfs\\Yash Paystub Nov 17 2023_extracted\\Table_3.csv\n",
      "Table 4 saved to data/pdfs\\Yash Paystub Nov 17 2023_extracted\\Table_4.csv\n",
      "Table 5 saved to data/pdfs\\Yash Paystub Nov 17 2023_extracted\\Table_5.csv\n",
      "Table 6 saved to data/pdfs\\Yash Paystub Nov 17 2023_extracted\\Table_6.csv\n",
      "Table 7 saved to data/pdfs\\Yash Paystub Nov 17 2023_extracted\\Table_7.csv\n",
      "Table 8 saved to data/pdfs\\Yash Paystub Nov 17 2023_extracted\\Table_8.csv\n",
      "Table 9 saved to data/pdfs\\Yash Paystub Nov 17 2023_extracted\\Table_9.csv\n",
      "Table 10 saved to data/pdfs\\Yash Paystub Nov 17 2023_extracted\\Table_10.csv\n"
     ]
    }
   ],
   "source": [
    "import csv\n",
    "import os\n",
    "\n",
    "def extract_tables(csv_file_path):\n",
    "    # Extract directory and base name without extension\n",
    "    csv_directory = os.path.dirname(csv_file_path)\n",
    "    csv_base_name = os.path.basename(csv_file_path)\n",
    "    csv_name_without_ext = os.path.splitext(csv_base_name)[0]\n",
    "\n",
    "    # Create output folder path\n",
    "    output_folder = os.path.join(csv_directory, csv_name_without_ext)\n",
    "\n",
    "    # Ensure the output folder exists\n",
    "    if not os.path.exists(output_folder):\n",
    "        os.makedirs(output_folder)\n",
    "\n",
    "    # Initialize variables\n",
    "    current_table_number = 0\n",
    "    current_table_lines = []\n",
    "    table_started = False\n",
    "    table_paths = []  # Initialize an empty list to store file paths\n",
    "\n",
    "    # Read the CSV file\n",
    "    with open(csv_file_path, 'r', newline='') as file:\n",
    "        reader = csv.reader(file)\n",
    "        for row in reader:\n",
    "            # Convert row list to string to check if it's a table header\n",
    "            row_str = ','.join(row)\n",
    "            if row_str.startswith('TABLE '):\n",
    "                # If we're already in a table, save the current table\n",
    "                if table_started:\n",
    "                    path = save_table(current_table_lines, current_table_number, output_folder)\n",
    "                    table_paths.append(path)  # Add the path to the list\n",
    "                    current_table_lines = []  # Reset for the next table\n",
    "                current_table_number += 1\n",
    "                table_started = True  # Start a new table\n",
    "            elif table_started:\n",
    "                # Add row to current table\n",
    "                current_table_lines.append(row)\n",
    "\n",
    "    # Save the last table after file ends\n",
    "    if table_started:\n",
    "        save_table(current_table_lines, current_table_number, output_folder)\n",
    "        table_paths.append(path)  # Add the path to the list\n",
    "        \n",
    "    return table_paths\n",
    "\n",
    "def save_table(table_lines, table_number, output_folder):\n",
    "    output_file_path = os.path.join(output_folder, f\"Table_{table_number}.csv\")\n",
    "\n",
    "    # Check if the first row is empty or contains only commas\n",
    "    if not any(table_lines[0]) or all(cell == '' for cell in table_lines[0]):\n",
    "        table_lines = table_lines[1:]  # Remove the first row if it's empty\n",
    "\n",
    "    with open(output_file_path, 'w', newline='') as file:\n",
    "        writer = csv.writer(file)\n",
    "        writer.writerows(table_lines)\n",
    "    print(f\"Table {table_number} saved to {output_file_path}\")\n",
    "    return output_file_path  # Return the path to the saved file\n",
    "\n",
    "# Example usage\n",
    "csv_file_path = 'data/pdfs/Yash Paystub Nov 17 2023_extracted.csv'\n",
    "table_paths = extract_tables(csv_file_path)"
   ],
   "metadata": {
    "collapsed": false,
    "ExecuteTime": {
     "end_time": "2024-03-01T22:40:44.245868200Z",
     "start_time": "2024-03-01T22:40:44.233107500Z"
    }
   },
   "id": "590a809d2e8894b4",
   "execution_count": 37
  },
  {
   "cell_type": "code",
   "outputs": [
    {
     "name": "stdout",
     "output_type": "stream",
     "text": [
      "['Underwriting/data\\\\Table_1.csv', 'Underwriting/data\\\\Table_2.csv', 'Underwriting/data\\\\Table_3.csv', 'Underwriting/data\\\\Table_4.csv', 'Underwriting/data\\\\Table_5.csv', 'Underwriting/data\\\\Table_6.csv', 'Underwriting/data\\\\Table_7.csv', 'Underwriting/data\\\\Table_8.csv', 'Underwriting/data\\\\Table_9.csv', 'Underwriting/data\\\\Table_9.csv']\n"
     ]
    }
   ],
   "source": [
    "print(table_paths)"
   ],
   "metadata": {
    "collapsed": false,
    "ExecuteTime": {
     "end_time": "2024-03-01T22:26:22.986846Z",
     "start_time": "2024-03-01T22:26:22.977476900Z"
    }
   },
   "id": "9e193474a11f1c98",
   "execution_count": 22
  },
  {
   "cell_type": "code",
   "outputs": [],
   "source": [
    "# agent = create_csv_agent(\n",
    "#     OpenAI(temperature=0),\n",
    "#     \"data/data.csv\",\n",
    "#     verbose=True,\n",
    "#     agent_type=AgentType.ZERO_SHOT_REACT_DESCRIPTION,\n",
    "# )\n",
    "\n",
    "# chat_agent = create_csv_agent(\n",
    "#     ChatOpenAI(temperature=0, model=\"gpt-3.5-turbo-0613\"),\n",
    "#     \"data/data.csv\",\n",
    "#     verbose=True,\n",
    "#     agent_type=AgentType.OPENAI_FUNCTIONS,\n",
    "# )\n",
    "\n",
    "multi_chat_agent = create_csv_agent(\n",
    "    ChatOpenAI(temperature=0, model=\"gpt-3.5-turbo-0613\"),\n",
    "    table_paths,\n",
    "    verbose=True,\n",
    "    agent_type=AgentType.OPENAI_FUNCTIONS,\n",
    ")"
   ],
   "metadata": {
    "collapsed": false,
    "ExecuteTime": {
     "end_time": "2024-03-01T22:26:24.794546Z",
     "start_time": "2024-03-01T22:26:24.733950Z"
    }
   },
   "id": "1bf68785454d4029",
   "execution_count": 23
  },
  {
   "cell_type": "code",
   "outputs": [
    {
     "name": "stdout",
     "output_type": "stream",
     "text": [
      "\n",
      "\n",
      "\u001B[1m> Entering new AgentExecutor chain...\u001B[0m\n",
      "\u001B[32;1m\u001B[1;3m\n",
      "Invoking: `python_repl_ast` with `{'query': \"df2['Base Salary'].values[0]\"}`\n",
      "\n",
      "\n",
      "\u001B[0m\u001B[36;1m\u001B[1;3m105,000.00\u001B[0m\u001B[32;1m\u001B[1;3mThe base salary is $105,000.00.\u001B[0m\n",
      "\n",
      "\u001B[1m> Finished chain.\u001B[0m\n"
     ]
    },
    {
     "data": {
      "text/plain": "'The base salary is $105,000.00.'"
     },
     "execution_count": 24,
     "metadata": {},
     "output_type": "execute_result"
    }
   ],
   "source": [
    "multi_chat_agent.run(\"What is the base salary?\")"
   ],
   "metadata": {
    "collapsed": false,
    "ExecuteTime": {
     "end_time": "2024-03-01T22:26:27.997590600Z",
     "start_time": "2024-03-01T22:26:25.597408600Z"
    }
   },
   "id": "634a52c870093c37",
   "execution_count": 24
  },
  {
   "cell_type": "code",
   "outputs": [],
   "source": [],
   "metadata": {
    "collapsed": false
   },
   "id": "749a1e4f8a7eeb8b"
  }
 ],
 "metadata": {
  "kernelspec": {
   "display_name": "Python 3",
   "language": "python",
   "name": "python3"
  },
  "language_info": {
   "codemirror_mode": {
    "name": "ipython",
    "version": 2
   },
   "file_extension": ".py",
   "mimetype": "text/x-python",
   "name": "python",
   "nbconvert_exporter": "python",
   "pygments_lexer": "ipython2",
   "version": "2.7.6"
  }
 },
 "nbformat": 4,
 "nbformat_minor": 5
}
