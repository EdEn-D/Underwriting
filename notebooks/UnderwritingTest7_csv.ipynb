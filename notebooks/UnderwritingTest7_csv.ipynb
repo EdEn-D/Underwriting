{
 "cells": [
  {
   "cell_type": "code",
   "execution_count": 17,
   "id": "initial_id",
   "metadata": {
    "collapsed": true,
    "ExecuteTime": {
     "end_time": "2024-03-24T14:01:39.329087500Z",
     "start_time": "2024-03-24T14:01:39.238796500Z"
    }
   },
   "outputs": [
    {
     "data": {
      "text/plain": "True"
     },
     "execution_count": 17,
     "metadata": {},
     "output_type": "execute_result"
    }
   ],
   "source": [
    "import os\n",
    "from dotenv import load_dotenv, find_dotenv\n",
    "from pprint import pprint, pformat\n",
    "import fitz  # Import the PyMuPDF library\n",
    "import csv\n",
    "import pandas as pd\n",
    "from langchain import hub\n",
    "from langchain_openai  import ChatOpenAI, OpenAIEmbeddings\n",
    "from langchain.schema import AIMessage, HumanMessage, SystemMessage, Document\n",
    "from langchain.vectorstores import Chroma\n",
    "from langchain_core.output_parsers import StrOutputParser\n",
    "from langchain_core.runnables import RunnablePassthrough\n",
    "\n",
    "import tiktoken\n",
    "\n",
    "from langchain.agents.agent_types import AgentType\n",
    "from langchain_experimental.agents.agent_toolkits import create_csv_agent, create_pandas_dataframe_agent\n",
    "from langchain_openai import ChatOpenAI, OpenAI\n",
    "\n",
    "from nanonets import NANONETSOCR\n",
    "\n",
    "\n",
    "load_dotenv(find_dotenv())"
   ]
  },
  {
   "cell_type": "markdown",
   "source": [
    "### Global variables"
   ],
   "metadata": {
    "collapsed": false
   },
   "id": "2935050485d80931"
  },
  {
   "cell_type": "code",
   "outputs": [],
   "source": [
    "input_file = r\"N:\\Dev\\AI\\Underwriting\\data\\clients\\Safia Seyed\\Safia Seyed Paystub.pdf\"\n",
    "# Extracted tables:\n",
    "extracted_csvs_path = os.path.join(os.path.dirname(input_file), os.path.splitext(os.path.basename(input_file))[0] + \" extracted_tables\")\n",
    "os.makedirs(extracted_csvs_path, exist_ok=True)\n",
    "nano_extracted_tables_csv_path = os.path.join(extracted_csvs_path, os.path.splitext(os.path.basename(input_file))[0] + \"_extracted_tables.csv\" )"
   ],
   "metadata": {
    "collapsed": false,
    "ExecuteTime": {
     "end_time": "2024-03-24T14:01:40.300086700Z",
     "start_time": "2024-03-24T14:01:40.243246500Z"
    }
   },
   "id": "d1d23b00c80cc7b1",
   "execution_count": 18
  },
  {
   "cell_type": "markdown",
   "source": [
    "# Nanonets OCR"
   ],
   "metadata": {
    "collapsed": false
   },
   "id": "9cdb9d15ab1a82f2"
  },
  {
   "cell_type": "code",
   "outputs": [],
   "source": [
    "# model = NANONETSOCR()\n",
    "# model.set_token(os.getenv(\"NANONESTS_TABLE_MODEL_TOKEN\"))"
   ],
   "metadata": {
    "collapsed": false,
    "ExecuteTime": {
     "end_time": "2024-03-24T14:01:41.605429800Z",
     "start_time": "2024-03-24T14:01:41.599202400Z"
    }
   },
   "id": "815568616691eebc",
   "execution_count": 19
  },
  {
   "cell_type": "code",
   "outputs": [],
   "source": [
    "# model.convert_to_csv(input_file, output_file_name=nano_extracted_tables_csv_path)"
   ],
   "metadata": {
    "collapsed": false,
    "ExecuteTime": {
     "end_time": "2024-03-24T14:01:41.900917400Z",
     "start_time": "2024-03-24T14:01:41.893402600Z"
    }
   },
   "id": "78e794547daeaade",
   "execution_count": 20
  },
  {
   "cell_type": "markdown",
   "source": [
    "# Parse CSV"
   ],
   "metadata": {
    "collapsed": false
   },
   "id": "dce6ebf86c5b9c8a"
  },
  {
   "cell_type": "code",
   "outputs": [],
   "source": [
    "def extract_tables_to_csv(csv_file_path, output_path):\n",
    "    # Extract directory and base name without extension\n",
    "    csv_directory = os.path.dirname(csv_file_path)\n",
    "    csv_base_name = os.path.basename(csv_file_path)\n",
    "    csv_name_without_ext = os.path.splitext(csv_base_name)[0]\n",
    "\n",
    "    # Create output folder path\n",
    "    output_folder = output_path#os.path.join(csv_directory, csv_name_without_ext)\n",
    "\n",
    "    # Ensure the output folder exists\n",
    "    if not os.path.exists(output_folder):\n",
    "        os.makedirs(output_folder)\n",
    "\n",
    "    # Initialize variables\n",
    "    current_table_number = 0\n",
    "    current_table_lines = []\n",
    "    table_started = False\n",
    "    table_paths = []  # Initialize an empty list to store file paths\n",
    "\n",
    "    # Read the CSV file\n",
    "    with open(csv_file_path, 'r', newline='') as file:\n",
    "        reader = csv.reader(file)\n",
    "        for row in reader:\n",
    "            # Convert row list to string to check if it's a table header\n",
    "            row_str = ','.join(row)\n",
    "            if row_str.startswith('TABLE '):\n",
    "                # If we're already in a table, save the current table\n",
    "                if table_started:\n",
    "                    path = save_table(current_table_lines, current_table_number, output_folder)\n",
    "                    table_paths.append(path)  # Add the path to the list\n",
    "                    current_table_lines = []  # Reset for the next table\n",
    "                current_table_number += 1\n",
    "                table_started = True  # Start a new table\n",
    "            elif table_started:\n",
    "                # Add row to current table\n",
    "                current_table_lines.append(row)\n",
    "\n",
    "    # Save the last table after file ends\n",
    "    if table_started:\n",
    "        save_table(current_table_lines, current_table_number, output_folder)\n",
    "        table_paths.append(path)  # Add the path to the list\n",
    "        \n",
    "    return table_paths\n",
    "\n",
    "def save_table(table_lines, table_number, output_folder):\n",
    "    output_file_path = os.path.join(output_folder, f\"Table_{table_number}.csv\")\n",
    "\n",
    "    # Check if the first row is empty or contains only commas\n",
    "    if not any(table_lines[0]) or all(cell == '' for cell in table_lines[0]):\n",
    "        table_lines = table_lines[1:]  # Remove the first row if it's empty\n",
    "\n",
    "    with open(output_file_path, 'w', newline='') as file:\n",
    "        writer = csv.writer(file)\n",
    "        writer.writerows(table_lines)\n",
    "    print(f\"Table {table_number} saved to {output_file_path}\")\n",
    "    return output_file_path  # Return the path to the saved file\n",
    "\n",
    "def extract_tables_to_dfs(csv_file_path):\n",
    "    # Initialize variables\n",
    "    current_table_number = 0\n",
    "    current_table_lines = []\n",
    "    table_started = False\n",
    "    dfs = []  # Initialize an empty list to store DataFrames\n",
    "\n",
    "    # Read the CSV file\n",
    "    with open(csv_file_path, 'r', newline='') as file:\n",
    "        reader = csv.reader(file)\n",
    "        for row in reader:\n",
    "            # Check if it's a table header\n",
    "            row_str = ','.join(row)\n",
    "            if row_str.startswith('TABLE '):\n",
    "                # If we're already in a table, convert the current table to a DataFrame\n",
    "                if table_started:\n",
    "                    df = pd.DataFrame(current_table_lines[1:], columns=current_table_lines[0])\n",
    "                    dfs.append(df)\n",
    "                    current_table_lines = []  # Reset for the next table\n",
    "                current_table_number += 1\n",
    "                table_started = True  # Start a new table\n",
    "            elif table_started:\n",
    "                # Add row to current table\n",
    "                current_table_lines.append(row)\n",
    "\n",
    "    # Convert the last table to a DataFrame after file ends, if any\n",
    "    if table_started:\n",
    "        df = pd.DataFrame(current_table_lines[1:], columns=current_table_lines[0])\n",
    "        dfs.append(df)\n",
    "\n",
    "    return dfs\n",
    "\n",
    "def extract_text_from_pdf(pdf_path):\n",
    "    doc = fitz.open(pdf_path)\n",
    "    text = ''\n",
    "    for page in doc:\n",
    "        text += page.get_text()\n",
    "    doc.close()\n",
    "\n",
    "    return text"
   ],
   "metadata": {
    "collapsed": false,
    "ExecuteTime": {
     "end_time": "2024-03-24T14:01:43.074191700Z",
     "start_time": "2024-03-24T14:01:43.061163Z"
    }
   },
   "id": "590a809d2e8894b4",
   "execution_count": 21
  },
  {
   "cell_type": "code",
   "outputs": [
    {
     "name": "stdout",
     "output_type": "stream",
     "text": [
      "Table 1 saved to N:\\Dev\\AI\\Underwriting\\data\\clients\\Safia Seyed\\Safia Seyed Paystub extracted_tables\\Table_1.csv\n",
      "Table 2 saved to N:\\Dev\\AI\\Underwriting\\data\\clients\\Safia Seyed\\Safia Seyed Paystub extracted_tables\\Table_2.csv\n",
      "Table 3 saved to N:\\Dev\\AI\\Underwriting\\data\\clients\\Safia Seyed\\Safia Seyed Paystub extracted_tables\\Table_3.csv\n",
      "Table 4 saved to N:\\Dev\\AI\\Underwriting\\data\\clients\\Safia Seyed\\Safia Seyed Paystub extracted_tables\\Table_4.csv\n",
      "Table 5 saved to N:\\Dev\\AI\\Underwriting\\data\\clients\\Safia Seyed\\Safia Seyed Paystub extracted_tables\\Table_5.csv\n",
      "Table 6 saved to N:\\Dev\\AI\\Underwriting\\data\\clients\\Safia Seyed\\Safia Seyed Paystub extracted_tables\\Table_6.csv\n"
     ]
    }
   ],
   "source": [
    "# Example usage\n",
    "# csv_file_path = 'data/pdfs/Yash Paystub Nov 17 2023_extracted.csv'\n",
    "# csv_file_path = r'N:\\Dev\\AI\\Underwriting\\output3.csv'\n",
    "table_paths = extract_tables_to_csv(nano_extracted_tables_csv_path, extracted_csvs_path)\n",
    "table_dfs = extract_tables_to_dfs(nano_extracted_tables_csv_path)\n",
    "table_text = extract_text_from_pdf(input_file)"
   ],
   "metadata": {
    "collapsed": false,
    "ExecuteTime": {
     "end_time": "2024-03-24T14:48:04.588211200Z",
     "start_time": "2024-03-24T14:48:04.555616900Z"
    }
   },
   "id": "342895008cb87511",
   "execution_count": 32
  },
  {
   "cell_type": "code",
   "outputs": [
    {
     "name": "stdout",
     "output_type": "stream",
     "text": [
      "['N:\\\\Dev\\\\AI\\\\Underwriting\\\\data\\\\clients\\\\Safia Seyed\\\\Safia Seyed Paystub extracted_tables\\\\Table_1.csv', 'N:\\\\Dev\\\\AI\\\\Underwriting\\\\data\\\\clients\\\\Safia Seyed\\\\Safia Seyed Paystub extracted_tables\\\\Table_2.csv', 'N:\\\\Dev\\\\AI\\\\Underwriting\\\\data\\\\clients\\\\Safia Seyed\\\\Safia Seyed Paystub extracted_tables\\\\Table_3.csv', 'N:\\\\Dev\\\\AI\\\\Underwriting\\\\data\\\\clients\\\\Safia Seyed\\\\Safia Seyed Paystub extracted_tables\\\\Table_4.csv', 'N:\\\\Dev\\\\AI\\\\Underwriting\\\\data\\\\clients\\\\Safia Seyed\\\\Safia Seyed Paystub extracted_tables\\\\Table_5.csv', 'N:\\\\Dev\\\\AI\\\\Underwriting\\\\data\\\\clients\\\\Safia Seyed\\\\Safia Seyed Paystub extracted_tables\\\\Table_5.csv']\n"
     ]
    }
   ],
   "source": [
    "print(table_paths)"
   ],
   "metadata": {
    "collapsed": false,
    "ExecuteTime": {
     "end_time": "2024-03-24T14:01:47.726046500Z",
     "start_time": "2024-03-24T14:01:47.707796Z"
    }
   },
   "id": "9e193474a11f1c98",
   "execution_count": 23
  },
  {
   "cell_type": "code",
   "outputs": [
    {
     "data": {
      "text/plain": "                                                                            \n0              STATEMENT  OF\\nBULLETIN DE   EARNINGS\\nPAIE                  \n1    TYPE  HOURS\\nHEURES       RATE\\nTAUX  AMOUNT\\nMONTANT  Y.T.D.\\nA JOUR  \n2  SALARY                                         2.591,88       15.551,28  \n3                                                                           \n4                                                                           ",
      "text/html": "<div>\n<style scoped>\n    .dataframe tbody tr th:only-of-type {\n        vertical-align: middle;\n    }\n\n    .dataframe tbody tr th {\n        vertical-align: top;\n    }\n\n    .dataframe thead th {\n        text-align: right;\n    }\n</style>\n<table border=\"1\" class=\"dataframe\">\n  <thead>\n    <tr style=\"text-align: right;\">\n      <th></th>\n      <th></th>\n      <th></th>\n      <th></th>\n      <th></th>\n      <th></th>\n      <th></th>\n    </tr>\n  </thead>\n  <tbody>\n    <tr>\n      <th>0</th>\n      <td></td>\n      <td>STATEMENT</td>\n      <td>OF\\nBULLETIN DE</td>\n      <td>EARNINGS\\nPAIE</td>\n      <td></td>\n      <td></td>\n    </tr>\n    <tr>\n      <th>1</th>\n      <td>TYPE</td>\n      <td>HOURS\\nHEURES</td>\n      <td>RATE\\nTAUX</td>\n      <td>AMOUNT\\nMONTANT</td>\n      <td>Y.T.D.\\nA JOUR</td>\n      <td></td>\n    </tr>\n    <tr>\n      <th>2</th>\n      <td>SALARY</td>\n      <td></td>\n      <td></td>\n      <td>2.591,88</td>\n      <td>15.551,28</td>\n      <td></td>\n    </tr>\n    <tr>\n      <th>3</th>\n      <td></td>\n      <td></td>\n      <td></td>\n      <td></td>\n      <td></td>\n      <td></td>\n    </tr>\n    <tr>\n      <th>4</th>\n      <td></td>\n      <td></td>\n      <td></td>\n      <td></td>\n      <td></td>\n      <td></td>\n    </tr>\n  </tbody>\n</table>\n</div>"
     },
     "execution_count": 24,
     "metadata": {},
     "output_type": "execute_result"
    }
   ],
   "source": [
    "table_dfs[0]"
   ],
   "metadata": {
    "collapsed": false,
    "ExecuteTime": {
     "end_time": "2024-03-24T14:01:49.213228Z",
     "start_time": "2024-03-24T14:01:49.199122500Z"
    }
   },
   "id": "c0c0458fc26dae55",
   "execution_count": 24
  },
  {
   "cell_type": "code",
   "outputs": [],
   "source": [
    "model = \"gpt-4-turbo-preview\"\n",
    "\n",
    "dfs_chat_agent = create_pandas_dataframe_agent(\n",
    "    ChatOpenAI(temperature=0, model=model), \n",
    "    table_dfs, \n",
    "    verbose=True,\n",
    "    agent_type=AgentType.OPENAI_FUNCTIONS,\n",
    ")\n",
    "\n",
    "csv_chat_agent = create_csv_agent(\n",
    "    ChatOpenAI(temperature=0, model=model),\n",
    "    table_paths,\n",
    "    verbose=True,\n",
    "    agent_type=AgentType.OPENAI_FUNCTIONS,\n",
    ")\n",
    "\n",
    "text_chat = ChatOpenAI(temperature=0, model=model)\n",
    "prompt = f'''\n",
    "The text below is extracted from financial payslips, answer the question based on the text provided.\n",
    "Text:\n",
    "f{table_text}\n",
    "\n",
    "Question:\n",
    "\n",
    "'''"
   ],
   "metadata": {
    "collapsed": false,
    "ExecuteTime": {
     "end_time": "2024-03-24T14:09:38.680080300Z",
     "start_time": "2024-03-24T14:09:38.601970400Z"
    }
   },
   "id": "1bf68785454d4029",
   "execution_count": 26
  },
  {
   "cell_type": "code",
   "outputs": [],
   "source": [
    "question = \"What is the base salary and what is the YTD earnings?\""
   ],
   "metadata": {
    "collapsed": false,
    "ExecuteTime": {
     "end_time": "2024-03-23T12:06:34.895852100Z",
     "start_time": "2024-03-23T12:06:34.880325500Z"
    }
   },
   "id": "5bf88eb0e3902bcb",
   "execution_count": 11
  },
  {
   "cell_type": "code",
   "outputs": [
    {
     "name": "stdout",
     "output_type": "stream",
     "text": [
      "\n",
      "\n",
      "\u001B[1m> Entering new AgentExecutor chain...\u001B[0m\n",
      "\u001B[32;1m\u001B[1;3m\n",
      "Invoking: `python_repl_ast` with `{'query': 'df1'}`\n",
      "\n",
      "\n",
      "\u001B[0m\u001B[36;1m\u001B[1;3m  Unnamed: 0      STATEMENT OF\\nBULLETIN DE   EARNINGS\\nPAIE      Unnamed: 4  \\\n",
      "0       TYPE  HOURS\\nHEURES      RATE\\nTAUX  AMOUNT\\nMONTANT  Y.T.D.\\nA JOUR   \n",
      "1     SALARY            NaN             NaN         2.591,88       15.551,28   \n",
      "2        NaN            NaN             NaN              NaN             NaN   \n",
      "3        NaN            NaN             NaN              NaN             NaN   \n",
      "\n",
      "   Unnamed: 5  \n",
      "0         NaN  \n",
      "1         NaN  \n",
      "2         NaN  \n",
      "3         NaN  \u001B[0m\u001B[32;1m\u001B[1;3mThe base salary is 2,591.88, and the Year-To-Date (YTD) earnings are 15,551.28.\u001B[0m\n",
      "\n",
      "\u001B[1m> Finished chain.\u001B[0m\n"
     ]
    },
    {
     "data": {
      "text/plain": "'The base salary is 2,591.88, and the Year-To-Date (YTD) earnings are 15,551.28.'"
     },
     "execution_count": 41,
     "metadata": {},
     "output_type": "execute_result"
    }
   ],
   "source": [
    "csv_chat_agent.run(question)"
   ],
   "metadata": {
    "collapsed": false,
    "ExecuteTime": {
     "end_time": "2024-03-24T14:57:46.233431400Z",
     "start_time": "2024-03-24T14:57:42.030700600Z"
    }
   },
   "id": "634a52c870093c37",
   "execution_count": 41
  },
  {
   "cell_type": "code",
   "outputs": [
    {
     "name": "stdout",
     "output_type": "stream",
     "text": [
      "\n",
      "\n",
      "\u001B[1m> Entering new AgentExecutor chain...\u001B[0m\n",
      "\u001B[32;1m\u001B[1;3m\n",
      "Invoking: `python_repl_ast` with `{'query': 'df1.head()'}`\n",
      "\n",
      "\n",
      "\u001B[0m\u001B[36;1m\u001B[1;3m                                                                            \n",
      "0              STATEMENT  OF\\nBULLETIN DE   EARNINGS\\nPAIE                  \n",
      "1    TYPE  HOURS\\nHEURES       RATE\\nTAUX  AMOUNT\\nMONTANT  Y.T.D.\\nA JOUR  \n",
      "2  SALARY                                         2.591,88       15.551,28  \n",
      "3                                                                           \n",
      "4                                                                           \u001B[0m\u001B[32;1m\u001B[1;3mThe base salary is 2,591.88, and the Year-To-Date (YTD) earnings are 15,551.28.\u001B[0m\n",
      "\n",
      "\u001B[1m> Finished chain.\u001B[0m\n"
     ]
    },
    {
     "data": {
      "text/plain": "'The base salary is 2,591.88, and the Year-To-Date (YTD) earnings are 15,551.28.'"
     },
     "execution_count": 42,
     "metadata": {},
     "output_type": "execute_result"
    }
   ],
   "source": [
    "dfs_chat_agent.run(question)"
   ],
   "metadata": {
    "collapsed": false,
    "ExecuteTime": {
     "end_time": "2024-03-24T14:57:51.631877100Z",
     "start_time": "2024-03-24T14:57:46.235436100Z"
    }
   },
   "id": "eafd82760b042545",
   "execution_count": 42
  },
  {
   "cell_type": "code",
   "outputs": [
    {
     "data": {
      "text/plain": "AIMessage(content='The base salary for the period is $2,591.88, and the Year-To-Date (YTD) earnings are $15,551.28.')"
     },
     "execution_count": 14,
     "metadata": {},
     "output_type": "execute_result"
    }
   ],
   "source": [
    "text_chat.invoke(prompt + question)"
   ],
   "metadata": {
    "collapsed": false,
    "ExecuteTime": {
     "end_time": "2024-03-23T12:06:45.962935100Z",
     "start_time": "2024-03-23T12:06:44.094033500Z"
    }
   },
   "id": "749a1e4f8a7eeb8b",
   "execution_count": 14
  },
  {
   "cell_type": "code",
   "outputs": [
    {
     "data": {
      "text/plain": "AIMessage(content='The start and end period of this payslip are from 2023/10/01 to 2023/10/15.')"
     },
     "execution_count": 15,
     "metadata": {},
     "output_type": "execute_result"
    }
   ],
   "source": [
    "text_chat.invoke(prompt + \"What is the start and end period of this payslip?\")"
   ],
   "metadata": {
    "collapsed": false,
    "ExecuteTime": {
     "end_time": "2024-03-23T12:06:47.954986100Z",
     "start_time": "2024-03-23T12:06:45.957921800Z"
    }
   },
   "id": "aaec612369fb9667",
   "execution_count": 15
  },
  {
   "cell_type": "code",
   "outputs": [
    {
     "data": {
      "text/plain": "{'runnable': {'name': None,\n  'first': {'name': None,\n   'mapper': {'name': None,\n    'steps': {'agent_scratchpad': RunnableLambda(lambda x: format_to_openai_function_messages(x['intermediate_steps']))}}},\n  'middle': [{'name': None,\n    'input_variables': ['agent_scratchpad', 'input'],\n    'input_types': {'agent_scratchpad': typing.List[typing.Union[langchain_core.messages.ai.AIMessage, langchain_core.messages.human.HumanMessage, langchain_core.messages.chat.ChatMessage, langchain_core.messages.system.SystemMessage, langchain_core.messages.function.FunctionMessage, langchain_core.messages.tool.ToolMessage]]},\n    'output_parser': None,\n    'partial_variables': {},\n    'metadata': None,\n    'tags': None,\n    'messages': [{'content': \"\\nYou are working with 6 pandas dataframes in Python named df1, df2, etc.\\nThis is the result of `print(df.head())` for each dataframe:\\n|    |        |           |             |          |           |    |\\n|---:|:-------|:----------|:------------|:---------|:----------|:---|\\n|  0 |        | STATEMENT | OF          | EARNINGS |           |    |\\n|    |        |           | BULLETIN DE | PAIE     |           |    |\\n|  1 | TYPE   | HOURS     | RATE        | AMOUNT   | Y.T.D.    |    |\\n|    |        | HEURES    | TAUX        | MONTANT  | A JOUR    |    |\\n|  2 | SALARY |           |             | 2.591,88 | 15.551,28 |    |\\n|  3 |        |           |             |          |           |    |\\n|  4 |        |           |             |          |           |    |\\n\\n|    |         |             |                |             |               |        |\\n|---:|:--------|:------------|:---------------|:------------|:--------------|:-------|\\n|  0 |         | EMPLOYEE    | DEDUCTIONS AND | EMPLOYER    | CONTRIBUTIONS |        |\\n|    |         | RETENUES DE | L'EMPLOYE ET   | COTISATIONS | PATRONALES    |        |\\n|  1 | TYPE    | CURRENT     | Y.T.D.         | TYPE        | CURRENT       | Y.T.D. |\\n|    |         | COURANT     | A JOUR         |             | COURANT       | A JOUR |\\n|  2 | FED.TAX | 421.36      | 2.525.40       | *LIFE TB    | 8.43          | 42.15  |\\n|  3 | E.I.    | 44.78       | 268.68         | *CRIL TB    | 2.31          | 13.86  |\\n|  4 | C.P.P.  | 155.51      | 932.48         | *AD&D TB    | 1.33          | 6.65   |\\n\\n|    |              |            |            |            |                                    |    |\\n|---:|:-------------|:-----------|:-----------|:-----------|:-----------------------------------|:---|\\n|  0 | SUMMARY      | GROSS PAY  | DEDUCTIONS | NET PAY    | NET PAY ALLOCATION                 |    |\\n|    | SOMMAIRE     | PAIE BRUTE | RETENUES   | PAIE NETTE | DETAILS DE LA PAIE NETTE           |    |\\n|  1 | Current      | 2,591.88   | 703.86     | 1,888.02   | 1,888.02 DEPOSIT 004 10292 XXXX484 |    |\\n|    | Courant      |            |            |            |                                    |    |\\n|  2 | Year-to-date | 15,551.28  | 4,137.61   | 11,413.67  |                                    |    |\\n|    | Cumul annuel |            |            |            |                                    |    |\\n|  3 |              |            |            |            |                                    |    |\\n|  4 |              |            |            |            |                                    |    |\\n\\n|    |              |            |            |            |                                    |    |\\n|---:|:-------------|:-----------|:-----------|:-----------|:-----------------------------------|:---|\\n|  0 | SUMMARY      | GROSS PAY  | DEDUCTIONS | NET PAY    | NET PAY ALLOCATION                 |    |\\n|    | SOMMAIRE     | PAIE BRUTE | RETENUES   | PAIE NETTE | DETAILS DE LA PAIE NETTE           |    |\\n|  1 | Current      | 2,591.88   | 703.86     | 1,888.02   | 1,888.02 DEPOSIT 004 10292 XXXX484 |    |\\n|    | Courant      |            |            |            |                                    |    |\\n|  2 | Year-to-date | 12,959.40  | 3,433.75   | 9,525.65   |                                    |    |\\n|    | Cumul annuel |            |            |            |                                    |    |\\n|  3 |              |            |            |            |                                    |    |\\n|  4 |              |            |            |            |                                    |    |\\n\\n|    |        |        |      |          |           |    |\\n|---:|:-------|:-------|:-----|:---------|:----------|:---|\\n|  0 |        |        |      |          |           |    |\\n|  1 | TYPE   | HOURS  | RATE | AMOUNT   | Y.T.D.    |    |\\n|    |        | HEURES | TAUX | MONTANT  | A JOUR    |    |\\n|  2 | SALARY |        |      | 2.591,88 | 12.959,40 |    |\\n|  3 |        |        |      |          |           |    |\\n|  4 |        |        |      |          |           |    |\\n\\n|    |          |         |        |    |    |    |\\n|---:|:---------|:--------|:-------|:---|:---|:---|\\n|  0 | TYPE     | CURRENT | Y.T.D. |    |    |    |\\n|    |          | COURANT | A JOUR |    |    |    |\\n|  1 | *LIFE TB | 8.43    | 33.72  |    |    |    |\\n|  2 | *CRIL TB | 2.31    | 11.55  |    |    |    |\\n|  3 | *AD&D TB | 1.33    | 5.32   |    |    |    |\\n|  4 | *RRSPTB% | 155.51  | 777.55 |    |    |    |\",\n      'additional_kwargs': {},\n      'type': 'system',\n      'name': None,\n      'id': None},\n     {'prompt': {'name': None,\n       'input_variables': ['input'],\n       'input_types': {},\n       'output_parser': None,\n       'partial_variables': {},\n       'metadata': None,\n       'tags': None,\n       'template': '{input}',\n       'template_format': 'f-string',\n       'validate_template': False,\n       '_type': 'prompt'},\n      'additional_kwargs': {}},\n     {'variable_name': 'agent_scratchpad', 'optional': False}],\n    'validate_template': False,\n    '_type': 'chat'},\n   {'name': None,\n    'bound': {'model_name': 'gpt-4-turbo-preview',\n     'model': 'gpt-4-turbo-preview',\n     'stream': False,\n     'n': 1,\n     'temperature': 0.0,\n     '_type': 'openai-chat'},\n    'kwargs': {'functions': [{'name': 'python_repl_ast',\n       'description': 'A Python shell. Use this to execute python commands. Input should be a valid python command. When using this tool, sometimes output is abbreviated - make sure it does not look abbreviated before using it in your answer.',\n       'parameters': {'type': 'object',\n        'properties': {'query': {'description': 'code snippet to run',\n          'type': 'string'}},\n        'required': ['query']}}]},\n    'config': {},\n    'config_factories': [],\n    'custom_input_type': None,\n    'custom_output_type': None}],\n  'last': {'name': None, '_type': 'openai-functions-agent'}},\n 'input_keys_arg': ['input'],\n 'return_keys_arg': ['output']}"
     },
     "execution_count": 27,
     "metadata": {},
     "output_type": "execute_result"
    }
   ],
   "source": [
    "(dfs_chat_agent.agent.dict())"
   ],
   "metadata": {
    "collapsed": false,
    "ExecuteTime": {
     "end_time": "2024-03-24T14:09:45.619037900Z",
     "start_time": "2024-03-24T14:09:45.606013100Z"
    }
   },
   "id": "ff3365f134d06aa4",
   "execution_count": 27
  },
  {
   "cell_type": "markdown",
   "source": [
    "# Custom agents"
   ],
   "metadata": {
    "collapsed": false
   },
   "id": "e388a6e12f89edf1"
  },
  {
   "cell_type": "code",
   "outputs": [
    {
     "data": {
      "text/plain": "[SystemMessagePromptTemplate(prompt=PromptTemplate(input_variables=[], template='You are a helpful assistant')),\n MessagesPlaceholder(variable_name='chat_history', optional=True),\n HumanMessagePromptTemplate(prompt=PromptTemplate(input_variables=['input'], template='{input}')),\n MessagesPlaceholder(variable_name='agent_scratchpad')]"
     },
     "execution_count": 28,
     "metadata": {},
     "output_type": "execute_result"
    }
   ],
   "source": [
    "from langchain import hub\n",
    "\n",
    "# Get the prompt to use - you can modify this!\n",
    "prompt = hub.pull(\"hwchase17/openai-functions-agent\")\n",
    "prompt.messages"
   ],
   "metadata": {
    "collapsed": false,
    "ExecuteTime": {
     "end_time": "2024-03-24T14:30:32.802543400Z",
     "start_time": "2024-03-24T14:30:30.790427600Z"
    }
   },
   "id": "b5234a2cd52ec283",
   "execution_count": 28
  },
  {
   "cell_type": "markdown",
   "source": [
    "## Custom Tools"
   ],
   "metadata": {
    "collapsed": false
   },
   "id": "62b3b6aff138ea8d"
  },
  {
   "cell_type": "code",
   "outputs": [],
   "source": [
    "from langsmith import Client\n",
    "os.environ[\"LANGCHAIN_TRACING_V2\"] = \"true\"\n",
    "os.environ[\"LANGCHAIN_API_KEY\"] = os.getenv(\"LANGSMITH_API_KEY\")\n",
    "os.environ[\"LANGCHAIN_PROJECT\"] = f\"Underwriting project\"\n",
    "os.environ[\"LANGCHAIN_ENDPOINT\"] = \"https://api.smith.langchain.com\"\n",
    "client = Client()"
   ],
   "metadata": {
    "collapsed": false,
    "ExecuteTime": {
     "end_time": "2024-03-24T18:33:23.917143Z",
     "start_time": "2024-03-24T18:33:23.764758400Z"
    }
   },
   "id": "a3b53bad2cc21b9c",
   "execution_count": 115
  },
  {
   "cell_type": "code",
   "outputs": [],
   "source": [
    "# Import things that are needed generically\n",
    "from langchain.pydantic_v1 import BaseModel, Field\n",
    "from langchain.tools import BaseTool, StructuredTool, tool"
   ],
   "metadata": {
    "collapsed": false,
    "ExecuteTime": {
     "end_time": "2024-03-24T18:33:25.939506300Z",
     "start_time": "2024-03-24T18:33:25.910025800Z"
    }
   },
   "id": "54764f1e84452058",
   "execution_count": 116
  },
  {
   "cell_type": "code",
   "outputs": [],
   "source": [
    "llm = ChatOpenAI(temperature=0, model=model)\n",
    "\n",
    "from langchain.prompts import PromptTemplate\n",
    "\n",
    "text_searcher_prompt = PromptTemplate.from_template('''Search the following text which was extracted from a PDF document and gather the information requested by the query. The text might be structured oddly so deductive reasoning might be needed to get the relevant information.  \n",
    "\n",
    "Query:\n",
    "{query}\n",
    "\n",
    "Text:\n",
    "{text}\n",
    "'''\n",
    ")"
   ],
   "metadata": {
    "collapsed": false,
    "ExecuteTime": {
     "end_time": "2024-03-24T18:33:26.431580Z",
     "start_time": "2024-03-24T18:33:26.344585900Z"
    }
   },
   "id": "86515bbc5f0d57d2",
   "execution_count": 117
  },
  {
   "cell_type": "code",
   "outputs": [],
   "source": [
    "from typing import List\n",
    "\n",
    "\n",
    "# Add error handling\n",
    "\n",
    "@tool\n",
    "def text_searcher(query: str) -> str:\n",
    "    \"\"\"Given a query the text_searcher tool will search the text to gather the information requested in the query\"\"\"\n",
    "    \n",
    "    return llm.invoke(text_searcher_prompt.format(query=query, text=table_text))\n",
    "\n",
    "@tool\n",
    "def csv_searcher(query: str) -> str:\n",
    "    \"\"\"Given a query the csv_searcher tool will use the csv_chat_agent to search the structured tables and gather the information requested in the query\"\"\"\n",
    "    \n",
    "    return csv_chat_agent.run(query)\n",
    "\n",
    "tools = [text_searcher, csv_searcher]"
   ],
   "metadata": {
    "collapsed": false,
    "ExecuteTime": {
     "end_time": "2024-03-24T18:33:27.354159300Z",
     "start_time": "2024-03-24T18:33:27.321092100Z"
    }
   },
   "id": "a759a78d23d4a45c",
   "execution_count": 118
  },
  {
   "cell_type": "code",
   "outputs": [
    {
     "data": {
      "text/plain": "ChatPromptTemplate(input_variables=['agent_scratchpad', 'input'], input_types={'chat_history': typing.List[typing.Union[langchain_core.messages.ai.AIMessage, langchain_core.messages.human.HumanMessage, langchain_core.messages.chat.ChatMessage, langchain_core.messages.system.SystemMessage, langchain_core.messages.function.FunctionMessage, langchain_core.messages.tool.ToolMessage]], 'agent_scratchpad': typing.List[typing.Union[langchain_core.messages.ai.AIMessage, langchain_core.messages.human.HumanMessage, langchain_core.messages.chat.ChatMessage, langchain_core.messages.system.SystemMessage, langchain_core.messages.function.FunctionMessage, langchain_core.messages.tool.ToolMessage]]}, partial_variables={'chat_history': []}, messages=[SystemMessagePromptTemplate(prompt=PromptTemplate(input_variables=[], template=' You are an underwriting assistant who needs to extract and gather information from the provided documents. You must try to gather information from the structured CSV documents and varify them by searching the text directly. Some data might not be contained in the CSV files and should be gathered from the text.  \\n')), MessagesPlaceholder(variable_name='chat_history', optional=True), HumanMessagePromptTemplate(prompt=PromptTemplate(input_variables=['input'], template='{input}')), MessagesPlaceholder(variable_name='agent_scratchpad')])"
     },
     "execution_count": 119,
     "metadata": {},
     "output_type": "execute_result"
    }
   ],
   "source": [
    "from langchain_core.prompts import SystemMessagePromptTemplate, MessagesPlaceholder, HumanMessagePromptTemplate, \\\n",
    "    ChatPromptTemplate\n",
    "from pprint import pprint\n",
    "agent_system_message = ''' You are an underwriting assistant who needs to extract and gather information from the provided documents. You must try to gather information from the structured CSV documents and varify them by searching the text directly. Some data might not be contained in the CSV files and should be gathered from the text.  \n",
    "'''\n",
    "\n",
    "agent_messages = [\n",
    "    # SystemMessagePromptTemplate(prompt=PromptTemplate(input_variables=[], template=agent_system_message)),\n",
    " MessagesPlaceholder(variable_name='chat_history', optional=True),\n",
    " HumanMessagePromptTemplate(prompt=PromptTemplate(input_variables=['input'], template='{input}')),\n",
    " MessagesPlaceholder(variable_name='agent_scratchpad')\n",
    "]\n",
    "\n",
    "temp = ChatPromptTemplate.from_messages(\n",
    "    [\n",
    "        SystemMessagePromptTemplate(prompt=PromptTemplate(input_variables=[], template=agent_system_message)),\n",
    "        MessagesPlaceholder(variable_name='chat_history', optional=True),\n",
    "        HumanMessagePromptTemplate(prompt=PromptTemplate(input_variables=['input'], template='{input}')),\n",
    "        MessagesPlaceholder(variable_name='agent_scratchpad')\n",
    "    ]\n",
    ")\n",
    "\n",
    "temp\n",
    "# \n",
    "# [temp.append(message) for message in agent_messages]\n",
    "# temp\n",
    "\n",
    "# from langchain import hub\n",
    "# \n",
    "# # Get the prompt to use - you can modify this!\n",
    "# prompt = hub.pull(\"hwchase17/openai-functions-agent\")\n",
    "# prompt.messages[0].prompt"
   ],
   "metadata": {
    "collapsed": false,
    "ExecuteTime": {
     "end_time": "2024-03-24T18:33:27.644768900Z",
     "start_time": "2024-03-24T18:33:27.624743800Z"
    }
   },
   "id": "2474923b8cb1cfb9",
   "execution_count": 119
  },
  {
   "cell_type": "code",
   "outputs": [],
   "source": [
    "from langchain.agents.format_scratchpad.openai_tools import (\n",
    "    format_to_openai_tool_messages,\n",
    ")\n",
    "from langchain.agents.output_parsers.openai_tools import OpenAIToolsAgentOutputParser\n",
    "llm_with_tools = llm.bind_tools(tools)\n",
    "\n",
    "agent = (\n",
    "    {\n",
    "        \"input\": lambda x: x[\"input\"],\n",
    "        \"agent_scratchpad\": lambda x: format_to_openai_tool_messages(\n",
    "            x[\"intermediate_steps\"]\n",
    "        ),\n",
    "    }\n",
    "    | prompt\n",
    "    | llm_with_tools\n",
    "    | OpenAIToolsAgentOutputParser()\n",
    ")"
   ],
   "metadata": {
    "collapsed": false,
    "ExecuteTime": {
     "end_time": "2024-03-24T18:33:28.168268400Z",
     "start_time": "2024-03-24T18:33:28.144728900Z"
    }
   },
   "id": "ccbf609057b5ab61",
   "execution_count": 120
  },
  {
   "cell_type": "code",
   "outputs": [],
   "source": [
    "from langchain.agents import AgentExecutor\n",
    "\n",
    "agent_executor = AgentExecutor(agent=agent, tools=tools, verbose=True)"
   ],
   "metadata": {
    "collapsed": false,
    "ExecuteTime": {
     "end_time": "2024-03-24T18:33:28.708136Z",
     "start_time": "2024-03-24T18:33:28.680434400Z"
    }
   },
   "id": "60aec4cb2a22d29d",
   "execution_count": 121
  },
  {
   "cell_type": "code",
   "outputs": [
    {
     "name": "stdout",
     "output_type": "stream",
     "text": [
      "\n",
      "\n",
      "\u001B[1m> Entering new AgentExecutor chain...\u001B[0m\n",
      "\u001B[32;1m\u001B[1;3m\n",
      "Invoking: `csv_searcher` with `{'query': 'base salary'}`\n",
      "\n",
      "\n",
      "\u001B[0m\n",
      "\n",
      "\u001B[1m> Entering new AgentExecutor chain...\u001B[0m\n",
      "\u001B[32;1m\u001B[1;3m\n",
      "Invoking: `python_repl_ast` with `{'query': \"df1['EARNINGS'][1]\"}`\n",
      "\n",
      "\n",
      "\u001B[0m\u001B[36;1m\u001B[1;3mKeyError: 'EARNINGS'\u001B[0m\u001B[32;1m\u001B[1;3m\n",
      "Invoking: `python_repl_ast` with `{'query': 'df1.columns'}`\n",
      "\n",
      "\n",
      "\u001B[0m\u001B[36;1m\u001B[1;3mIndex(['Unnamed: 0', 'STATEMENT', 'OF\\nBULLETIN DE', 'EARNINGS\\nPAIE',\n",
      "       'Unnamed: 4', 'Unnamed: 5'],\n",
      "      dtype='object')\u001B[0m\u001B[32;1m\u001B[1;3m\n",
      "Invoking: `python_repl_ast` with `{'query': \"df1['EARNINGS\\\\nPAIE'][1]\"}`\n",
      "\n",
      "\n",
      "\u001B[0m\u001B[36;1m\u001B[1;3m2.591,88\u001B[0m\u001B[32;1m\u001B[1;3mThe base salary is 2,591.88.\u001B[0m\n",
      "\n",
      "\u001B[1m> Finished chain.\u001B[0m\n",
      "\u001B[33;1m\u001B[1;3mThe base salary is 2,591.88.\u001B[0m\u001B[32;1m\u001B[1;3m\n",
      "Invoking: `csv_searcher` with `{'query': 'YTD earnings'}`\n",
      "\n",
      "\n",
      "\u001B[0m\n",
      "\n",
      "\u001B[1m> Entering new AgentExecutor chain...\u001B[0m\n",
      "\u001B[32;1m\u001B[1;3m\n",
      "Invoking: `python_repl_ast` with `{'query': \"df1['Unnamed: 4'][1]\"}`\n",
      "\n",
      "\n",
      "\u001B[0m\u001B[36;1m\u001B[1;3m15.551,28\u001B[0m\u001B[32;1m\u001B[1;3mThe Year-To-Date (YTD) earnings are 15,551.28.\u001B[0m\n",
      "\n",
      "\u001B[1m> Finished chain.\u001B[0m\n",
      "\u001B[33;1m\u001B[1;3mThe Year-To-Date (YTD) earnings are 15,551.28.\u001B[0m\u001B[32;1m\u001B[1;3mThe base salary is $2,591.88, and the Year-To-Date (YTD) earnings are $15,551.28.\u001B[0m\n",
      "\n",
      "\u001B[1m> Finished chain.\u001B[0m\n"
     ]
    }
   ],
   "source": [
    "question = \"What is the base salary and what is the YTD earnings?\"\n",
    "l = list(agent_executor.stream(\n",
    "        {\n",
    "            \"input\":question,\n",
    "        }\n",
    "    )\n",
    ")"
   ],
   "metadata": {
    "collapsed": false,
    "ExecuteTime": {
     "end_time": "2024-03-24T18:33:48.510587Z",
     "start_time": "2024-03-24T18:33:29.010082700Z"
    }
   },
   "id": "84ba045411352e03",
   "execution_count": 122
  },
  {
   "cell_type": "code",
   "outputs": [
    {
     "name": "stdout",
     "output_type": "stream",
     "text": [
      "[{'actions': [OpenAIToolAgentAction(tool='csv_searcher', tool_input={'query': 'base salary'}, log=\"\\nInvoking: `csv_searcher` with `{'query': 'base salary'}`\\n\\n\\n\", message_log=[AIMessageChunk(content='', additional_kwargs={'tool_calls': [{'index': 0, 'id': 'call_mR9zGxR9DpnhdIuRxNEJ29kt', 'function': {'arguments': '{\"query\": \"base salary\"}', 'name': 'csv_searcher'}, 'type': 'function'}, {'index': 1, 'id': 'call_H4HHIvChvdhMSvfA6ApD71Uq', 'function': {'arguments': '{\"query\": \"YTD earnings\"}', 'name': 'csv_searcher'}, 'type': 'function'}]})], tool_call_id='call_mR9zGxR9DpnhdIuRxNEJ29kt')],\n",
      "  'messages': [AIMessageChunk(content='', additional_kwargs={'tool_calls': [{'index': 0, 'id': 'call_mR9zGxR9DpnhdIuRxNEJ29kt', 'function': {'arguments': '{\"query\": \"base salary\"}', 'name': 'csv_searcher'}, 'type': 'function'}, {'index': 1, 'id': 'call_H4HHIvChvdhMSvfA6ApD71Uq', 'function': {'arguments': '{\"query\": \"YTD earnings\"}', 'name': 'csv_searcher'}, 'type': 'function'}]})]},\n",
      " {'actions': [OpenAIToolAgentAction(tool='csv_searcher', tool_input={'query': 'YTD earnings'}, log=\"\\nInvoking: `csv_searcher` with `{'query': 'YTD earnings'}`\\n\\n\\n\", message_log=[AIMessageChunk(content='', additional_kwargs={'tool_calls': [{'index': 0, 'id': 'call_mR9zGxR9DpnhdIuRxNEJ29kt', 'function': {'arguments': '{\"query\": \"base salary\"}', 'name': 'csv_searcher'}, 'type': 'function'}, {'index': 1, 'id': 'call_H4HHIvChvdhMSvfA6ApD71Uq', 'function': {'arguments': '{\"query\": \"YTD earnings\"}', 'name': 'csv_searcher'}, 'type': 'function'}]})], tool_call_id='call_H4HHIvChvdhMSvfA6ApD71Uq')],\n",
      "  'messages': [AIMessageChunk(content='', additional_kwargs={'tool_calls': [{'index': 0, 'id': 'call_mR9zGxR9DpnhdIuRxNEJ29kt', 'function': {'arguments': '{\"query\": \"base salary\"}', 'name': 'csv_searcher'}, 'type': 'function'}, {'index': 1, 'id': 'call_H4HHIvChvdhMSvfA6ApD71Uq', 'function': {'arguments': '{\"query\": \"YTD earnings\"}', 'name': 'csv_searcher'}, 'type': 'function'}]})]},\n",
      " {'messages': [FunctionMessage(content='The base salary is 2,591.88.', name='csv_searcher')],\n",
      "  'steps': [AgentStep(action=OpenAIToolAgentAction(tool='csv_searcher', tool_input={'query': 'base salary'}, log=\"\\nInvoking: `csv_searcher` with `{'query': 'base salary'}`\\n\\n\\n\", message_log=[AIMessageChunk(content='', additional_kwargs={'tool_calls': [{'index': 0, 'id': 'call_mR9zGxR9DpnhdIuRxNEJ29kt', 'function': {'arguments': '{\"query\": \"base salary\"}', 'name': 'csv_searcher'}, 'type': 'function'}, {'index': 1, 'id': 'call_H4HHIvChvdhMSvfA6ApD71Uq', 'function': {'arguments': '{\"query\": \"YTD earnings\"}', 'name': 'csv_searcher'}, 'type': 'function'}]})], tool_call_id='call_mR9zGxR9DpnhdIuRxNEJ29kt'), observation='The base salary is 2,591.88.')]},\n",
      " {'messages': [FunctionMessage(content='The Year-To-Date (YTD) earnings, based on the data provided, are 12,959.40.', name='csv_searcher')],\n",
      "  'steps': [AgentStep(action=OpenAIToolAgentAction(tool='csv_searcher', tool_input={'query': 'YTD earnings'}, log=\"\\nInvoking: `csv_searcher` with `{'query': 'YTD earnings'}`\\n\\n\\n\", message_log=[AIMessageChunk(content='', additional_kwargs={'tool_calls': [{'index': 0, 'id': 'call_mR9zGxR9DpnhdIuRxNEJ29kt', 'function': {'arguments': '{\"query\": \"base salary\"}', 'name': 'csv_searcher'}, 'type': 'function'}, {'index': 1, 'id': 'call_H4HHIvChvdhMSvfA6ApD71Uq', 'function': {'arguments': '{\"query\": \"YTD earnings\"}', 'name': 'csv_searcher'}, 'type': 'function'}]})], tool_call_id='call_H4HHIvChvdhMSvfA6ApD71Uq'), observation='The Year-To-Date (YTD) earnings, based on the data provided, are 12,959.40.')]},\n",
      " {'messages': [AIMessage(content='The base salary is $2,591.88, and the Year-To-Date (YTD) earnings are $12,959.40.')],\n",
      "  'output': 'The base salary is $2,591.88, and the Year-To-Date (YTD) earnings '\n",
      "            'are $12,959.40.'}]\n"
     ]
    }
   ],
   "source": [
    "pprint(l)"
   ],
   "metadata": {
    "collapsed": false,
    "ExecuteTime": {
     "end_time": "2024-03-24T17:24:34.956388900Z",
     "start_time": "2024-03-24T17:24:34.936497200Z"
    }
   },
   "id": "8d878b1f5eb85eb",
   "execution_count": 113
  },
  {
   "cell_type": "code",
   "outputs": [],
   "source": [],
   "metadata": {
    "collapsed": false
   },
   "id": "39e8949abbabe861"
  }
 ],
 "metadata": {
  "kernelspec": {
   "display_name": "Python 3",
   "language": "python",
   "name": "python3"
  },
  "language_info": {
   "codemirror_mode": {
    "name": "ipython",
    "version": 2
   },
   "file_extension": ".py",
   "mimetype": "text/x-python",
   "name": "python",
   "nbconvert_exporter": "python",
   "pygments_lexer": "ipython2",
   "version": "2.7.6"
  }
 },
 "nbformat": 4,
 "nbformat_minor": 5
}
