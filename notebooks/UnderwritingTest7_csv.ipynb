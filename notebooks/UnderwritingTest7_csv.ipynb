{
 "cells": [
  {
   "cell_type": "code",
   "execution_count": 2,
   "id": "initial_id",
   "metadata": {
    "collapsed": true,
    "ExecuteTime": {
     "end_time": "2024-03-23T12:06:12.403068200Z",
     "start_time": "2024-03-23T12:06:07.853924700Z"
    }
   },
   "outputs": [
    {
     "data": {
      "text/plain": "True"
     },
     "execution_count": 2,
     "metadata": {},
     "output_type": "execute_result"
    }
   ],
   "source": [
    "import os\n",
    "from dotenv import load_dotenv, find_dotenv\n",
    "from pprint import pprint, pformat\n",
    "import fitz  # Import the PyMuPDF library\n",
    "import csv\n",
    "import pandas as pd\n",
    "from langchain import hub\n",
    "from langchain_openai  import ChatOpenAI, OpenAIEmbeddings\n",
    "from langchain.schema import AIMessage, HumanMessage, SystemMessage, Document\n",
    "from langchain.vectorstores import Chroma\n",
    "from langchain_core.output_parsers import StrOutputParser\n",
    "from langchain_core.runnables import RunnablePassthrough\n",
    "\n",
    "import tiktoken\n",
    "\n",
    "from langchain.agents.agent_types import AgentType\n",
    "from langchain_experimental.agents.agent_toolkits import create_csv_agent, create_pandas_dataframe_agent\n",
    "from langchain_openai import ChatOpenAI, OpenAI\n",
    "\n",
    "from nanonets import NANONETSOCR\n",
    "\n",
    "\n",
    "load_dotenv(find_dotenv())"
   ]
  },
  {
   "cell_type": "markdown",
   "source": [
    "### Global variables"
   ],
   "metadata": {
    "collapsed": false
   },
   "id": "2935050485d80931"
  },
  {
   "cell_type": "code",
   "outputs": [],
   "source": [
    "input_file = r\"N:\\Dev\\AI\\Underwriting\\data\\clients\\Safia Seyed\\Safia Seyed Paystub.pdf\"\n",
    "# Extracted tables:\n",
    "extracted_csvs_path = os.path.join(os.path.dirname(input_file), os.path.splitext(os.path.basename(input_file))[0] + \" extracted_tables\")\n",
    "os.makedirs(extracted_csvs_path, exist_ok=True)\n",
    "nano_extracted_tables_csv_path = os.path.join(extracted_csvs_path, os.path.splitext(os.path.basename(input_file))[0] + \"_extracted_tables.csv\" )"
   ],
   "metadata": {
    "collapsed": false,
    "ExecuteTime": {
     "end_time": "2024-03-23T12:06:12.416837900Z",
     "start_time": "2024-03-23T12:06:12.402067700Z"
    }
   },
   "id": "d1d23b00c80cc7b1",
   "execution_count": 3
  },
  {
   "cell_type": "markdown",
   "source": [
    "# Nanonets OCR"
   ],
   "metadata": {
    "collapsed": false
   },
   "id": "9cdb9d15ab1a82f2"
  },
  {
   "cell_type": "code",
   "outputs": [],
   "source": [
    "model = NANONETSOCR()\n",
    "model.set_token(os.getenv(\"NANONESTS_TABLE_MODEL_TOKEN\"))"
   ],
   "metadata": {
    "collapsed": false,
    "ExecuteTime": {
     "end_time": "2024-03-23T12:06:17.063711700Z",
     "start_time": "2024-03-23T12:06:12.416837900Z"
    }
   },
   "id": "815568616691eebc",
   "execution_count": 4
  },
  {
   "cell_type": "code",
   "outputs": [],
   "source": [
    "model.convert_to_csv(input_file, output_file_name=nano_extracted_tables_csv_path)"
   ],
   "metadata": {
    "collapsed": false,
    "ExecuteTime": {
     "end_time": "2024-03-23T12:06:34.521342100Z",
     "start_time": "2024-03-23T12:06:17.064716600Z"
    }
   },
   "id": "78e794547daeaade",
   "execution_count": 5
  },
  {
   "cell_type": "markdown",
   "source": [
    "# Parse CSV"
   ],
   "metadata": {
    "collapsed": false
   },
   "id": "dce6ebf86c5b9c8a"
  },
  {
   "cell_type": "code",
   "outputs": [],
   "source": [
    "def extract_tables_to_csv(csv_file_path, output_path):\n",
    "    # Extract directory and base name without extension\n",
    "    csv_directory = os.path.dirname(csv_file_path)\n",
    "    csv_base_name = os.path.basename(csv_file_path)\n",
    "    csv_name_without_ext = os.path.splitext(csv_base_name)[0]\n",
    "\n",
    "    # Create output folder path\n",
    "    output_folder = output_path#os.path.join(csv_directory, csv_name_without_ext)\n",
    "\n",
    "    # Ensure the output folder exists\n",
    "    if not os.path.exists(output_folder):\n",
    "        os.makedirs(output_folder)\n",
    "\n",
    "    # Initialize variables\n",
    "    current_table_number = 0\n",
    "    current_table_lines = []\n",
    "    table_started = False\n",
    "    table_paths = []  # Initialize an empty list to store file paths\n",
    "\n",
    "    # Read the CSV file\n",
    "    with open(csv_file_path, 'r', newline='') as file:\n",
    "        reader = csv.reader(file)\n",
    "        for row in reader:\n",
    "            # Convert row list to string to check if it's a table header\n",
    "            row_str = ','.join(row)\n",
    "            if row_str.startswith('TABLE '):\n",
    "                # If we're already in a table, save the current table\n",
    "                if table_started:\n",
    "                    path = save_table(current_table_lines, current_table_number, output_folder)\n",
    "                    table_paths.append(path)  # Add the path to the list\n",
    "                    current_table_lines = []  # Reset for the next table\n",
    "                current_table_number += 1\n",
    "                table_started = True  # Start a new table\n",
    "            elif table_started:\n",
    "                # Add row to current table\n",
    "                current_table_lines.append(row)\n",
    "\n",
    "    # Save the last table after file ends\n",
    "    if table_started:\n",
    "        save_table(current_table_lines, current_table_number, output_folder)\n",
    "        table_paths.append(path)  # Add the path to the list\n",
    "        \n",
    "    return table_paths\n",
    "\n",
    "def save_table(table_lines, table_number, output_folder):\n",
    "    output_file_path = os.path.join(output_folder, f\"Table_{table_number}.csv\")\n",
    "\n",
    "    # Check if the first row is empty or contains only commas\n",
    "    if not any(table_lines[0]) or all(cell == '' for cell in table_lines[0]):\n",
    "        table_lines = table_lines[1:]  # Remove the first row if it's empty\n",
    "\n",
    "    with open(output_file_path, 'w', newline='') as file:\n",
    "        writer = csv.writer(file)\n",
    "        writer.writerows(table_lines)\n",
    "    print(f\"Table {table_number} saved to {output_file_path}\")\n",
    "    return output_file_path  # Return the path to the saved file\n",
    "\n",
    "def extract_tables_to_dfs(csv_file_path):\n",
    "    # Initialize variables\n",
    "    current_table_number = 0\n",
    "    current_table_lines = []\n",
    "    table_started = False\n",
    "    dfs = []  # Initialize an empty list to store DataFrames\n",
    "\n",
    "    # Read the CSV file\n",
    "    with open(csv_file_path, 'r', newline='') as file:\n",
    "        reader = csv.reader(file)\n",
    "        for row in reader:\n",
    "            # Check if it's a table header\n",
    "            row_str = ','.join(row)\n",
    "            if row_str.startswith('TABLE '):\n",
    "                # If we're already in a table, convert the current table to a DataFrame\n",
    "                if table_started:\n",
    "                    df = pd.DataFrame(current_table_lines[1:], columns=current_table_lines[0])\n",
    "                    dfs.append(df)\n",
    "                    current_table_lines = []  # Reset for the next table\n",
    "                current_table_number += 1\n",
    "                table_started = True  # Start a new table\n",
    "            elif table_started:\n",
    "                # Add row to current table\n",
    "                current_table_lines.append(row)\n",
    "\n",
    "    # Convert the last table to a DataFrame after file ends, if any\n",
    "    if table_started:\n",
    "        df = pd.DataFrame(current_table_lines[1:], columns=current_table_lines[0])\n",
    "        dfs.append(df)\n",
    "\n",
    "    return dfs\n",
    "\n",
    "def extract_text_from_pdf(pdf_path):\n",
    "    doc = fitz.open(pdf_path)\n",
    "    text = ''\n",
    "    for page in doc:\n",
    "        text += page.get_text()\n",
    "    doc.close()\n",
    "\n",
    "    return text"
   ],
   "metadata": {
    "collapsed": false,
    "ExecuteTime": {
     "end_time": "2024-03-23T12:06:34.537046900Z",
     "start_time": "2024-03-23T12:06:34.521342100Z"
    }
   },
   "id": "590a809d2e8894b4",
   "execution_count": 6
  },
  {
   "cell_type": "code",
   "outputs": [
    {
     "name": "stdout",
     "output_type": "stream",
     "text": [
      "Table 1 saved to N:\\Dev\\AI\\Underwriting\\data\\clients\\Safia Seyed\\Safia Seyed Paystub extracted_tables\\Table_1.csv\n",
      "Table 2 saved to N:\\Dev\\AI\\Underwriting\\data\\clients\\Safia Seyed\\Safia Seyed Paystub extracted_tables\\Table_2.csv\n",
      "Table 3 saved to N:\\Dev\\AI\\Underwriting\\data\\clients\\Safia Seyed\\Safia Seyed Paystub extracted_tables\\Table_3.csv\n",
      "Table 4 saved to N:\\Dev\\AI\\Underwriting\\data\\clients\\Safia Seyed\\Safia Seyed Paystub extracted_tables\\Table_4.csv\n",
      "Table 5 saved to N:\\Dev\\AI\\Underwriting\\data\\clients\\Safia Seyed\\Safia Seyed Paystub extracted_tables\\Table_5.csv\n",
      "Table 6 saved to N:\\Dev\\AI\\Underwriting\\data\\clients\\Safia Seyed\\Safia Seyed Paystub extracted_tables\\Table_6.csv\n"
     ]
    }
   ],
   "source": [
    "# Example usage\n",
    "# csv_file_path = 'data/pdfs/Yash Paystub Nov 17 2023_extracted.csv'\n",
    "# csv_file_path = r'N:\\Dev\\AI\\Underwriting\\output3.csv'\n",
    "table_paths = extract_tables_to_csv(nano_extracted_tables_csv_path, extracted_csvs_path)\n",
    "table_dfs = extract_tables_to_dfs(nano_extracted_tables_csv_path)\n",
    "table_text = extract_text_from_pdf(input_file)"
   ],
   "metadata": {
    "collapsed": false,
    "ExecuteTime": {
     "end_time": "2024-03-23T12:06:34.565777Z",
     "start_time": "2024-03-23T12:06:34.535042800Z"
    }
   },
   "id": "342895008cb87511",
   "execution_count": 7
  },
  {
   "cell_type": "code",
   "outputs": [
    {
     "name": "stdout",
     "output_type": "stream",
     "text": [
      "['N:\\\\Dev\\\\AI\\\\Underwriting\\\\data\\\\clients\\\\Safia Seyed\\\\Safia Seyed Paystub extracted_tables\\\\Table_1.csv', 'N:\\\\Dev\\\\AI\\\\Underwriting\\\\data\\\\clients\\\\Safia Seyed\\\\Safia Seyed Paystub extracted_tables\\\\Table_2.csv', 'N:\\\\Dev\\\\AI\\\\Underwriting\\\\data\\\\clients\\\\Safia Seyed\\\\Safia Seyed Paystub extracted_tables\\\\Table_3.csv', 'N:\\\\Dev\\\\AI\\\\Underwriting\\\\data\\\\clients\\\\Safia Seyed\\\\Safia Seyed Paystub extracted_tables\\\\Table_4.csv', 'N:\\\\Dev\\\\AI\\\\Underwriting\\\\data\\\\clients\\\\Safia Seyed\\\\Safia Seyed Paystub extracted_tables\\\\Table_5.csv', 'N:\\\\Dev\\\\AI\\\\Underwriting\\\\data\\\\clients\\\\Safia Seyed\\\\Safia Seyed Paystub extracted_tables\\\\Table_5.csv']\n"
     ]
    }
   ],
   "source": [
    "print(table_paths)"
   ],
   "metadata": {
    "collapsed": false,
    "ExecuteTime": {
     "end_time": "2024-03-23T12:06:34.605849600Z",
     "start_time": "2024-03-23T12:06:34.565777Z"
    }
   },
   "id": "9e193474a11f1c98",
   "execution_count": 8
  },
  {
   "cell_type": "code",
   "outputs": [
    {
     "data": {
      "text/plain": "                                                                            \n0              STATEMENT  OF\\nBULLETIN DE   EARNINGS\\nPAIE                  \n1    TYPE  HOURS\\nHEURES       RATE\\nTAUX  AMOUNT\\nMONTANT  Y.T.D.\\nA JOUR  \n2  SALARY                                         2.591,88       15.551,28  \n3                                                                           \n4                                                                           ",
      "text/html": "<div>\n<style scoped>\n    .dataframe tbody tr th:only-of-type {\n        vertical-align: middle;\n    }\n\n    .dataframe tbody tr th {\n        vertical-align: top;\n    }\n\n    .dataframe thead th {\n        text-align: right;\n    }\n</style>\n<table border=\"1\" class=\"dataframe\">\n  <thead>\n    <tr style=\"text-align: right;\">\n      <th></th>\n      <th></th>\n      <th></th>\n      <th></th>\n      <th></th>\n      <th></th>\n      <th></th>\n    </tr>\n  </thead>\n  <tbody>\n    <tr>\n      <th>0</th>\n      <td></td>\n      <td>STATEMENT</td>\n      <td>OF\\nBULLETIN DE</td>\n      <td>EARNINGS\\nPAIE</td>\n      <td></td>\n      <td></td>\n    </tr>\n    <tr>\n      <th>1</th>\n      <td>TYPE</td>\n      <td>HOURS\\nHEURES</td>\n      <td>RATE\\nTAUX</td>\n      <td>AMOUNT\\nMONTANT</td>\n      <td>Y.T.D.\\nA JOUR</td>\n      <td></td>\n    </tr>\n    <tr>\n      <th>2</th>\n      <td>SALARY</td>\n      <td></td>\n      <td></td>\n      <td>2.591,88</td>\n      <td>15.551,28</td>\n      <td></td>\n    </tr>\n    <tr>\n      <th>3</th>\n      <td></td>\n      <td></td>\n      <td></td>\n      <td></td>\n      <td></td>\n      <td></td>\n    </tr>\n    <tr>\n      <th>4</th>\n      <td></td>\n      <td></td>\n      <td></td>\n      <td></td>\n      <td></td>\n      <td></td>\n    </tr>\n  </tbody>\n</table>\n</div>"
     },
     "execution_count": 9,
     "metadata": {},
     "output_type": "execute_result"
    }
   ],
   "source": [
    "table_dfs[0]"
   ],
   "metadata": {
    "collapsed": false,
    "ExecuteTime": {
     "end_time": "2024-03-23T12:06:34.607849800Z",
     "start_time": "2024-03-23T12:06:34.586812400Z"
    }
   },
   "id": "c0c0458fc26dae55",
   "execution_count": 9
  },
  {
   "cell_type": "code",
   "outputs": [],
   "source": [
    "model = \"gpt-4-turbo-preview\"\n",
    "\n",
    "dfs_chat_agent = create_pandas_dataframe_agent(\n",
    "    ChatOpenAI(temperature=0, model=model), \n",
    "    table_dfs, \n",
    "    verbose=True,\n",
    "    agent_type=AgentType.OPENAI_FUNCTIONS,\n",
    ")\n",
    "\n",
    "csv_chat_agent = create_csv_agent(\n",
    "    ChatOpenAI(temperature=0, model=model),\n",
    "    table_paths,\n",
    "    verbose=True,\n",
    "    agent_type=AgentType.OPENAI_FUNCTIONS,\n",
    ")\n",
    "\n",
    "text_chat = ChatOpenAI(temperature=0, model=model)\n",
    "prompt = f'''\n",
    "The text below is extracted from financial payslips, answer the question based on the text provided.\n",
    "Text:\n",
    "f{table_text}\n",
    "\n",
    "Question:\n",
    "\n",
    "'''"
   ],
   "metadata": {
    "collapsed": false,
    "ExecuteTime": {
     "end_time": "2024-03-23T12:06:34.879034700Z",
     "start_time": "2024-03-23T12:06:34.597827400Z"
    }
   },
   "id": "1bf68785454d4029",
   "execution_count": 10
  },
  {
   "cell_type": "code",
   "outputs": [],
   "source": [
    "question = \"What is the base salary and what is the YTD earnings?\""
   ],
   "metadata": {
    "collapsed": false,
    "ExecuteTime": {
     "end_time": "2024-03-23T12:06:34.895852100Z",
     "start_time": "2024-03-23T12:06:34.880325500Z"
    }
   },
   "id": "5bf88eb0e3902bcb",
   "execution_count": 11
  },
  {
   "cell_type": "code",
   "outputs": [
    {
     "name": "stdout",
     "output_type": "stream",
     "text": [
      "\n",
      "\n",
      "\u001B[1m> Entering new AgentExecutor chain...\u001B[0m\n",
      "\u001B[32;1m\u001B[1;3m\n",
      "Invoking: `python_repl_ast` with `{'query': 'df1.head()'}`\n",
      "\n",
      "\n",
      "\u001B[0m\u001B[36;1m\u001B[1;3m  Unnamed: 0      STATEMENT OF\\nBULLETIN DE   EARNINGS\\nPAIE      Unnamed: 4  \\\n",
      "0       TYPE  HOURS\\nHEURES      RATE\\nTAUX  AMOUNT\\nMONTANT  Y.T.D.\\nA JOUR   \n",
      "1     SALARY            NaN             NaN         2.591,88       15.551,28   \n",
      "2        NaN            NaN             NaN              NaN             NaN   \n",
      "3        NaN            NaN             NaN              NaN             NaN   \n",
      "\n",
      "   Unnamed: 5  \n",
      "0         NaN  \n",
      "1         NaN  \n",
      "2         NaN  \n",
      "3         NaN  \u001B[0m\u001B[32;1m\u001B[1;3mThe base salary is 2,591.88, and the Year-To-Date (YTD) earnings are 15,551.28.\u001B[0m\n",
      "\n",
      "\u001B[1m> Finished chain.\u001B[0m\n"
     ]
    },
    {
     "data": {
      "text/plain": "'The base salary is 2,591.88, and the Year-To-Date (YTD) earnings are 15,551.28.'"
     },
     "execution_count": 12,
     "metadata": {},
     "output_type": "execute_result"
    }
   ],
   "source": [
    "csv_chat_agent.run(question)"
   ],
   "metadata": {
    "collapsed": false,
    "ExecuteTime": {
     "end_time": "2024-03-23T12:06:38.753115900Z",
     "start_time": "2024-03-23T12:06:34.899354600Z"
    }
   },
   "id": "634a52c870093c37",
   "execution_count": 12
  },
  {
   "cell_type": "code",
   "outputs": [
    {
     "name": "stdout",
     "output_type": "stream",
     "text": [
      "\n",
      "\n",
      "\u001B[1m> Entering new AgentExecutor chain...\u001B[0m\n",
      "\u001B[32;1m\u001B[1;3m\n",
      "Invoking: `python_repl_ast` with `{'query': 'df1.head()'}`\n",
      "\n",
      "\n",
      "\u001B[0m\u001B[36;1m\u001B[1;3m                                                                            \n",
      "0              STATEMENT  OF\\nBULLETIN DE   EARNINGS\\nPAIE                  \n",
      "1    TYPE  HOURS\\nHEURES       RATE\\nTAUX  AMOUNT\\nMONTANT  Y.T.D.\\nA JOUR  \n",
      "2  SALARY                                         2.591,88       15.551,28  \n",
      "3                                                                           \n",
      "4                                                                           \u001B[0m\u001B[32;1m\u001B[1;3mThe base salary is 2,591.88, and the Year-To-Date (YTD) earnings are 15,551.28.\u001B[0m\n",
      "\n",
      "\u001B[1m> Finished chain.\u001B[0m\n"
     ]
    },
    {
     "data": {
      "text/plain": "'The base salary is 2,591.88, and the Year-To-Date (YTD) earnings are 15,551.28.'"
     },
     "execution_count": 13,
     "metadata": {},
     "output_type": "execute_result"
    }
   ],
   "source": [
    "dfs_chat_agent.run(question)"
   ],
   "metadata": {
    "collapsed": false,
    "ExecuteTime": {
     "end_time": "2024-03-23T12:06:44.088017Z",
     "start_time": "2024-03-23T12:06:38.745084900Z"
    }
   },
   "id": "eafd82760b042545",
   "execution_count": 13
  },
  {
   "cell_type": "code",
   "outputs": [
    {
     "data": {
      "text/plain": "AIMessage(content='The base salary for the period is $2,591.88, and the Year-To-Date (YTD) earnings are $15,551.28.')"
     },
     "execution_count": 14,
     "metadata": {},
     "output_type": "execute_result"
    }
   ],
   "source": [
    "text_chat.invoke(prompt + question)"
   ],
   "metadata": {
    "collapsed": false,
    "ExecuteTime": {
     "end_time": "2024-03-23T12:06:45.962935100Z",
     "start_time": "2024-03-23T12:06:44.094033500Z"
    }
   },
   "id": "749a1e4f8a7eeb8b",
   "execution_count": 14
  },
  {
   "cell_type": "code",
   "outputs": [
    {
     "data": {
      "text/plain": "AIMessage(content='The start and end period of this payslip are from 2023/10/01 to 2023/10/15.')"
     },
     "execution_count": 15,
     "metadata": {},
     "output_type": "execute_result"
    }
   ],
   "source": [
    "text_chat.invoke(prompt + \"What is the start and end period of this payslip?\")"
   ],
   "metadata": {
    "collapsed": false,
    "ExecuteTime": {
     "end_time": "2024-03-23T12:06:47.954986100Z",
     "start_time": "2024-03-23T12:06:45.957921800Z"
    }
   },
   "id": "aaec612369fb9667",
   "execution_count": 15
  },
  {
   "cell_type": "code",
   "outputs": [
    {
     "data": {
      "text/plain": "{'runnable': {'name': None,\n  'first': {'name': None,\n   'mapper': {'name': None,\n    'steps': {'agent_scratchpad': RunnableLambda(lambda x: format_to_openai_function_messages(x['intermediate_steps']))}}},\n  'middle': [{'name': None,\n    'input_variables': ['agent_scratchpad', 'input'],\n    'input_types': {'agent_scratchpad': typing.List[typing.Union[langchain_core.messages.ai.AIMessage, langchain_core.messages.human.HumanMessage, langchain_core.messages.chat.ChatMessage, langchain_core.messages.system.SystemMessage, langchain_core.messages.function.FunctionMessage, langchain_core.messages.tool.ToolMessage]]},\n    'output_parser': None,\n    'partial_variables': {},\n    'metadata': None,\n    'tags': None,\n    'messages': [{'content': \"\\nYou are working with 6 pandas dataframes in Python named df1, df2, etc.\\nThis is the result of `print(df.head())` for each dataframe:\\n|    |        |           |             |          |           |    |\\n|---:|:-------|:----------|:------------|:---------|:----------|:---|\\n|  0 |        | STATEMENT | OF          | EARNINGS |           |    |\\n|    |        |           | BULLETIN DE | PAIE     |           |    |\\n|  1 | TYPE   | HOURS     | RATE        | AMOUNT   | Y.T.D.    |    |\\n|    |        | HEURES    | TAUX        | MONTANT  | A JOUR    |    |\\n|  2 | SALARY |           |             | 2.591,88 | 15.551,28 |    |\\n|  3 |        |           |             |          |           |    |\\n|  4 |        |           |             |          |           |    |\\n\\n|    |         |             |                |             |               |        |\\n|---:|:--------|:------------|:---------------|:------------|:--------------|:-------|\\n|  0 |         | EMPLOYEE    | DEDUCTIONS AND | EMPLOYER    | CONTRIBUTIONS |        |\\n|    |         | RETENUES DE | L'EMPLOYE ET   | COTISATIONS | PATRONALES    |        |\\n|  1 | TYPE    | CURRENT     | Y.T.D.         | TYPE        | CURRENT       | Y.T.D. |\\n|    |         | COURANT     | A JOUR         |             | COURANT       | A JOUR |\\n|  2 | FED.TAX | 421.36      | 2.525.40       | *LIFE TB    | 8.43          | 42.15  |\\n|  3 | E.I.    | 44.78       | 268.68         | *CRIL TB    | 2.31          | 13.86  |\\n|  4 | C.P.P.  | 155.51      | 932.48         | *AD&D TB    | 1.33          | 6.65   |\\n\\n|    |              |            |            |            |                                    |    |\\n|---:|:-------------|:-----------|:-----------|:-----------|:-----------------------------------|:---|\\n|  0 | SUMMARY      | GROSS PAY  | DEDUCTIONS | NET PAY    | NET PAY ALLOCATION                 |    |\\n|    | SOMMAIRE     | PAIE BRUTE | RETENUES   | PAIE NETTE | DETAILS DE LA PAIE NETTE           |    |\\n|  1 | Current      | 2,591.88   | 703.86     | 1,888.02   | 1,888.02 DEPOSIT 004 10292 XXXX484 |    |\\n|    | Courant      |            |            |            |                                    |    |\\n|  2 | Year-to-date | 15,551.28  | 4,137.61   | 11,413.67  |                                    |    |\\n|    | Cumul annuel |            |            |            |                                    |    |\\n|  3 |              |            |            |            |                                    |    |\\n|  4 |              |            |            |            |                                    |    |\\n\\n|    |              |            |            |            |                                    |    |\\n|---:|:-------------|:-----------|:-----------|:-----------|:-----------------------------------|:---|\\n|  0 | SUMMARY      | GROSS PAY  | DEDUCTIONS | NET PAY    | NET PAY ALLOCATION                 |    |\\n|    | SOMMAIRE     | PAIE BRUTE | RETENUES   | PAIE NETTE | DETAILS DE LA PAIE NETTE           |    |\\n|  1 | Current      | 2,591.88   | 703.86     | 1,888.02   | 1,888.02 DEPOSIT 004 10292 XXXX484 |    |\\n|    | Courant      |            |            |            |                                    |    |\\n|  2 | Year-to-date | 12,959.40  | 3,433.75   | 9,525.65   |                                    |    |\\n|    | Cumul annuel |            |            |            |                                    |    |\\n|  3 |              |            |            |            |                                    |    |\\n|  4 |              |            |            |            |                                    |    |\\n\\n|    |        |        |      |          |           |    |\\n|---:|:-------|:-------|:-----|:---------|:----------|:---|\\n|  0 |        |        |      |          |           |    |\\n|  1 | TYPE   | HOURS  | RATE | AMOUNT   | Y.T.D.    |    |\\n|    |        | HEURES | TAUX | MONTANT  | A JOUR    |    |\\n|  2 | SALARY |        |      | 2.591,88 | 12.959,40 |    |\\n|  3 |        |        |      |          |           |    |\\n|  4 |        |        |      |          |           |    |\\n\\n|    |          |         |        |    |    |    |\\n|---:|:---------|:--------|:-------|:---|:---|:---|\\n|  0 | TYPE     | CURRENT | Y.T.D. |    |    |    |\\n|    |          | COURANT | A JOUR |    |    |    |\\n|  1 | *LIFE TB | 8.43    | 33.72  |    |    |    |\\n|  2 | *CRIL TB | 2.31    | 11.55  |    |    |    |\\n|  3 | *AD&D TB | 1.33    | 5.32   |    |    |    |\\n|  4 | *RRSPTB% | 155.51  | 777.55 |    |    |    |\",\n      'additional_kwargs': {},\n      'type': 'system',\n      'name': None,\n      'id': None},\n     {'prompt': {'name': None,\n       'input_variables': ['input'],\n       'input_types': {},\n       'output_parser': None,\n       'partial_variables': {},\n       'metadata': None,\n       'tags': None,\n       'template': '{input}',\n       'template_format': 'f-string',\n       'validate_template': False,\n       '_type': 'prompt'},\n      'additional_kwargs': {}},\n     {'variable_name': 'agent_scratchpad', 'optional': False}],\n    'validate_template': False,\n    '_type': 'chat'},\n   {'name': None,\n    'bound': {'model_name': 'gpt-4-turbo-preview',\n     'model': 'gpt-4-turbo-preview',\n     'stream': False,\n     'n': 1,\n     'temperature': 0.0,\n     '_type': 'openai-chat'},\n    'kwargs': {'functions': [{'name': 'python_repl_ast',\n       'description': 'A Python shell. Use this to execute python commands. Input should be a valid python command. When using this tool, sometimes output is abbreviated - make sure it does not look abbreviated before using it in your answer.',\n       'parameters': {'type': 'object',\n        'properties': {'query': {'description': 'code snippet to run',\n          'type': 'string'}},\n        'required': ['query']}}]},\n    'config': {},\n    'config_factories': [],\n    'custom_input_type': None,\n    'custom_output_type': None}],\n  'last': {'name': None, '_type': 'openai-functions-agent'}},\n 'input_keys_arg': ['input'],\n 'return_keys_arg': ['output']}"
     },
     "execution_count": 16,
     "metadata": {},
     "output_type": "execute_result"
    }
   ],
   "source": [
    "(dfs_chat_agent.agent.dict())"
   ],
   "metadata": {
    "collapsed": false,
    "ExecuteTime": {
     "end_time": "2024-03-23T12:06:47.991258100Z",
     "start_time": "2024-03-23T12:06:47.956989900Z"
    }
   },
   "id": "ff3365f134d06aa4",
   "execution_count": 16
  },
  {
   "cell_type": "code",
   "outputs": [],
   "source": [],
   "metadata": {
    "collapsed": false,
    "ExecuteTime": {
     "end_time": "2024-03-23T12:06:47.992762Z",
     "start_time": "2024-03-23T12:06:47.970517200Z"
    }
   },
   "id": "679511d70f5aa273",
   "execution_count": 16
  }
 ],
 "metadata": {
  "kernelspec": {
   "display_name": "Python 3",
   "language": "python",
   "name": "python3"
  },
  "language_info": {
   "codemirror_mode": {
    "name": "ipython",
    "version": 2
   },
   "file_extension": ".py",
   "mimetype": "text/x-python",
   "name": "python",
   "nbconvert_exporter": "python",
   "pygments_lexer": "ipython2",
   "version": "2.7.6"
  }
 },
 "nbformat": 4,
 "nbformat_minor": 5
}
