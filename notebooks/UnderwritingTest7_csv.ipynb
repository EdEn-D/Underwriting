{
 "cells": [
  {
   "cell_type": "code",
   "execution_count": 2,
   "id": "initial_id",
   "metadata": {
    "collapsed": true,
    "ExecuteTime": {
     "end_time": "2024-03-27T11:59:44.195071900Z",
     "start_time": "2024-03-27T11:59:41.373610Z"
    }
   },
   "outputs": [
    {
     "data": {
      "text/plain": "True"
     },
     "execution_count": 2,
     "metadata": {},
     "output_type": "execute_result"
    }
   ],
   "source": [
    "import os\n",
    "from dotenv import load_dotenv, find_dotenv\n",
    "from pprint import pprint, pformat\n",
    "import fitz  # Import the PyMuPDF library\n",
    "import csv\n",
    "import pandas as pd\n",
    "from langchain import hub\n",
    "from langchain_openai  import ChatOpenAI, OpenAIEmbeddings\n",
    "from langchain.schema import AIMessage, HumanMessage, SystemMessage, Document\n",
    "from langchain.vectorstores import Chroma\n",
    "from langchain_core.output_parsers import StrOutputParser\n",
    "from langchain_core.runnables import RunnablePassthrough\n",
    "\n",
    "import tiktoken\n",
    "\n",
    "from langchain.agents.agent_types import AgentType\n",
    "from langchain_experimental.agents.agent_toolkits import create_csv_agent, create_pandas_dataframe_agent\n",
    "from langchain_openai import ChatOpenAI, OpenAI\n",
    "\n",
    "from nanonets import NANONETSOCR\n",
    "\n",
    "\n",
    "load_dotenv(find_dotenv())"
   ]
  },
  {
   "cell_type": "markdown",
   "source": [
    "### Global variables"
   ],
   "metadata": {
    "collapsed": false
   },
   "id": "2935050485d80931"
  },
  {
   "cell_type": "code",
   "outputs": [],
   "source": [
    "input_file = r\"N:\\Dev\\AI\\Underwriting\\data\\clients\\Safia Seyed\\Safia Seyed Paystub.pdf\"\n",
    "input_file = r\"N:\\Dev\\AI\\Underwriting\\data\\clients\\Alex and Patricia\\Alex\\Alexander_Deaibes_Pay_Stub(s)_9tM4WQ8J9J3yc13DgjRkEo.pdf\"\n",
    "# Extracted tables:\n",
    "extracted_csvs_path = os.path.join(os.path.dirname(input_file), os.path.splitext(os.path.basename(input_file))[0] + \" extracted_tables\")\n",
    "os.makedirs(extracted_csvs_path, exist_ok=True)\n",
    "nano_extracted_tables_csv_path = os.path.join(extracted_csvs_path, os.path.splitext(os.path.basename(input_file))[0] + \"_extracted_tables.csv\" )"
   ],
   "metadata": {
    "collapsed": false,
    "ExecuteTime": {
     "end_time": "2024-03-27T11:59:44.218772400Z",
     "start_time": "2024-03-27T11:59:44.196070800Z"
    }
   },
   "id": "d1d23b00c80cc7b1",
   "execution_count": 3
  },
  {
   "cell_type": "markdown",
   "source": [
    "# Nanonets OCR"
   ],
   "metadata": {
    "collapsed": false
   },
   "id": "9cdb9d15ab1a82f2"
  },
  {
   "cell_type": "code",
   "outputs": [],
   "source": [
    "model = NANONETSOCR()\n",
    "model.set_token(os.getenv(\"NANONESTS_TABLE_MODEL_TOKEN\"))"
   ],
   "metadata": {
    "collapsed": false,
    "ExecuteTime": {
     "end_time": "2024-03-26T19:43:06.450754100Z",
     "start_time": "2024-03-26T19:43:01.170844500Z"
    }
   },
   "id": "815568616691eebc",
   "execution_count": 3
  },
  {
   "cell_type": "code",
   "outputs": [],
   "source": [
    "model.convert_to_csv(input_file, output_file_name=nano_extracted_tables_csv_path)"
   ],
   "metadata": {
    "collapsed": false
   },
   "id": "78e794547daeaade",
   "execution_count": null
  },
  {
   "cell_type": "markdown",
   "source": [
    "# Parse CSV"
   ],
   "metadata": {
    "collapsed": false
   },
   "id": "dce6ebf86c5b9c8a"
  },
  {
   "cell_type": "code",
   "outputs": [],
   "source": [
    "def extract_tables_to_csv(csv_file_path, output_path):\n",
    "    def save_table(table_lines, table_number, output_folder):\n",
    "        output_file_path = os.path.join(output_folder, f\"Table_{table_number}.csv\")\n",
    "    \n",
    "        # Check if the first row is empty or contains only commas\n",
    "        if not any(table_lines[0]) or all(cell == '' for cell in table_lines[0]):\n",
    "            table_lines = table_lines[1:]  # Remove the first row if it's empty\n",
    "    \n",
    "        with open(output_file_path, 'w', newline='') as file:\n",
    "            writer = csv.writer(file)\n",
    "            writer.writerows(table_lines)\n",
    "        print(f\"Table {table_number} saved to {output_file_path}\")\n",
    "        return output_file_path  # Return the path to the saved file\n",
    "    \n",
    "    \n",
    "    # Extract directory and base name without extension\n",
    "    csv_directory = os.path.dirname(csv_file_path)\n",
    "    csv_base_name = os.path.basename(csv_file_path)\n",
    "    csv_name_without_ext = os.path.splitext(csv_base_name)[0]\n",
    "\n",
    "    # Create output folder path\n",
    "    output_folder = output_path#os.path.join(csv_directory, csv_name_without_ext)\n",
    "\n",
    "    # Ensure the output folder exists\n",
    "    if not os.path.exists(output_folder):\n",
    "        os.makedirs(output_folder)\n",
    "\n",
    "    # Initialize variables\n",
    "    current_table_number = 0\n",
    "    current_table_lines = []\n",
    "    table_started = False\n",
    "    table_paths = []  # Initialize an empty list to store file paths\n",
    "\n",
    "    # Read the CSV file\n",
    "    with open(csv_file_path, 'r', newline='') as file:\n",
    "        reader = csv.reader(file)\n",
    "        for row in reader:\n",
    "            # Convert row list to string to check if it's a table header\n",
    "            row_str = ','.join(row)\n",
    "            if row_str.startswith('TABLE '):\n",
    "                # If we're already in a table, save the current table\n",
    "                if table_started:\n",
    "                    path = save_table(current_table_lines, current_table_number, output_folder)\n",
    "                    table_paths.append(path)  # Add the path to the list\n",
    "                    current_table_lines = []  # Reset for the next table\n",
    "                current_table_number += 1\n",
    "                table_started = True  # Start a new table\n",
    "            elif table_started:\n",
    "                # Add row to current table\n",
    "                current_table_lines.append(row)\n",
    "\n",
    "    # Save the last table after file ends\n",
    "    if table_started:\n",
    "        save_table(current_table_lines, current_table_number, output_folder)\n",
    "        table_paths.append(path)  # Add the path to the list\n",
    "        \n",
    "    return table_paths\n",
    "\n",
    "def extract_tables_to_dfs(csv_file_path):\n",
    "    # Initialize variables\n",
    "    current_table_number = 0\n",
    "    current_table_lines = []\n",
    "    table_started = False\n",
    "    dfs = []  # Initialize an empty list to store DataFrames\n",
    "\n",
    "    # Read the CSV file\n",
    "    with open(csv_file_path, 'r', newline='') as file:\n",
    "        reader = csv.reader(file)\n",
    "        for row in reader:\n",
    "            # Check if it's a table header\n",
    "            row_str = ','.join(row)\n",
    "            if row_str.startswith('TABLE '):\n",
    "                # If we're already in a table, convert the current table to a DataFrame\n",
    "                if table_started:\n",
    "                    df = pd.DataFrame(current_table_lines[1:], columns=current_table_lines[0])\n",
    "                    dfs.append(df)\n",
    "                    current_table_lines = []  # Reset for the next table\n",
    "                current_table_number += 1\n",
    "                table_started = True  # Start a new table\n",
    "            elif table_started:\n",
    "                # Add row to current table\n",
    "                current_table_lines.append(row)\n",
    "\n",
    "    # Convert the last table to a DataFrame after file ends, if any\n",
    "    if table_started:\n",
    "        df = pd.DataFrame(current_table_lines[1:], columns=current_table_lines[0])\n",
    "        dfs.append(df)\n",
    "\n",
    "    return dfs\n",
    "\n",
    "def extract_text_from_pdf(pdf_path):\n",
    "    doc = fitz.open(pdf_path)\n",
    "    text = ''\n",
    "    for page in doc:\n",
    "        text += page.get_text()\n",
    "    doc.close()\n",
    "\n",
    "    return text"
   ],
   "metadata": {
    "collapsed": false,
    "ExecuteTime": {
     "end_time": "2024-03-27T11:59:44.387320800Z",
     "start_time": "2024-03-27T11:59:44.370733100Z"
    }
   },
   "id": "590a809d2e8894b4",
   "execution_count": 4
  },
  {
   "cell_type": "code",
   "outputs": [
    {
     "name": "stdout",
     "output_type": "stream",
     "text": [
      "Table 1 saved to N:\\Dev\\AI\\Underwriting\\data\\clients\\Alex and Patricia\\Alex\\Alexander_Deaibes_Pay_Stub(s)_9tM4WQ8J9J3yc13DgjRkEo extracted_tables\\Table_1.csv\n",
      "Table 2 saved to N:\\Dev\\AI\\Underwriting\\data\\clients\\Alex and Patricia\\Alex\\Alexander_Deaibes_Pay_Stub(s)_9tM4WQ8J9J3yc13DgjRkEo extracted_tables\\Table_2.csv\n",
      "Table 3 saved to N:\\Dev\\AI\\Underwriting\\data\\clients\\Alex and Patricia\\Alex\\Alexander_Deaibes_Pay_Stub(s)_9tM4WQ8J9J3yc13DgjRkEo extracted_tables\\Table_3.csv\n",
      "Table 4 saved to N:\\Dev\\AI\\Underwriting\\data\\clients\\Alex and Patricia\\Alex\\Alexander_Deaibes_Pay_Stub(s)_9tM4WQ8J9J3yc13DgjRkEo extracted_tables\\Table_4.csv\n"
     ]
    }
   ],
   "source": [
    "# Example usage\n",
    "# csv_file_path = 'data/pdfs/Yash Paystub Nov 17 2023_extracted.csv'\n",
    "# csv_file_path = r'N:\\Dev\\AI\\Underwriting\\output3.csv'\n",
    "table_paths = extract_tables_to_csv(nano_extracted_tables_csv_path, extracted_csvs_path)\n",
    "table_dfs = extract_tables_to_dfs(nano_extracted_tables_csv_path)\n",
    "table_text = extract_text_from_pdf(input_file)"
   ],
   "metadata": {
    "collapsed": false,
    "ExecuteTime": {
     "end_time": "2024-03-27T11:59:45.209984600Z",
     "start_time": "2024-03-27T11:59:45.125714700Z"
    }
   },
   "id": "342895008cb87511",
   "execution_count": 5
  },
  {
   "cell_type": "code",
   "outputs": [],
   "source": [
    "# print(table_paths)"
   ],
   "metadata": {
    "collapsed": false,
    "ExecuteTime": {
     "end_time": "2024-03-26T19:43:16.258786Z",
     "start_time": "2024-03-26T19:43:16.238598600Z"
    }
   },
   "id": "9e193474a11f1c98",
   "execution_count": 6
  },
  {
   "cell_type": "code",
   "outputs": [],
   "source": [
    "# table_dfs[0]"
   ],
   "metadata": {
    "collapsed": false,
    "ExecuteTime": {
     "end_time": "2024-03-26T19:43:16.727348300Z",
     "start_time": "2024-03-26T19:43:16.713228300Z"
    }
   },
   "id": "c0c0458fc26dae55",
   "execution_count": 7
  },
  {
   "cell_type": "code",
   "outputs": [],
   "source": [
    "model = \"gpt-4-turbo-preview\"\n",
    "\n",
    "dfs_chat_agent = create_pandas_dataframe_agent(\n",
    "    ChatOpenAI(temperature=0, model=model), \n",
    "    table_dfs, \n",
    "    verbose=True,\n",
    "    agent_type=AgentType.OPENAI_FUNCTIONS,\n",
    ")\n",
    "\n",
    "csv_chat_agent = create_csv_agent(\n",
    "    ChatOpenAI(temperature=0, model=model),\n",
    "    table_paths,\n",
    "    verbose=True,\n",
    "    agent_type=AgentType.OPENAI_FUNCTIONS,\n",
    ")\n",
    "\n",
    "text_chat = ChatOpenAI(temperature=0, model=model)\n",
    "text_prompt = f'''\n",
    "The text below is extracted from financial payslips, answer the question based on the text provided.\n",
    "Text:\n",
    "{table_text}\n",
    "\n",
    "Question:\n",
    "\n",
    "'''"
   ],
   "metadata": {
    "collapsed": false,
    "ExecuteTime": {
     "end_time": "2024-03-27T12:23:15.678474400Z",
     "start_time": "2024-03-27T12:23:15.615088800Z"
    }
   },
   "id": "1bf68785454d4029",
   "execution_count": 21
  },
  {
   "cell_type": "markdown",
   "source": [
    "### Table post-processing"
   ],
   "metadata": {
    "collapsed": false
   },
   "id": "bad22a06ec7b5d13"
  },
  {
   "cell_type": "code",
   "outputs": [],
   "source": [
    "post_processor = ChatOpenAI(temperature=0, model=model)\n",
    "\n",
    "post_processor_prompt = \"Given a CSV file, table that has been extracted using OCR. The headers of the CSV file might not be accurate to the data of the actual table. Reformat the table, and remove unnecessary headers only if they are unnecessary to match the desired table and return ONLY the revised CSV table\\nCSV contents:\\n\"\n",
    "\n",
    "# for csv_table in table_paths:\n",
    "with open(table_paths[0], 'r') as file:\n",
    "    raw_csv = file.read()\n",
    "\n",
    "print(raw_csv)"
   ],
   "metadata": {
    "collapsed": false
   },
   "id": "10614d859bd9a81c",
   "execution_count": null
  },
  {
   "cell_type": "code",
   "outputs": [
    {
     "ename": "NameError",
     "evalue": "name 'post_processor' is not defined",
     "output_type": "error",
     "traceback": [
      "\u001B[1;31m---------------------------------------------------------------------------\u001B[0m",
      "\u001B[1;31mNameError\u001B[0m                                 Traceback (most recent call last)",
      "Cell \u001B[1;32mIn[27], line 1\u001B[0m\n\u001B[1;32m----> 1\u001B[0m \u001B[38;5;28mprint\u001B[39m(\u001B[43mpost_processor\u001B[49m\u001B[38;5;241m.\u001B[39minvoke(\u001B[38;5;28mstr\u001B[39m(post_processor_prompt) \u001B[38;5;241m+\u001B[39m \u001B[38;5;28mstr\u001B[39m(raw_csv))\u001B[38;5;241m.\u001B[39mcontent)\n",
      "\u001B[1;31mNameError\u001B[0m: name 'post_processor' is not defined"
     ]
    }
   ],
   "source": [
    "print(post_processor.invoke(str(post_processor_prompt) + str(raw_csv)).content)\n"
   ],
   "metadata": {
    "collapsed": false,
    "ExecuteTime": {
     "end_time": "2024-03-27T12:38:08.782177200Z",
     "start_time": "2024-03-27T12:38:08.739519800Z"
    }
   },
   "id": "c441ba3420445be4",
   "execution_count": 27
  },
  {
   "cell_type": "markdown",
   "source": [
    "## Some qureying"
   ],
   "metadata": {
    "collapsed": false
   },
   "id": "18a9133261b9e7fd"
  },
  {
   "cell_type": "code",
   "outputs": [],
   "source": [
    "question = '''You are provided with financial pay stubs. What is the Regular Salary? Provide the lower value between Regular and Gross Salary if applicable. Terminology might differ. Regular earnings refer to earnings without any bonuses or benefits\n",
    "\n",
    "In the final response provide ONLY the numerical value of the Regular earnings.\n",
    "'''"
   ],
   "metadata": {
    "collapsed": false,
    "ExecuteTime": {
     "end_time": "2024-03-27T12:23:47.109934800Z",
     "start_time": "2024-03-27T12:23:47.089810900Z"
    }
   },
   "id": "5bf88eb0e3902bcb",
   "execution_count": 24
  },
  {
   "cell_type": "code",
   "outputs": [
    {
     "name": "stdout",
     "output_type": "stream",
     "text": [
      "\n",
      "\n",
      "\u001B[1m> Entering new AgentExecutor chain...\u001B[0m\n",
      "\u001B[32;1m\u001B[1;3m\n",
      "Invoking: `python_repl_ast` with `{'query': 'df1.head()'}`\n",
      "\n",
      "\n",
      "\u001B[0m\u001B[36;1m\u001B[1;3m   EARNINGS  DATE\\nYMMDD    RATE CURRENT\\nHRS/UNITS CURRENT\\nAMOUNT  \\\n",
      "0   REGULAR          NaN   0.000              72.50         2129.98   \n",
      "1    ADJUST          NaN   0.000               0.00            0.00   \n",
      "2  LEAWOPAY          NaN  29.379              21.75          638.99   \n",
      "3   ADJ REG          NaN   0.000             21.75-         638.99-   \n",
      "4  UNCL BEN          NaN   0.000               0.00           89.46   \n",
      "\n",
      "  YTD\\nHRS/UNITS YTD\\nAMOUNT  \n",
      "0           0.00    39830.82  \n",
      "1         377.00    1672.05-  \n",
      "2          65.25     1916.98  \n",
      "3         65.25-    1916.98-  \n",
      "4           0.00     2174.54  \u001B[0m\u001B[32;1m\u001B[1;3m2129.98\u001B[0m\n",
      "\n",
      "\u001B[1m> Finished chain.\u001B[0m\n"
     ]
    },
    {
     "data": {
      "text/plain": "'2129.98'"
     },
     "execution_count": 25,
     "metadata": {},
     "output_type": "execute_result"
    }
   ],
   "source": [
    "csv_chat_agent.run(question)"
   ],
   "metadata": {
    "collapsed": false,
    "ExecuteTime": {
     "end_time": "2024-03-27T12:23:51.473094400Z",
     "start_time": "2024-03-27T12:23:49.308382700Z"
    }
   },
   "id": "634a52c870093c37",
   "execution_count": 25
  },
  {
   "cell_type": "code",
   "outputs": [
    {
     "name": "stdout",
     "output_type": "stream",
     "text": [
      "\n",
      "\n",
      "\u001B[1m> Entering new AgentExecutor chain...\u001B[0m\n",
      "\u001B[32;1m\u001B[1;3m\n",
      "Invoking: `python_repl_ast` with `{'query': \"df1.loc[df1[0] == 'REGULAR', 'CURRENT AMOUNT'].values[0]\"}`\n",
      "\n",
      "\n",
      "\u001B[0m\u001B[36;1m\u001B[1;3mKeyError: 0\u001B[0m\u001B[32;1m\u001B[1;3m\n",
      "Invoking: `python_repl_ast` with `{'query': \"df1.loc[df1.iloc[:, 0] == 'REGULAR', 'CURRENT AMOUNT'].values[0]\"}`\n",
      "\n",
      "\n",
      "\u001B[0m\u001B[36;1m\u001B[1;3mKeyError: 'CURRENT AMOUNT'\u001B[0m\u001B[32;1m\u001B[1;3m\n",
      "Invoking: `python_repl_ast` with `{'query': \"df1.loc[df1.iloc[:, 0] == 'REGULAR', 'CURRENT AMOUNT'].values\"}`\n",
      "\n",
      "\n",
      "\u001B[0m\u001B[36;1m\u001B[1;3mKeyError: 'CURRENT AMOUNT'\u001B[0m\u001B[32;1m\u001B[1;3m\n",
      "Invoking: `python_repl_ast` with `{'query': \"df1.loc[df1.iloc[:, 0] == 'REGULAR', df1.columns[5]].values[0]\"}`\n",
      "\n",
      "\n",
      "\u001B[0m\u001B[36;1m\u001B[1;3m['REGULAR' '' '0.0000' '72.50' '2129.98' '0.00' '39830.82']\u001B[0m\u001B[32;1m\u001B[1;3mThe Regular earnings are **2129.98**.\u001B[0m\n",
      "\n",
      "\u001B[1m> Finished chain.\u001B[0m\n"
     ]
    },
    {
     "data": {
      "text/plain": "'The Regular earnings are **2129.98**.'"
     },
     "execution_count": 26,
     "metadata": {},
     "output_type": "execute_result"
    }
   ],
   "source": [
    "dfs_chat_agent.run(question)"
   ],
   "metadata": {
    "collapsed": false,
    "ExecuteTime": {
     "end_time": "2024-03-27T12:24:03.686049500Z",
     "start_time": "2024-03-27T12:23:51.471090300Z"
    }
   },
   "id": "eafd82760b042545",
   "execution_count": 26
  },
  {
   "cell_type": "code",
   "outputs": [
    {
     "data": {
      "text/plain": "AIMessage(content='39830.82', response_metadata={'token_usage': {'completion_tokens': 4, 'prompt_tokens': 1060, 'total_tokens': 1064}, 'model_name': 'gpt-4-turbo-preview', 'system_fingerprint': 'fp_a7daf7c51e', 'finish_reason': 'stop', 'logprobs': None})"
     },
     "execution_count": 23,
     "metadata": {},
     "output_type": "execute_result"
    }
   ],
   "source": [
    "type(text_prompt)\n",
    "text_chat.invoke(text_prompt + question)"
   ],
   "metadata": {
    "collapsed": false,
    "ExecuteTime": {
     "end_time": "2024-03-27T12:23:27.933191800Z",
     "start_time": "2024-03-27T12:23:26.934234900Z"
    }
   },
   "id": "749a1e4f8a7eeb8b",
   "execution_count": 23
  },
  {
   "cell_type": "code",
   "outputs": [
    {
     "data": {
      "text/plain": "{'runnable': {'name': None,\n  'first': {'name': None,\n   'mapper': {'name': None,\n    'steps': {'agent_scratchpad': RunnableLambda(lambda x: format_to_openai_function_messages(x['intermediate_steps']))}}},\n  'middle': [{'name': None,\n    'input_variables': ['agent_scratchpad', 'input'],\n    'input_types': {'agent_scratchpad': typing.List[typing.Union[langchain_core.messages.ai.AIMessage, langchain_core.messages.human.HumanMessage, langchain_core.messages.chat.ChatMessage, langchain_core.messages.system.SystemMessage, langchain_core.messages.function.FunctionMessage, langchain_core.messages.tool.ToolMessage]]},\n    'output_parser': None,\n    'partial_variables': {},\n    'metadata': None,\n    'tags': None,\n    'messages': [{'content': '\\nYou are working with 4 pandas dataframes in Python named df1, df2, etc.\\nThis is the result of `print(df.head())` for each dataframe:\\n|    | EARNINGS   |    DATE |   RATE | CURRENT     | CURRENT   | YTD         | YTD      |\\n|    |            |   YMMDD |        | HRS/UNITS   | AMOUNT    | HRS/UNITS   | AMOUNT   |\\n|---:|:-----------|--------:|-------:|:------------|:----------|:------------|:---------|\\n|  0 | REGULAR    |     nan |  0     | 72.50       | 2129.98   | 0.00        | 39830.82 |\\n|  1 | ADJUST     |     nan |  0     | 0.00        | 0.00      | 377.00      | 1672.05- |\\n|  2 | LEAWOPAY   |     nan | 29.379 | 21.75       | 638.99    | 65.25       | 1916.98  |\\n|  3 | ADJ REG    |     nan |  0     | 21.75-      | 638.99-   | 65.25-      | 1916.98- |\\n|  4 | UNCL BEN   |     nan |  0     | 0.00        | 89.46     | 0.00        | 2174.54  |\\n\\n|    | DEDUCTIONS       |   CURRENT |      YTD |   Unnamed: 3 |   Unnamed: 4 |   Unnamed: 5 |   Unnamed: 6 |\\n|    |                  |    AMOUNT |   AMOUNT |              |              |              |              |\\n|---:|:-----------------|----------:|---------:|-------------:|-------------:|-------------:|-------------:|\\n|  0 | C.P.P            |     93.82 |  2323.02 |          nan |          nan |          nan |          nan |\\n|  1 | FEDL TAX         |    218.57 |  6374.91 |          nan |          nan |          nan |          nan |\\n|    | TOTAL DEDUCTIONS |           |          |              |              |              |              |\\n|  2 | nan              |    nan    |   nan    |          nan |          nan |          nan |          nan |\\n|  3 | nan              |    nan    |   nan    |          nan |          nan |          nan |          nan |\\n\\n|    | DEDUCTIONS   |   CURRENT |      YTD |   Unnamed: 3 |   Unnamed: 4 |   Unnamed: 5 |   Unnamed: 6 |\\n|    |              |    AMOUNT |   AMOUNT |              |              |              |              |\\n|---:|:-------------|----------:|---------:|-------------:|-------------:|-------------:|-------------:|\\n|  0 | EI CONT      |     27.9  |   678.12 |          nan |          nan |          nan |          nan |\\n|  1 | nan          |    340.29 |  9376.05 |          nan |          nan |          nan |          nan |\\n|  2 | nan          |    nan    |   nan    |          nan |          nan |          nan |          nan |\\n|  3 | nan          |    nan    |   nan    |          nan |          nan |          nan |          nan |\\n\\n|    | DEDUCTIONS   |   CURRENT |      YTD |   Unnamed: 3 |   Unnamed: 4 |   Unnamed: 5 |   Unnamed: 6 |\\n|    |              |    AMOUNT |   AMOUNT |              |              |              |              |\\n|---:|:-------------|----------:|---------:|-------------:|-------------:|-------------:|-------------:|\\n|  0 | EI CONT      |     27.9  |   678.12 |          nan |          nan |          nan |          nan |\\n|  1 | nan          |    340.29 |  9376.05 |          nan |          nan |          nan |          nan |\\n|  2 | nan          |    nan    |   nan    |          nan |          nan |          nan |          nan |\\n|  3 | nan          |    nan    |   nan    |          nan |          nan |          nan |          nan |',\n      'additional_kwargs': {},\n      'response_metadata': {},\n      'type': 'system',\n      'name': None,\n      'id': None},\n     {'prompt': {'name': None,\n       'input_variables': ['input'],\n       'input_types': {},\n       'output_parser': None,\n       'partial_variables': {},\n       'metadata': None,\n       'tags': None,\n       'template': '{input}',\n       'template_format': 'f-string',\n       'validate_template': False,\n       '_type': 'prompt'},\n      'additional_kwargs': {}},\n     {'variable_name': 'agent_scratchpad', 'optional': False}],\n    'validate_template': False,\n    '_type': 'chat'},\n   {'name': None,\n    'bound': {'model_name': 'gpt-4-turbo-preview',\n     'model': 'gpt-4-turbo-preview',\n     'stream': False,\n     'n': 1,\n     'temperature': 0.0,\n     '_type': 'openai-chat'},\n    'kwargs': {'functions': [{'name': 'python_repl_ast',\n       'description': 'A Python shell. Use this to execute python commands. Input should be a valid python command. When using this tool, sometimes output is abbreviated - make sure it does not look abbreviated before using it in your answer.',\n       'parameters': {'type': 'object',\n        'properties': {'query': {'description': 'code snippet to run',\n          'type': 'string'}},\n        'required': ['query']}}]},\n    'config': {},\n    'config_factories': [],\n    'custom_input_type': None,\n    'custom_output_type': None}],\n  'last': {'name': None, '_type': 'openai-functions-agent'}},\n 'input_keys_arg': ['input'],\n 'return_keys_arg': ['output'],\n 'stream_runnable': True}"
     },
     "execution_count": 14,
     "metadata": {},
     "output_type": "execute_result"
    }
   ],
   "source": [
    "(csv_chat_agent.agent.dict())"
   ],
   "metadata": {
    "collapsed": false,
    "ExecuteTime": {
     "end_time": "2024-03-26T19:52:44.062335800Z",
     "start_time": "2024-03-26T19:52:44.037797400Z"
    }
   },
   "id": "ff3365f134d06aa4",
   "execution_count": 14
  },
  {
   "cell_type": "markdown",
   "source": [
    "## JSON output parser attempt"
   ],
   "metadata": {
    "collapsed": false
   },
   "id": "3a022412fa93539e"
  },
  {
   "cell_type": "code",
   "outputs": [
    {
     "name": "stdout",
     "output_type": "stream",
     "text": [
      "\n",
      "\n",
      "\u001B[1m> Entering new AgentExecutor chain...\u001B[0m\n",
      "\u001B[32;1m\u001B[1;3m\n",
      "Invoking: `python_repl_ast` with `{'query': \"df1['CURRENT AMOUNT'].sum()\"}`\n",
      "\n",
      "\n",
      "\u001B[0m\u001B[36;1m\u001B[1;3mKeyError: 'CURRENT AMOUNT'\u001B[0m\u001B[32;1m\u001B[1;3m\n",
      "Invoking: `python_repl_ast` with `{'query': \"df1['CURRENT AMOUNT'].sum()\"}`\n",
      "\n",
      "\n",
      "\u001B[0m\u001B[36;1m\u001B[1;3mKeyError: 'CURRENT AMOUNT'\u001B[0m\u001B[32;1m\u001B[1;3m\n",
      "Invoking: `python_repl_ast` with `{'query': 'df1.columns'}`\n",
      "\n",
      "\n",
      "\u001B[0m\u001B[36;1m\u001B[1;3mIndex(['EARNINGS', 'DATE\\nYMMDD', 'RATE', 'CURRENT\\nHRS/UNITS',\n",
      "       'CURRENT\\nAMOUNT', 'YTD\\nHRS/UNITS', 'YTD\\nAMOUNT'],\n",
      "      dtype='object')\u001B[0m\u001B[32;1m\u001B[1;3m\n",
      "Invoking: `python_repl_ast` with `{'query': \"df1['CURRENT\\\\nAMOUNT'].sum()\"}`\n",
      "\n",
      "\n",
      "\u001B[0m\u001B[36;1m\u001B[1;3mTypeError: can only concatenate str (not \"int\") to str\u001B[0m\u001B[32;1m\u001B[1;3m\n",
      "Invoking: `python_repl_ast` with `{'query': \"df1['CURRENT\\\\nAMOUNT'].astype(str).str.replace('-', '').astype(float).sum()\"}`\n",
      "\n",
      "\n",
      "\u001B[0m\u001B[36;1m\u001B[1;3m8329.21\u001B[0m\u001B[32;1m\u001B[1;3m```json\n",
      "{\n",
      "  \"salary\": \"8329.21\"\n",
      "}\n",
      "```\u001B[0m\n",
      "\n",
      "\u001B[1m> Finished chain.\u001B[0m\n"
     ]
    },
    {
     "ename": "ValueError",
     "evalue": "Invalid input type <class 'dict'>. Must be a PromptValue, str, or list of BaseMessages.",
     "output_type": "error",
     "traceback": [
      "\u001B[1;31m---------------------------------------------------------------------------\u001B[0m",
      "\u001B[1;31mValueError\u001B[0m                                Traceback (most recent call last)",
      "Cell \u001B[1;32mIn[10], line 22\u001B[0m\n\u001B[0;32m     14\u001B[0m prompt \u001B[38;5;241m=\u001B[39m PromptTemplate(\n\u001B[0;32m     15\u001B[0m     template\u001B[38;5;241m=\u001B[39m\u001B[38;5;124m\"\u001B[39m\u001B[38;5;124mAnswer the user query.\u001B[39m\u001B[38;5;130;01m\\n\u001B[39;00m\u001B[38;5;132;01m{format_instructions}\u001B[39;00m\u001B[38;5;130;01m\\n\u001B[39;00m\u001B[38;5;132;01m{query}\u001B[39;00m\u001B[38;5;130;01m\\n\u001B[39;00m\u001B[38;5;124m\"\u001B[39m,\n\u001B[0;32m     16\u001B[0m     input_variables\u001B[38;5;241m=\u001B[39m[\u001B[38;5;124m\"\u001B[39m\u001B[38;5;124mquery\u001B[39m\u001B[38;5;124m\"\u001B[39m],\n\u001B[0;32m     17\u001B[0m     partial_variables\u001B[38;5;241m=\u001B[39m{\u001B[38;5;124m\"\u001B[39m\u001B[38;5;124mformat_instructions\u001B[39m\u001B[38;5;124m\"\u001B[39m: parser\u001B[38;5;241m.\u001B[39mget_format_instructions()},\n\u001B[0;32m     18\u001B[0m )\n\u001B[0;32m     20\u001B[0m chain \u001B[38;5;241m=\u001B[39m prompt \u001B[38;5;241m|\u001B[39m csv_chat_agent \u001B[38;5;241m|\u001B[39m model \u001B[38;5;241m|\u001B[39m parser\n\u001B[1;32m---> 22\u001B[0m json_str \u001B[38;5;241m=\u001B[39m \u001B[43mchain\u001B[49m\u001B[38;5;241;43m.\u001B[39;49m\u001B[43minvoke\u001B[49m\u001B[43m(\u001B[49m\u001B[43m{\u001B[49m\u001B[38;5;124;43m\"\u001B[39;49m\u001B[38;5;124;43mquery\u001B[39;49m\u001B[38;5;124;43m\"\u001B[39;49m\u001B[43m:\u001B[49m\u001B[43m \u001B[49m\u001B[43mquestion\u001B[49m\u001B[43m}\u001B[49m\u001B[43m)\u001B[49m\n",
      "File \u001B[1;32m~\\AppData\\Local\\Programs\\Python\\Python310\\lib\\site-packages\\langchain_core\\runnables\\base.py:2309\u001B[0m, in \u001B[0;36mRunnableSequence.invoke\u001B[1;34m(self, input, config)\u001B[0m\n\u001B[0;32m   2307\u001B[0m \u001B[38;5;28;01mtry\u001B[39;00m:\n\u001B[0;32m   2308\u001B[0m     \u001B[38;5;28;01mfor\u001B[39;00m i, step \u001B[38;5;129;01min\u001B[39;00m \u001B[38;5;28menumerate\u001B[39m(\u001B[38;5;28mself\u001B[39m\u001B[38;5;241m.\u001B[39msteps):\n\u001B[1;32m-> 2309\u001B[0m         \u001B[38;5;28minput\u001B[39m \u001B[38;5;241m=\u001B[39m \u001B[43mstep\u001B[49m\u001B[38;5;241;43m.\u001B[39;49m\u001B[43minvoke\u001B[49m\u001B[43m(\u001B[49m\n\u001B[0;32m   2310\u001B[0m \u001B[43m            \u001B[49m\u001B[38;5;28;43minput\u001B[39;49m\u001B[43m,\u001B[49m\n\u001B[0;32m   2311\u001B[0m \u001B[43m            \u001B[49m\u001B[38;5;66;43;03m# mark each step as a child run\u001B[39;49;00m\n\u001B[0;32m   2312\u001B[0m \u001B[43m            \u001B[49m\u001B[43mpatch_config\u001B[49m\u001B[43m(\u001B[49m\n\u001B[0;32m   2313\u001B[0m \u001B[43m                \u001B[49m\u001B[43mconfig\u001B[49m\u001B[43m,\u001B[49m\u001B[43m \u001B[49m\u001B[43mcallbacks\u001B[49m\u001B[38;5;241;43m=\u001B[39;49m\u001B[43mrun_manager\u001B[49m\u001B[38;5;241;43m.\u001B[39;49m\u001B[43mget_child\u001B[49m\u001B[43m(\u001B[49m\u001B[38;5;124;43mf\u001B[39;49m\u001B[38;5;124;43m\"\u001B[39;49m\u001B[38;5;124;43mseq:step:\u001B[39;49m\u001B[38;5;132;43;01m{\u001B[39;49;00m\u001B[43mi\u001B[49m\u001B[38;5;241;43m+\u001B[39;49m\u001B[38;5;241;43m1\u001B[39;49m\u001B[38;5;132;43;01m}\u001B[39;49;00m\u001B[38;5;124;43m\"\u001B[39;49m\u001B[43m)\u001B[49m\n\u001B[0;32m   2314\u001B[0m \u001B[43m            \u001B[49m\u001B[43m)\u001B[49m\u001B[43m,\u001B[49m\n\u001B[0;32m   2315\u001B[0m \u001B[43m        \u001B[49m\u001B[43m)\u001B[49m\n\u001B[0;32m   2316\u001B[0m \u001B[38;5;66;03m# finish the root run\u001B[39;00m\n\u001B[0;32m   2317\u001B[0m \u001B[38;5;28;01mexcept\u001B[39;00m \u001B[38;5;167;01mBaseException\u001B[39;00m \u001B[38;5;28;01mas\u001B[39;00m e:\n",
      "File \u001B[1;32m~\\AppData\\Local\\Programs\\Python\\Python310\\lib\\site-packages\\langchain_core\\language_models\\chat_models.py:154\u001B[0m, in \u001B[0;36mBaseChatModel.invoke\u001B[1;34m(self, input, config, stop, **kwargs)\u001B[0m\n\u001B[0;32m    142\u001B[0m \u001B[38;5;28;01mdef\u001B[39;00m \u001B[38;5;21minvoke\u001B[39m(\n\u001B[0;32m    143\u001B[0m     \u001B[38;5;28mself\u001B[39m,\n\u001B[0;32m    144\u001B[0m     \u001B[38;5;28minput\u001B[39m: LanguageModelInput,\n\u001B[1;32m   (...)\u001B[0m\n\u001B[0;32m    148\u001B[0m     \u001B[38;5;241m*\u001B[39m\u001B[38;5;241m*\u001B[39mkwargs: Any,\n\u001B[0;32m    149\u001B[0m ) \u001B[38;5;241m-\u001B[39m\u001B[38;5;241m>\u001B[39m BaseMessage:\n\u001B[0;32m    150\u001B[0m     config \u001B[38;5;241m=\u001B[39m ensure_config(config)\n\u001B[0;32m    151\u001B[0m     \u001B[38;5;28;01mreturn\u001B[39;00m cast(\n\u001B[0;32m    152\u001B[0m         ChatGeneration,\n\u001B[0;32m    153\u001B[0m         \u001B[38;5;28mself\u001B[39m\u001B[38;5;241m.\u001B[39mgenerate_prompt(\n\u001B[1;32m--> 154\u001B[0m             [\u001B[38;5;28;43mself\u001B[39;49m\u001B[38;5;241;43m.\u001B[39;49m\u001B[43m_convert_input\u001B[49m\u001B[43m(\u001B[49m\u001B[38;5;28;43minput\u001B[39;49m\u001B[43m)\u001B[49m],\n\u001B[0;32m    155\u001B[0m             stop\u001B[38;5;241m=\u001B[39mstop,\n\u001B[0;32m    156\u001B[0m             callbacks\u001B[38;5;241m=\u001B[39mconfig\u001B[38;5;241m.\u001B[39mget(\u001B[38;5;124m\"\u001B[39m\u001B[38;5;124mcallbacks\u001B[39m\u001B[38;5;124m\"\u001B[39m),\n\u001B[0;32m    157\u001B[0m             tags\u001B[38;5;241m=\u001B[39mconfig\u001B[38;5;241m.\u001B[39mget(\u001B[38;5;124m\"\u001B[39m\u001B[38;5;124mtags\u001B[39m\u001B[38;5;124m\"\u001B[39m),\n\u001B[0;32m    158\u001B[0m             metadata\u001B[38;5;241m=\u001B[39mconfig\u001B[38;5;241m.\u001B[39mget(\u001B[38;5;124m\"\u001B[39m\u001B[38;5;124mmetadata\u001B[39m\u001B[38;5;124m\"\u001B[39m),\n\u001B[0;32m    159\u001B[0m             run_name\u001B[38;5;241m=\u001B[39mconfig\u001B[38;5;241m.\u001B[39mget(\u001B[38;5;124m\"\u001B[39m\u001B[38;5;124mrun_name\u001B[39m\u001B[38;5;124m\"\u001B[39m),\n\u001B[0;32m    160\u001B[0m             \u001B[38;5;241m*\u001B[39m\u001B[38;5;241m*\u001B[39mkwargs,\n\u001B[0;32m    161\u001B[0m         )\u001B[38;5;241m.\u001B[39mgenerations[\u001B[38;5;241m0\u001B[39m][\u001B[38;5;241m0\u001B[39m],\n\u001B[0;32m    162\u001B[0m     )\u001B[38;5;241m.\u001B[39mmessage\n",
      "File \u001B[1;32m~\\AppData\\Local\\Programs\\Python\\Python310\\lib\\site-packages\\langchain_core\\language_models\\chat_models.py:137\u001B[0m, in \u001B[0;36mBaseChatModel._convert_input\u001B[1;34m(self, input)\u001B[0m\n\u001B[0;32m    135\u001B[0m     \u001B[38;5;28;01mreturn\u001B[39;00m ChatPromptValue(messages\u001B[38;5;241m=\u001B[39mconvert_to_messages(\u001B[38;5;28minput\u001B[39m))\n\u001B[0;32m    136\u001B[0m \u001B[38;5;28;01melse\u001B[39;00m:\n\u001B[1;32m--> 137\u001B[0m     \u001B[38;5;28;01mraise\u001B[39;00m \u001B[38;5;167;01mValueError\u001B[39;00m(\n\u001B[0;32m    138\u001B[0m         \u001B[38;5;124mf\u001B[39m\u001B[38;5;124m\"\u001B[39m\u001B[38;5;124mInvalid input type \u001B[39m\u001B[38;5;132;01m{\u001B[39;00m\u001B[38;5;28mtype\u001B[39m(\u001B[38;5;28minput\u001B[39m)\u001B[38;5;132;01m}\u001B[39;00m\u001B[38;5;124m. \u001B[39m\u001B[38;5;124m\"\u001B[39m\n\u001B[0;32m    139\u001B[0m         \u001B[38;5;124m\"\u001B[39m\u001B[38;5;124mMust be a PromptValue, str, or list of BaseMessages.\u001B[39m\u001B[38;5;124m\"\u001B[39m\n\u001B[0;32m    140\u001B[0m     )\n",
      "\u001B[1;31mValueError\u001B[0m: Invalid input type <class 'dict'>. Must be a PromptValue, str, or list of BaseMessages."
     ]
    }
   ],
   "source": [
    "# Chain Attempt\n",
    "from langchain.prompts import PromptTemplate\n",
    "from langchain_core.output_parsers import JsonOutputParser\n",
    "from langchain_core.pydantic_v1 import BaseModel, Field\n",
    "from langchain_openai import ChatOpenAI\n",
    "\n",
    "# Define your desired data structure.\n",
    "class Salary(BaseModel):\n",
    "    salary: str = Field(description=\"The salary of the client\")\n",
    "\n",
    "question=\"Please extract the gross pay. If there is a difference between the Gross and Regular earnings, provide the regular earnings. Make sure you are not providing the hourly rate\"\n",
    "model = ChatOpenAI(temperature=0)\n",
    "parser = JsonOutputParser(pydantic_object=Salary)\n",
    "prompt = PromptTemplate(\n",
    "    template=\"Answer the user query.\\n{format_instructions}\\n{query}\\n\",\n",
    "    input_variables=[\"query\"],\n",
    "    partial_variables={\"format_instructions\": parser.get_format_instructions()},\n",
    ")\n",
    "\n",
    "chain = prompt | csv_chat_agent | model | parser\n",
    "\n",
    "json_str = chain.invoke({\"query\": question})"
   ],
   "metadata": {
    "collapsed": false,
    "ExecuteTime": {
     "end_time": "2024-03-27T12:01:34.082578300Z",
     "start_time": "2024-03-27T12:01:20.794824500Z"
    }
   },
   "id": "289770dada0b56a4",
   "execution_count": 10
  },
  {
   "cell_type": "markdown",
   "source": [
    "# Custom agents"
   ],
   "metadata": {
    "collapsed": false
   },
   "id": "e388a6e12f89edf1"
  },
  {
   "cell_type": "code",
   "outputs": [],
   "source": [
    "from langchain import hub\n",
    "\n",
    "# Get the prompt to use - you can modify this!\n",
    "prompt = hub.pull(\"hwchase17/openai-functions-agent\")\n",
    "prompt.messages"
   ],
   "metadata": {
    "collapsed": false
   },
   "id": "b5234a2cd52ec283",
   "execution_count": null
  },
  {
   "cell_type": "markdown",
   "source": [
    "## Custom Tools"
   ],
   "metadata": {
    "collapsed": false
   },
   "id": "62b3b6aff138ea8d"
  },
  {
   "cell_type": "code",
   "outputs": [],
   "source": [
    "from langsmith import Client\n",
    "os.environ[\"LANGCHAIN_TRACING_V2\"] = \"true\"\n",
    "os.environ[\"LANGCHAIN_API_KEY\"] = os.getenv(\"LANGSMITH_API_KEY\")\n",
    "os.environ[\"LANGCHAIN_PROJECT\"] = f\"Underwriting project\"\n",
    "os.environ[\"LANGCHAIN_ENDPOINT\"] = \"https://api.smith.langchain.com\"\n",
    "client = Client()"
   ],
   "metadata": {
    "collapsed": false
   },
   "id": "a3b53bad2cc21b9c",
   "execution_count": null
  },
  {
   "cell_type": "code",
   "outputs": [],
   "source": [
    "# Import things that are needed generically\n",
    "from langchain.pydantic_v1 import BaseModel, Field\n",
    "from langchain.tools import BaseTool, StructuredTool, tool"
   ],
   "metadata": {
    "collapsed": false
   },
   "id": "54764f1e84452058",
   "execution_count": null
  },
  {
   "cell_type": "code",
   "outputs": [],
   "source": [
    "llm = ChatOpenAI(temperature=0, model=model)\n",
    "\n",
    "from langchain.prompts import PromptTemplate\n",
    "\n",
    "text_searcher_prompt = PromptTemplate.from_template('''Search the following text which was extracted from a PDF document and gather the information requested by the query. The text might be structured oddly so deductive reasoning might be needed to get the relevant information.  \n",
    "\n",
    "Query:\n",
    "{query}\n",
    "\n",
    "Text:\n",
    "{text}\n",
    "'''\n",
    ")"
   ],
   "metadata": {
    "collapsed": false
   },
   "id": "86515bbc5f0d57d2",
   "execution_count": null
  },
  {
   "cell_type": "code",
   "outputs": [],
   "source": [
    "from typing import List\n",
    "\n",
    "\n",
    "# Add error handling\n",
    "\n",
    "@tool\n",
    "def text_searcher(query: str) -> str:\n",
    "    \"\"\"Given a query the text_searcher tool will search the text to gather the information requested in the query\"\"\"\n",
    "    \n",
    "    return llm.invoke(text_searcher_prompt.format(query=query, text=table_text))\n",
    "\n",
    "@tool\n",
    "def csv_searcher(query: str) -> str:\n",
    "    \"\"\"Given a query the csv_searcher tool will use the csv_chat_agent to search the structured tables and gather the information requested in the query\"\"\"\n",
    "    \n",
    "    return csv_chat_agent.run(query)\n",
    "\n",
    "tools = [csv_searcher, ]#text_searcher]"
   ],
   "metadata": {
    "collapsed": false
   },
   "id": "a759a78d23d4a45c",
   "execution_count": null
  },
  {
   "cell_type": "code",
   "outputs": [],
   "source": [
    "from langchain_core.prompts import SystemMessagePromptTemplate, MessagesPlaceholder, HumanMessagePromptTemplate, \\\n",
    "    ChatPromptTemplate\n",
    "from pprint import pprint\n",
    "agent_system_message = ''' You are an underwriting assistant who needs to extract and gather information from the provided documents. You must try to gather information from the structured CSV documents'''\n",
    " # and varify them by searching the text directly. Some data might not be contained in the CSV files and should be gathered from the text.  \n",
    "# '''\n",
    "\n",
    "agent_messages = [\n",
    "    # SystemMessagePromptTemplate(prompt=PromptTemplate(input_variables=[], template=agent_system_message)),\n",
    " MessagesPlaceholder(variable_name='chat_history', optional=True),\n",
    " HumanMessagePromptTemplate(prompt=PromptTemplate(input_variables=['input'], template='{input}')),\n",
    " MessagesPlaceholder(variable_name='agent_scratchpad')\n",
    "]\n",
    "\n",
    "temp = ChatPromptTemplate.from_messages(\n",
    "    [\n",
    "        SystemMessagePromptTemplate(prompt=PromptTemplate(input_variables=[], template=agent_system_message)),\n",
    "        MessagesPlaceholder(variable_name='chat_history', optional=True),\n",
    "        HumanMessagePromptTemplate(prompt=PromptTemplate(input_variables=['input'], template='{input}')),\n",
    "        MessagesPlaceholder(variable_name='agent_scratchpad')\n",
    "    ]\n",
    ")\n",
    "\n",
    "temp\n",
    "# \n",
    "# [temp.append(message) for message in agent_messages]\n",
    "# temp\n",
    "\n",
    "# from langchain import hub\n",
    "# \n",
    "# # Get the prompt to use - you can modify this!\n",
    "# prompt = hub.pull(\"hwchase17/openai-functions-agent\")\n",
    "# prompt.messages[0].prompt"
   ],
   "metadata": {
    "collapsed": false
   },
   "id": "2474923b8cb1cfb9",
   "execution_count": null
  },
  {
   "cell_type": "code",
   "outputs": [],
   "source": [
    "from langchain.agents.format_scratchpad.openai_tools import (\n",
    "    format_to_openai_tool_messages,\n",
    ")\n",
    "from langchain.agents.output_parsers.openai_tools import OpenAIToolsAgentOutputParser\n",
    "llm_with_tools = llm.bind_tools(tools)\n",
    "\n",
    "agent = (\n",
    "    {\n",
    "        \"input\": lambda x: x[\"input\"],\n",
    "        \"agent_scratchpad\": lambda x: format_to_openai_tool_messages(\n",
    "            x[\"intermediate_steps\"]\n",
    "        ),\n",
    "    }\n",
    "    | prompt\n",
    "    | llm_with_tools\n",
    "    | OpenAIToolsAgentOutputParser()\n",
    ")"
   ],
   "metadata": {
    "collapsed": false
   },
   "id": "ccbf609057b5ab61",
   "execution_count": null
  },
  {
   "cell_type": "code",
   "outputs": [],
   "source": [
    "from langchain.agents import AgentExecutor\n",
    "\n",
    "agent_executor = AgentExecutor(agent=agent, tools=tools, verbose=True)"
   ],
   "metadata": {
    "collapsed": false
   },
   "id": "60aec4cb2a22d29d",
   "execution_count": null
  },
  {
   "cell_type": "code",
   "outputs": [],
   "source": [
    "question = \"Please extract the following data if available: Gross pay, regular pay, YTD payments, hours and hourly rate (if applicable), payslip pay period (weekly, bi weekly, semi monthly, monthly), payment start and end dates\"\n",
    "question=\"Please extract the gross pay. If there is a difference between the Gross and Regular earnings, provide the regular earnings. Make sure you are not providing the hourly rate\"\n",
    "l = list(agent_executor.stream(\n",
    "        {\n",
    "            \"input\":question,\n",
    "        }\n",
    "    )\n",
    ")"
   ],
   "metadata": {
    "collapsed": false
   },
   "id": "84ba045411352e03",
   "execution_count": null
  },
  {
   "cell_type": "code",
   "outputs": [],
   "source": [
    "pprint(l)"
   ],
   "metadata": {
    "collapsed": false
   },
   "id": "8d878b1f5eb85eb",
   "execution_count": null
  },
  {
   "cell_type": "code",
   "outputs": [],
   "source": [],
   "metadata": {
    "collapsed": false
   },
   "id": "39e8949abbabe861"
  }
 ],
 "metadata": {
  "kernelspec": {
   "display_name": "Python 3",
   "language": "python",
   "name": "python3"
  },
  "language_info": {
   "codemirror_mode": {
    "name": "ipython",
    "version": 2
   },
   "file_extension": ".py",
   "mimetype": "text/x-python",
   "name": "python",
   "nbconvert_exporter": "python",
   "pygments_lexer": "ipython2",
   "version": "2.7.6"
  }
 },
 "nbformat": 4,
 "nbformat_minor": 5
}
