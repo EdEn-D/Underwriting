{
 "cells": [
  {
   "cell_type": "code",
   "execution_count": 1,
   "id": "initial_id",
   "metadata": {
    "collapsed": true,
    "ExecuteTime": {
     "end_time": "2024-04-17T16:18:15.845591900Z",
     "start_time": "2024-04-17T16:18:15.644604200Z"
    }
   },
   "outputs": [],
   "source": [
    "import os\n",
    "from dotenv import load_dotenv, find_dotenv\n",
    "from langsmith import Client\n",
    "\n",
    "load_dotenv(find_dotenv())\n",
    "\n",
    "os.environ[\"LANGCHAIN_TRACING_V2\"] = \"true\"\n",
    "os.environ[\"LANGCHAIN_API_KEY\"] = os.getenv(\"LANGSMITH_API_KEY\")\n",
    "os.environ[\"LANGCHAIN_PROJECT\"] = f\"Underwriting project\"\n",
    "os.environ[\"LANGCHAIN_ENDPOINT\"] = \"https://api.smith.langchain.com\"\n",
    "client = Client()\n"
   ]
  },
  {
   "cell_type": "code",
   "outputs": [],
   "source": [
    "payment_date_prompt = \"\"\"You are provided with the text extracted from financial pay stubs. Provide the start and end date of the pay stub in the following format DD/MM/YYYY as:\\n\n",
    "(Start date) ; (End date)\\n\n",
    "\\n\n",
    "For example, for a pay stub that starts on March 1st, 2024 and ends on March 15th, 2024 the output should be:\\n\n",
    "01/03/2024 ; 15/03/2024\\n\n",
    "\\n\n",
    "Directions:\\n\n",
    "- The dates might not be clearly displayed, look for a word date and a number after it which may represent the date\\n\n",
    "- If you cannot find both dates, go through and try to find them again\\n\n",
    "- If you could only provide 1 date, provide that date. If you cannot find any dates, say that you could not find the dates.\\n\n",
    "- Make sure you provide the start and end dates of the pay stub and not the payment period when the salary was paid, look for terminology resembling 'start' and 'end'\\n\n",
    "\\n\n",
    "Pay stub text:\\n\n",
    "{text}\\n\n",
    "\\n\n",
    "Your response:\\n\n",
    "\"\"\"\n",
    "\n",
    "with open(r\"N:\\Dev\\AI\\Underwriting\\data\\clients\\Alex and Patricia\\Alex\\Alex 2023 Year End Paystub extracted_tables\\Alex 2023 Year End Paystub extracted ocr.txt\",'r') as file:\n",
    "    document_text = file.read()"
   ],
   "metadata": {
    "collapsed": false,
    "ExecuteTime": {
     "end_time": "2024-04-17T16:18:16.411863500Z",
     "start_time": "2024-04-17T16:18:16.394724100Z"
    }
   },
   "id": "c92859fa14a14c43",
   "execution_count": 2
  },
  {
   "cell_type": "code",
   "outputs": [],
   "source": [
    "from langchain_openai import ChatOpenAI\n",
    "\n",
    "llm = ChatOpenAI(model=\"gpt-4\", temperature=0)"
   ],
   "metadata": {
    "collapsed": false,
    "ExecuteTime": {
     "end_time": "2024-04-17T16:18:18.652934300Z",
     "start_time": "2024-04-17T16:18:17.922146800Z"
    }
   },
   "id": "3d3126306993861e",
   "execution_count": 3
  },
  {
   "cell_type": "code",
   "outputs": [],
   "source": [
    "from crewai import Crew, Agent, Task, Process\n",
    "from langchain.tools import tool\n",
    "\n",
    "@tool(\"search text for dates\")\n",
    "def text_dates_search(prompt):\n",
    "    \"\"\"Provided a text from a document, retruns the dates as described in the system prompt\"\"\"\n",
    "    print(f\"in the text_dates_search\\n{prompt}\")\n",
    "    p = prompt + document_text\n",
    "    return str(llm.invoke(p).content)"
   ],
   "metadata": {
    "collapsed": false,
    "ExecuteTime": {
     "end_time": "2024-04-17T16:18:20.646631800Z",
     "start_time": "2024-04-17T16:18:19.789848Z"
    }
   },
   "id": "ac0fd519e1458c4c",
   "execution_count": 4
  },
  {
   "cell_type": "code",
   "outputs": [],
   "source": [
    "date_extactor = Agent(\n",
    "    role=\"Payslip date extractor\",\n",
    "    goal=\"Use the provided tools to search the document as many times as required to extract the dates\",\n",
    "    backstory=\"The document is a payslip of an employee. The pay period start and end date should show up in the text. You must extrapolate this information and adhear to the system prompt to provide the desired output. You must run the tools as many times as required to get the most accurate response\",\n",
    "    verbose=True,\n",
    "    allow_delegation=False,\n",
    "    llm=llm,\n",
    "    max_iter=5,\n",
    "    memory=True,\n",
    "    tools=[text_dates_search]\n",
    ")"
   ],
   "metadata": {
    "collapsed": false,
    "ExecuteTime": {
     "end_time": "2024-04-17T16:18:21.521897900Z",
     "start_time": "2024-04-17T16:18:21.017069700Z"
    }
   },
   "id": "b8c47642193bae71",
   "execution_count": 5
  },
  {
   "cell_type": "code",
   "outputs": [],
   "source": [
    "extract_dates = Task(\n",
    "    description='''You are provided with the text extracted from financial pay stubs. \n",
    "Directions:\\n\n",
    "- The dates might not be clearly displayed, look for a word date and a number after it which may represent the date\\n\n",
    "- If you cannot find both dates, go through and try to find them again\\n\n",
    "- If you could only provide 1 date, provide that date. If you cannot find any dates, say that you could not find the dates.\\n\n",
    "- Make sure you provide the start and end dates of the pay stub and not the payment period when the salary was paid, look for terminology resembling 'start' and 'end'\\n\n",
    "''',\n",
    "    expected_output='''Provide the start and end date of the pay stub in the following format DD/MM/YYYY as:\\n\n",
    "(Start date) ; (End date)\\n\n",
    "\\n\n",
    "''',\n",
    "    agent=date_extactor,\n",
    ")"
   ],
   "metadata": {
    "collapsed": false,
    "ExecuteTime": {
     "end_time": "2024-04-17T16:18:21.973865600Z",
     "start_time": "2024-04-17T16:18:21.959772100Z"
    }
   },
   "id": "99c4bfefaef0931",
   "execution_count": 6
  },
  {
   "cell_type": "code",
   "outputs": [],
   "source": [
    "crew = Crew(\n",
    "    agents=[date_extactor],\n",
    "    tasks=[extract_dates],\n",
    "    verbose=2,\n",
    "    full_output=True,\n",
    ")"
   ],
   "metadata": {
    "collapsed": false,
    "ExecuteTime": {
     "end_time": "2024-04-17T16:18:23.454299700Z",
     "start_time": "2024-04-17T16:18:23.411703700Z"
    }
   },
   "id": "672e9fa63bbe091",
   "execution_count": 7
  },
  {
   "cell_type": "code",
   "outputs": [
    {
     "name": "stdout",
     "output_type": "stream",
     "text": [
      "\u001B[1m\u001B[93m [DEBUG]: == Working Agent: Payslip date extractor\u001B[00m\n",
      "\u001B[1m\u001B[93m [INFO]: == Starting Task: You are provided with the text extracted from financial pay stubs. \n",
      "Directions:\n",
      "\n",
      "- The dates might not be clearly displayed, look for a word date and a number after it which may represent the date\n",
      "\n",
      "- If you cannot find both dates, go through and try to find them again\n",
      "\n",
      "- If you could only provide 1 date, provide that date. If you cannot find any dates, say that you could not find the dates.\n",
      "\n",
      "- Make sure you provide the start and end dates of the pay stub and not the payment period when the salary was paid, look for terminology resembling 'start' and 'end'\n",
      "\n",
      "\u001B[00m\n",
      "\n",
      "\n",
      "\u001B[1m> Entering new CrewAgentExecutor chain...\u001B[0m\n",
      "\u001B[32;1m\u001B[1;3mI need to find the start and end dates of the pay period from the payslip text. I will use the 'search text for dates' tool to find these dates.\n",
      "\n",
      "Action: search text for dates\n",
      "Action Input: {\"prompt\": \"Please provide the start and end dates of the pay period from the payslip text.\"}\u001B[0min the text_dates_search\n",
      "Please provide the start and end dates of the pay period from the payslip text.\n",
      "\u001B[93m \n",
      "\n",
      "The pay period ends on 20231210. The start date of the pay period is not provided in the text.\n",
      "\u001B[00m\n",
      "\u001B[32;1m\u001B[1;3mThought: The tool was only able to find the end date of the pay period. I will run the tool again to see if it can find the start date.\n",
      "\n",
      "Action: search text for dates\n",
      "Action Input: {\"prompt\": \"Please provide the start date of the pay period from the payslip text.\"}\u001B[0min the text_dates_search\n",
      "Please provide the start date of the pay period from the payslip text.\n",
      "\u001B[93m \n",
      "\n",
      "The payslip does not provide the start date of the pay period.\n",
      "\u001B[00m\n",
      "\u001B[32;1m\u001B[1;3mThought: I now know the final answer\n",
      "Final Answer: The end date of the pay period is 10/12/2023. The start date of the pay period is not provided in the payslip.\u001B[0m\n",
      "\n",
      "\u001B[1m> Finished chain.\u001B[0m\n",
      "\u001B[1m\u001B[92m [DEBUG]: == [Payslip date extractor] Task output: The end date of the pay period is 10/12/2023. The start date of the pay period is not provided in the payslip.\n",
      "\n",
      "\u001B[00m\n"
     ]
    }
   ],
   "source": [
    "results = crew.kickoff()"
   ],
   "metadata": {
    "collapsed": false,
    "ExecuteTime": {
     "end_time": "2024-04-17T16:18:44.289118500Z",
     "start_time": "2024-04-17T16:18:24.198982400Z"
    }
   },
   "id": "8ace900840655613",
   "execution_count": 8
  },
  {
   "cell_type": "code",
   "outputs": [],
   "source": [],
   "metadata": {
    "collapsed": false
   },
   "id": "d7124b15ffe8f1bf"
  }
 ],
 "metadata": {
  "kernelspec": {
   "display_name": "Python 3",
   "language": "python",
   "name": "python3"
  },
  "language_info": {
   "codemirror_mode": {
    "name": "ipython",
    "version": 2
   },
   "file_extension": ".py",
   "mimetype": "text/x-python",
   "name": "python",
   "nbconvert_exporter": "python",
   "pygments_lexer": "ipython2",
   "version": "2.7.6"
  }
 },
 "nbformat": 4,
 "nbformat_minor": 5
}
