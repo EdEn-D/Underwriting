{
 "cells": [
  {
   "cell_type": "code",
   "execution_count": 1,
   "id": "initial_id",
   "metadata": {
    "collapsed": true,
    "ExecuteTime": {
     "end_time": "2024-04-05T19:42:08.158474Z",
     "start_time": "2024-04-05T19:42:05.611245Z"
    }
   },
   "outputs": [
    {
     "data": {
      "text/plain": "True"
     },
     "execution_count": 1,
     "metadata": {},
     "output_type": "execute_result"
    }
   ],
   "source": [
    "import os, sys\n",
    "from dotenv import load_dotenv, find_dotenv\n",
    "from crewai import Agent, Task, Crew\n",
    "\n",
    "load_dotenv(find_dotenv())"
   ]
  },
  {
   "cell_type": "code",
   "outputs": [],
   "source": [
    "import json  # Import the JSON module to parse JSON strings\n",
    "from langchain_core.agents import AgentFinish\n",
    "\n",
    "agent_finishes  = []\n",
    "\n",
    "import json\n",
    "from typing import Union, List, Tuple, Dict\n",
    "from langchain.schema import AgentFinish\n",
    "\n",
    "call_number = 0\n",
    "\n",
    "def print_agent_output(agent_output: Union[str, List[Tuple[Dict, str]], AgentFinish], agent_name: str = 'Generic call'):\n",
    "    global call_number  # Declare call_number as a global variable\n",
    "    call_number += 1\n",
    "    with open(\"crew_callback_logs.txt\", \"a\") as log_file:\n",
    "        # Try to parse the output if it is a JSON string\n",
    "        if isinstance(agent_output, str):\n",
    "            try:\n",
    "                agent_output = json.loads(agent_output)  # Attempt to parse the JSON string\n",
    "            except json.JSONDecodeError:\n",
    "                pass  # If there's an error, leave agent_output as is\n",
    "\n",
    "        # Check if the output is a list of tuples as in the first case\n",
    "        if isinstance(agent_output, list) and all(isinstance(item, tuple) for item in agent_output):\n",
    "            print(f\"-{call_number}----Dict------------------------------------------\", file=log_file)\n",
    "            for action, description in agent_output:\n",
    "                # Print attributes based on assumed structure\n",
    "                print(f\"Agent Name: {agent_name}\", file=log_file)\n",
    "                print(f\"Tool used: {getattr(action, 'tool', 'Unknown')}\", file=log_file)\n",
    "                print(f\"Tool input: {getattr(action, 'tool_input', 'Unknown')}\", file=log_file)\n",
    "                print(f\"Action log: {getattr(action, 'log', 'Unknown')}\", file=log_file)\n",
    "                print(f\"Description: {description}\", file=log_file)\n",
    "                print(\"--------------------------------------------------\", file=log_file)\n",
    "\n",
    "        # Check if the output is a dictionary as in the second case\n",
    "        elif isinstance(agent_output, AgentFinish):\n",
    "            print(f\"-{call_number}----AgentFinish---------------------------------------\", file=log_file)\n",
    "            print(f\"Agent Name: {agent_name}\", file=log_file)\n",
    "            agent_finishes.append(agent_output)\n",
    "            # Extracting 'output' and 'log' from the nested 'return_values' if they exist\n",
    "            output = agent_output.return_values\n",
    "            # log = agent_output.get('log', 'No log available')\n",
    "            print(f\"AgentFinish Output: {output['output']}\", file=log_file)\n",
    "            # print(f\"Log: {log}\", file=log_file)\n",
    "            # print(f\"AgentFinish: {agent_output}\", file=log_file)\n",
    "            print(\"--------------------------------------------------\", file=log_file)\n",
    "\n",
    "        # Handle unexpected formats\n",
    "        else:\n",
    "            # If the format is unknown, print out the input directly\n",
    "            print(f\"-{call_number}-Unknown format of agent_output:\", file=log_file)\n",
    "            print(type(agent_output), file=log_file)\n",
    "            print(agent_output, file=log_file)\n"
   ],
   "metadata": {
    "collapsed": false,
    "ExecuteTime": {
     "end_time": "2024-04-05T19:42:08.981119400Z",
     "start_time": "2024-04-05T19:42:08.960555400Z"
    }
   },
   "id": "10fcd9b060436cf7",
   "execution_count": 2
  },
  {
   "cell_type": "code",
   "outputs": [
    {
     "name": "stdout",
     "output_type": "stream",
     "text": [
      "Tables already extracted with Nanonets\n",
      "Table 1 saved to N:\\Dev\\AI\\Underwriting\\data\\clients\\Oysharja Sayed and Saadman Ahmed\\Oysharja\\BRXM-F011215_Oysharja_Sayed_2023_Year_End_Paystub extracted_tables\\Table_1.csv\n",
      "Table 2 saved to N:\\Dev\\AI\\Underwriting\\data\\clients\\Oysharja Sayed and Saadman Ahmed\\Oysharja\\BRXM-F011215_Oysharja_Sayed_2023_Year_End_Paystub extracted_tables\\Table_2.csv\n",
      "Table 3 saved to N:\\Dev\\AI\\Underwriting\\data\\clients\\Oysharja Sayed and Saadman Ahmed\\Oysharja\\BRXM-F011215_Oysharja_Sayed_2023_Year_End_Paystub extracted_tables\\Table_3.csv\n",
      "Table 4 saved to N:\\Dev\\AI\\Underwriting\\data\\clients\\Oysharja Sayed and Saadman Ahmed\\Oysharja\\BRXM-F011215_Oysharja_Sayed_2023_Year_End_Paystub extracted_tables\\Table_4.csv\n",
      "Table 5 saved to N:\\Dev\\AI\\Underwriting\\data\\clients\\Oysharja Sayed and Saadman Ahmed\\Oysharja\\BRXM-F011215_Oysharja_Sayed_2023_Year_End_Paystub extracted_tables\\Table_5.csv\n",
      "Table 6 saved to N:\\Dev\\AI\\Underwriting\\data\\clients\\Oysharja Sayed and Saadman Ahmed\\Oysharja\\BRXM-F011215_Oysharja_Sayed_2023_Year_End_Paystub extracted_tables\\Table_6.csv\n"
     ]
    }
   ],
   "source": [
    "from payslip_processor import PayslipProcessor\n",
    "\n",
    "payslip = PayslipProcessor(r\"N:\\Dev\\AI\\Underwriting\\data\\clients\\Oysharja Sayed and Saadman Ahmed\\Oysharja\\BRXM-F011215_Oysharja_Sayed_2023_Year_End_Paystub.pdf\")"
   ],
   "metadata": {
    "collapsed": false,
    "ExecuteTime": {
     "end_time": "2024-04-05T19:42:23.778098900Z",
     "start_time": "2024-04-05T19:42:21.897380300Z"
    }
   },
   "id": "477c15150aa6a2c0",
   "execution_count": 3
  },
  {
   "cell_type": "code",
   "outputs": [
    {
     "data": {
      "text/plain": "['N:\\\\Dev\\\\AI\\\\Underwriting\\\\data\\\\clients\\\\Oysharja Sayed and Saadman Ahmed\\\\Oysharja\\\\BRXM-F011215_Oysharja_Sayed_2023_Year_End_Paystub extracted_tables\\\\Table_1.csv',\n 'N:\\\\Dev\\\\AI\\\\Underwriting\\\\data\\\\clients\\\\Oysharja Sayed and Saadman Ahmed\\\\Oysharja\\\\BRXM-F011215_Oysharja_Sayed_2023_Year_End_Paystub extracted_tables\\\\Table_2.csv',\n 'N:\\\\Dev\\\\AI\\\\Underwriting\\\\data\\\\clients\\\\Oysharja Sayed and Saadman Ahmed\\\\Oysharja\\\\BRXM-F011215_Oysharja_Sayed_2023_Year_End_Paystub extracted_tables\\\\Table_3.csv',\n 'N:\\\\Dev\\\\AI\\\\Underwriting\\\\data\\\\clients\\\\Oysharja Sayed and Saadman Ahmed\\\\Oysharja\\\\BRXM-F011215_Oysharja_Sayed_2023_Year_End_Paystub extracted_tables\\\\Table_4.csv',\n 'N:\\\\Dev\\\\AI\\\\Underwriting\\\\data\\\\clients\\\\Oysharja Sayed and Saadman Ahmed\\\\Oysharja\\\\BRXM-F011215_Oysharja_Sayed_2023_Year_End_Paystub extracted_tables\\\\Table_5.csv',\n 'N:\\\\Dev\\\\AI\\\\Underwriting\\\\data\\\\clients\\\\Oysharja Sayed and Saadman Ahmed\\\\Oysharja\\\\BRXM-F011215_Oysharja_Sayed_2023_Year_End_Paystub extracted_tables\\\\Table_5.csv']"
     },
     "execution_count": 4,
     "metadata": {},
     "output_type": "execute_result"
    }
   ],
   "source": [
    "payslip.table_paths"
   ],
   "metadata": {
    "collapsed": false,
    "ExecuteTime": {
     "end_time": "2024-04-05T19:42:27.044646300Z",
     "start_time": "2024-04-05T19:42:27.018761200Z"
    }
   },
   "id": "97b79352e6ac37c6",
   "execution_count": 4
  },
  {
   "cell_type": "code",
   "outputs": [],
   "source": [
    "from crewai_tools import BaseTool, CSVSearchTool\n",
    "\n",
    "csv_tools = []\n",
    "for csv in payslip.table_paths:\n",
    "    csv_tools.append(CSVSearchTool(csv=csv))\n",
    "\n",
    "class TableProcessingTool(BaseTool):\n",
    "    name: str = \"Table processing tool\"\n",
    "    description: str = \"This tool \"\n",
    "\n",
    "    def _run(self, argument: str) -> str:\n",
    "        # Implementation goes here\n",
    "        return \"Result from custom tool\""
   ],
   "metadata": {
    "collapsed": false,
    "ExecuteTime": {
     "end_time": "2024-04-05T19:42:29.232370Z",
     "start_time": "2024-04-05T19:42:28.396412100Z"
    }
   },
   "id": "38a26888fd2c177",
   "execution_count": 5
  },
  {
   "cell_type": "code",
   "outputs": [],
   "source": [
    "from langchain_openai import ChatOpenAI\n",
    "from crewai import Agent\n",
    "model = ChatOpenAI(\n",
    "    model=\"gpt-4-turbo-preview\"\n",
    ")\n",
    "csv_agent = Agent(\n",
    "        role='Table data extractor',\n",
    "        goal='Query and extract data from a structured table from in CSV format',\n",
    "        tools=csv_tools,\n",
    "        backstory='''As a Table data extractor, your mission is to extract relevant information from a CSV table. \n",
    "        The data in the table was extracted using an OCR and the headers might not be accurate.\n",
    "        You must do your best to derive the correct information from tables that might not be perfect''',\n",
    "        verbose=True,\n",
    "        allow_delegation=False,\n",
    "        llm=model,\n",
    "        step_callback=lambda x: print_agent_output(x,\"Senior Research Analyst Agent\"),\n",
    "    )\n",
    "# def table_text_agent(self):\n",
    "#         return Agent(\n",
    "#             role='Table text data extractor',\n",
    "#             goal='Extract data from an unstructured table in CSV format',\n",
    "#             backstory='''As a Table text data extractor, your mission is to derive relevant information from a table formatted as CSV. \n",
    "#             The information you gather will be compared to that of the specialized structured CSV table data extractor agent.\n",
    "#             In addition to that, you will also be tasked with finding out information which was not included in the structured tables or the specialized structured CSV table data extractor agent could not find''',\n",
    "#             verbose=True,\n",
    "#         )"
   ],
   "metadata": {
    "collapsed": false,
    "ExecuteTime": {
     "end_time": "2024-04-05T19:42:39.083775400Z",
     "start_time": "2024-04-05T19:42:39.063756Z"
    }
   },
   "id": "e619a7da736ce83c",
   "execution_count": 6
  },
  {
   "cell_type": "code",
   "outputs": [],
   "source": [
    "from crewai import Task\n",
    "\n",
    "get_salary_task = Task(\n",
    "            description='''Given the tables from the employee's payslip analyze them and return the salary of the employee''',\n",
    "            expected_output=\"A numerical value of the salary\\n\\neg. If the empolyee's salary is 70,0000USD the output will be: 70,000\",\n",
    "            agent=csv_agent,\n",
    "        )"
   ],
   "metadata": {
    "collapsed": false,
    "ExecuteTime": {
     "end_time": "2024-04-05T19:42:42.464531700Z",
     "start_time": "2024-04-05T19:42:42.448501100Z"
    }
   },
   "id": "fa58dbdd968e9bb5",
   "execution_count": 7
  },
  {
   "cell_type": "code",
   "outputs": [],
   "source": [
    "from crewai import Crew, Process\n",
    "\n",
    "# Create Crew responsible for Copy\n",
    "crew = Crew(\n",
    "\tagents=[csv_agent],\n",
    "\ttasks=[get_salary_task],\n",
    "    verbose=2,\n",
    "    process=Process.sequential,\n",
    "    full_output=True,\n",
    "    share_crew=False,\n",
    "    step_callback=lambda x: print_agent_output(x,\"MasterCrew Agent\")\n",
    ")"
   ],
   "metadata": {
    "collapsed": false,
    "ExecuteTime": {
     "end_time": "2024-04-05T19:42:43.843006300Z",
     "start_time": "2024-04-05T19:42:43.804308Z"
    }
   },
   "id": "d4a5be8ae066c232",
   "execution_count": 8
  },
  {
   "cell_type": "code",
   "outputs": [
    {
     "name": "stdout",
     "output_type": "stream",
     "text": [
      "\u001B[1m\u001B[93m [DEBUG]: == Working Agent: Table data extractor\u001B[00m\n",
      "\u001B[1m\u001B[93m [INFO]: == Starting Task: Given the tables from the employee's payslip analyze them and return the salary of the employee\u001B[00m\n",
      "\n",
      "\n",
      "\u001B[1m> Entering new CrewAgentExecutor chain...\u001B[0m\n",
      "\u001B[32;1m\u001B[1;3mThought: To determine the salary of the employee from the payslips, I need to find the table that contains salary information. This information could be in terms like \"Gross Pay,\" \"Monthly Salary,\" \"Annual Salary,\" or simply \"Salary.\" Since the headers might not be accurate, I should start by searching for these terms across the tables to locate the relevant data.\n",
      "\n",
      "Action: Search a CSV's content\n",
      "\n",
      "Action Input: {\"search_query\": \"Gross Pay\"}\n",
      "\u001B[0m"
     ]
    },
    {
     "name": "stderr",
     "output_type": "stream",
     "text": [
      "Inserting batches in chromadb: 100%|██████████| 1/1 [00:01<00:00,  1.03s/it]\n"
     ]
    },
    {
     "name": "stdout",
     "output_type": "stream",
     "text": [
      "Successfully saved N:\\Dev\\AI\\Underwriting\\data\\clients\\Oysharja Sayed and Saadman Ahmed\\Oysharja\\BRXM-F011215_Oysharja_Sayed_2023_Year_End_Paystub extracted_tables\\Table_1.csv (DataType.CSV). New chunks count: 4\n",
      "\u001B[93m \n",
      "\n",
      "Relevant Content:\n",
      "TAXES: Employment Insurance, Current: 0.00, YTD: 1,002.45, :\n",
      "\n",
      ": , STATEMENT: , OF\n",
      "BULLETIN DE: , EARNINGS\n",
      "PAIE: 2.591,88\n",
      "\n",
      ": , STATEMENT: , OF\n",
      "BULLETIN DE: , EARNINGS\n",
      "PAIE:\n",
      "\u001B[00m\n",
      "\u001B[32;1m\u001B[1;3mThought: The observation indicates a \"Gross Pay\" or earnings figure, but it's not immediately clear which table this is from or if it directly provides a salary amount. The amount \"2.591,88\" might be relevant but it's unclear if this is a monthly, bi-weekly, or annual figure due to formatting and lack of context. I should search for additional terms that could clarify the salary amount, such as \"Annual Salary\" or \"Monthly Salary,\" to ensure I have a comprehensive understanding.\n",
      "\n",
      "Action: Search a CSV's content\n",
      "\n",
      "Action Input: {\"search_query\": \"Annual Salary\"}\n",
      "\u001B[0mDoc content has not changed. Skipping creating chunks and embeddings\n",
      "\u001B[93m \n",
      "\n",
      "Relevant Content:\n",
      "TAXES: Income Tax, Current: 759.89, YTD: 18,371.79, :\n",
      "\n",
      "TAXES: , Current: , YTD: , :\n",
      "\n",
      "TAXES: Employment Insurance, Current: 0.00, YTD: 1,002.45, :\n",
      "\u001B[00m\n",
      "\u001B[32;1m\u001B[1;3mThought: The search for \"Annual Salary\" did not directly return any specific figures labeled as such, indicating that the tables might not explicitly mention \"Annual Salary\". The information on taxes and employment insurance is useful for understanding deductions but does not provide the gross or net salary directly. Given the format of the data and the searches conducted so far, it might be beneficial to search for \"Monthly Salary\" next, as this term could potentially offer a clearer insight into the employee's regular earnings.\n",
      "\n",
      "Action: Search a CSV's content\n",
      "\n",
      "Action Input: {\"search_query\": \"Monthly Salary\"}\n",
      "\u001B[0mDoc content has not changed. Skipping creating chunks and embeddings\n",
      "\u001B[93m \n",
      "\n",
      "Relevant Content:\n",
      "TAXES: , Current: , YTD: , :\n",
      "\n",
      "TAXES: Income Tax, Current: 759.89, YTD: 18,371.79, :\n",
      "\n",
      "TAXES: Employment Insurance, Current: 0.00, YTD: 1,002.45, :\n",
      "\u001B[00m\n",
      "\u001B[32;1m\u001B[1;3mThought: Since the terms \"Gross Pay,\" \"Annual Salary,\" and \"Monthly Salary\" did not yield direct and clear results, it might be beneficial to search for a more general term like \"Salary\" which could be present in any form within the tables. This could potentially capture a broader range of relevant data entries related to the employee's earnings.\n",
      "\n",
      "Action: Search a CSV's content\n",
      "\n",
      "Action Input: {\"search_query\": \"Salary\"}\n",
      "\u001B[0mDoc content has not changed. Skipping creating chunks and embeddings\n",
      "\u001B[93m \n",
      "\n",
      "Relevant Content:\n",
      ": , STATEMENT: , OF\n",
      "BULLETIN DE: , EARNINGS\n",
      "PAIE:\n",
      "\n",
      "TAXES: Employment Insurance, Current: 0.00, YTD: 1,002.45, :\n",
      "\n",
      "TAXES: , Current: , YTD: , :\n",
      "\u001B[00m\n",
      "\u001B[32;1m\u001B[1;3mThought: The attempts to find specific terms related to the salary did not yield direct results indicating the employee's salary in a clear format. The search for \"Salary\" also did not provide new or specific numerical data that could be directly interpreted as the salary. Given the limitations and the data observed, it's possible that the salary information might not be explicitly labeled in a straightforward manner or that the OCR extraction might have missed or mislabeled crucial numerical data. Without a clear numerical figure from the searches conducted that specifies an annual, monthly, or gross pay amount, determining the exact salary from the provided observations is not feasible with the current information.\n",
      "\n",
      "Final Answer: The salary of the employee cannot be determined from the provided observations and search results.\u001B[0m\n",
      "\n",
      "\u001B[1m> Finished chain.\u001B[0m\n",
      "\u001B[1m\u001B[92m [DEBUG]: == [Table data extractor] Task output: The salary of the employee cannot be determined from the provided observations and search results.\n",
      "\n",
      "\u001B[00m\n",
      "Crew Work Results:\n",
      "{'final_output': 'The salary of the employee cannot be determined from the provided observations and search results.', 'tasks_outputs': [TaskOutput(description=\"Given the tables from the employee's payslip analyze them and return the salary of the employee\", summary=\"Given the tables from the employee's payslip analyze them and...\", exported_output='The salary of the employee cannot be determined from the provided observations and search results.', raw_output='The salary of the employee cannot be determined from the provided observations and search results.')]}\n"
     ]
    }
   ],
   "source": [
    "result = crew.kickoff()\n",
    "\n",
    "# Print the results\n",
    "print(\"Crew Work Results:\")\n",
    "print(result)"
   ],
   "metadata": {
    "collapsed": false,
    "ExecuteTime": {
     "end_time": "2024-04-05T19:43:18.039920100Z",
     "start_time": "2024-04-05T19:42:47.531805300Z"
    }
   },
   "id": "9c044612ad978dfb",
   "execution_count": 9
  },
  {
   "cell_type": "code",
   "outputs": [],
   "source": [],
   "metadata": {
    "collapsed": false
   },
   "id": "298006157d5f1eeb"
  }
 ],
 "metadata": {
  "kernelspec": {
   "display_name": "Python 3",
   "language": "python",
   "name": "python3"
  },
  "language_info": {
   "codemirror_mode": {
    "name": "ipython",
    "version": 2
   },
   "file_extension": ".py",
   "mimetype": "text/x-python",
   "name": "python",
   "nbconvert_exporter": "python",
   "pygments_lexer": "ipython2",
   "version": "2.7.6"
  }
 },
 "nbformat": 4,
 "nbformat_minor": 5
}
