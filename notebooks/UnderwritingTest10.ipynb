{
 "cells": [
  {
   "cell_type": "code",
   "execution_count": 101,
   "id": "initial_id",
   "metadata": {
    "collapsed": true,
    "ExecuteTime": {
     "end_time": "2024-04-17T18:40:27.220086400Z",
     "start_time": "2024-04-17T18:40:27.209664800Z"
    }
   },
   "outputs": [],
   "source": [
    "import pandas as pd\n",
    "import pprint"
   ]
  },
  {
   "cell_type": "code",
   "outputs": [],
   "source": [
    "table_set_1 = \\\n",
    "[\n",
    "r\"N:\\Dev\\AI\\Underwriting\\data\\clients\\Kaitlyn Benning\\BRXM-F012257_Kaitlyn_Benning_2023_Year_End_Paystub extracted_tables\\Table_1.csv\",\n",
    "r\"N:\\Dev\\AI\\Underwriting\\data\\clients\\Kaitlyn Benning\\BRXM-F012257_Kaitlyn_Benning_2023_Year_End_Paystub extracted_tables\\Table_2.csv\",\n",
    "r\"N:\\Dev\\AI\\Underwriting\\data\\clients\\Kaitlyn Benning\\BRXM-F012257_Kaitlyn_Benning_2023_Year_End_Paystub extracted_tables\\Table_3.csv\",\n",
    "r\"N:\\Dev\\AI\\Underwriting\\data\\clients\\Kaitlyn Benning\\BRXM-F012257_Kaitlyn_Benning_2023_Year_End_Paystub extracted_tables\\Table_4.csv\",\n",
    "r\"N:\\Dev\\AI\\Underwriting\\data\\clients\\Kaitlyn Benning\\BRXM-F012257_Kaitlyn_Benning_2023_Year_End_Paystub extracted_tables\\Table_5.csv\",\n",
    "r\"N:\\Dev\\AI\\Underwriting\\data\\clients\\Kaitlyn Benning\\BRXM-F012257_Kaitlyn_Benning_2023_Year_End_Paystub extracted_tables\\Table_6.csv\",\n",
    "r\"N:\\Dev\\AI\\Underwriting\\data\\clients\\Kaitlyn Benning\\BRXM-F012257_Kaitlyn_Benning_2023_Year_End_Paystub extracted_tables\\Table_7.csv\",\n",
    "r\"N:\\Dev\\AI\\Underwriting\\data\\clients\\Kaitlyn Benning\\BRXM-F012257_Kaitlyn_Benning_2023_Year_End_Paystub extracted_tables\\Table_8.csv\",\n",
    "r\"N:\\Dev\\AI\\Underwriting\\data\\clients\\Kaitlyn Benning\\BRXM-F012257_Kaitlyn_Benning_2023_Year_End_Paystub extracted_tables\\Table_9.csv\",\n",
    "r\"N:\\Dev\\AI\\Underwriting\\data\\clients\\Kaitlyn Benning\\BRXM-F012257_Kaitlyn_Benning_2023_Year_End_Paystub extracted_tables\\Table_10.csv\",\n",
    "r\"N:\\Dev\\AI\\Underwriting\\data\\clients\\Kaitlyn Benning\\BRXM-F012257_Kaitlyn_Benning_2023_Year_End_Paystub extracted_tables\\Table_11.csv\",\n",
    "]"
   ],
   "metadata": {
    "collapsed": false,
    "ExecuteTime": {
     "end_time": "2024-04-17T18:40:27.269827800Z",
     "start_time": "2024-04-17T18:40:27.222085Z"
    }
   },
   "id": "d84e33093c6d5f37",
   "execution_count": 102
  },
  {
   "cell_type": "code",
   "outputs": [],
   "source": [
    "from typing import List\n",
    "csvs_1 = []\n",
    "for table in table_set_1:\n",
    "    with open(table, 'r') as file:\n",
    "        csvs_1.append(file.read())\n",
    "    \n",
    "dfs_1 = [pd.read_csv(file) for file in table_set_1]\n",
    "i = 2"
   ],
   "metadata": {
    "collapsed": false,
    "ExecuteTime": {
     "end_time": "2024-04-17T18:40:27.272827Z",
     "start_time": "2024-04-17T18:40:27.237597400Z"
    }
   },
   "id": "44a297aa05710427",
   "execution_count": 103
  },
  {
   "cell_type": "code",
   "outputs": [
    {
     "data": {
      "text/plain": "                               Taxable Wages Unnamed: 1 Unnamed: 2  \\\n0                                Description     Amount        YTD   \n1     Federal Income Tax (FIT) Taxable Wages   1,542.96  93,754.93   \n2  Province Income Tax (PIT) - Taxable Wages   1,542.96  93,754.93   \n3                                        NaN        NaN        NaN   \n4                                        NaN        NaN        NaN   \n\n   Unnamed: 3  Unnamed: 4  Unnamed: 5  Unnamed: 6  \n0         NaN         NaN         NaN         NaN  \n1         NaN         NaN         NaN         NaN  \n2         NaN         NaN         NaN         NaN  \n3         NaN         NaN         NaN         NaN  \n4         NaN         NaN         NaN         NaN  ",
      "text/html": "<div>\n<style scoped>\n    .dataframe tbody tr th:only-of-type {\n        vertical-align: middle;\n    }\n\n    .dataframe tbody tr th {\n        vertical-align: top;\n    }\n\n    .dataframe thead th {\n        text-align: right;\n    }\n</style>\n<table border=\"1\" class=\"dataframe\">\n  <thead>\n    <tr style=\"text-align: right;\">\n      <th></th>\n      <th>Taxable Wages</th>\n      <th>Unnamed: 1</th>\n      <th>Unnamed: 2</th>\n      <th>Unnamed: 3</th>\n      <th>Unnamed: 4</th>\n      <th>Unnamed: 5</th>\n      <th>Unnamed: 6</th>\n    </tr>\n  </thead>\n  <tbody>\n    <tr>\n      <th>0</th>\n      <td>Description</td>\n      <td>Amount</td>\n      <td>YTD</td>\n      <td>NaN</td>\n      <td>NaN</td>\n      <td>NaN</td>\n      <td>NaN</td>\n    </tr>\n    <tr>\n      <th>1</th>\n      <td>Federal Income Tax (FIT) Taxable Wages</td>\n      <td>1,542.96</td>\n      <td>93,754.93</td>\n      <td>NaN</td>\n      <td>NaN</td>\n      <td>NaN</td>\n      <td>NaN</td>\n    </tr>\n    <tr>\n      <th>2</th>\n      <td>Province Income Tax (PIT) - Taxable Wages</td>\n      <td>1,542.96</td>\n      <td>93,754.93</td>\n      <td>NaN</td>\n      <td>NaN</td>\n      <td>NaN</td>\n      <td>NaN</td>\n    </tr>\n    <tr>\n      <th>3</th>\n      <td>NaN</td>\n      <td>NaN</td>\n      <td>NaN</td>\n      <td>NaN</td>\n      <td>NaN</td>\n      <td>NaN</td>\n      <td>NaN</td>\n    </tr>\n    <tr>\n      <th>4</th>\n      <td>NaN</td>\n      <td>NaN</td>\n      <td>NaN</td>\n      <td>NaN</td>\n      <td>NaN</td>\n      <td>NaN</td>\n      <td>NaN</td>\n    </tr>\n  </tbody>\n</table>\n</div>"
     },
     "execution_count": 104,
     "metadata": {},
     "output_type": "execute_result"
    }
   ],
   "source": [
    "dfs_1[i]"
   ],
   "metadata": {
    "collapsed": false,
    "ExecuteTime": {
     "end_time": "2024-04-17T18:40:27.287903100Z",
     "start_time": "2024-04-17T18:40:27.273826800Z"
    }
   },
   "id": "125ad8faa933a3f8",
   "execution_count": 104
  },
  {
   "cell_type": "code",
   "outputs": [
    {
     "name": "stdout",
     "output_type": "stream",
     "text": [
      "('Taxable Wages,,,,,,\\n'\n",
      " 'Description,Amount,YTD,,,,\\n'\n",
      " 'Federal Income Tax (FIT) Taxable Wages,\"1,542.96\",\"93,754.93\",,,,\\n'\n",
      " 'Province Income Tax (PIT) - Taxable Wages,\"1,542.96\",\"93,754.93\",,,,\\n'\n",
      " ',,,,,,\\n'\n",
      " ',,,,,,\\n')\n"
     ]
    }
   ],
   "source": [
    "pprint.pprint(csvs_1[i])"
   ],
   "metadata": {
    "collapsed": false,
    "ExecuteTime": {
     "end_time": "2024-04-17T18:40:27.313863100Z",
     "start_time": "2024-04-17T18:40:27.284904Z"
    }
   },
   "id": "adbeccc0bf88c94b",
   "execution_count": 105
  },
  {
   "cell_type": "code",
   "outputs": [],
   "source": [
    "prompt = \"\"\"Given the following table, check if the first line is an actual row or just a header for the table. If it is, print the table without the header ONLY!\n",
    "\n",
    "Rules:\n",
    "- ONLY remove the first line!\n",
    "- If there is no header, return the table ONLY!\n",
    "- ONLY RETURN THE TABLE in CSV format!!!\n",
    "- Do not, under and circumstance, add any prefix or postfix sentences not in CSV format!\n",
    "\n",
    "CSV:\n",
    "\n",
    "\"\"\""
   ],
   "metadata": {
    "collapsed": false,
    "ExecuteTime": {
     "end_time": "2024-04-17T18:40:27.333883800Z",
     "start_time": "2024-04-17T18:40:27.300438800Z"
    }
   },
   "id": "c7e32add989fc6fd",
   "execution_count": 106
  },
  {
   "cell_type": "code",
   "outputs": [
    {
     "name": "stdout",
     "output_type": "stream",
     "text": [
      "Given the following table, check if the first line is an actual row or just a header for the table. If it is, print the table without the header ONLY!\n",
      "\n",
      "Rules:\n",
      "- ONLY remove the first line!\n",
      "- If there is no header, return the table ONLY!\n",
      "- ONLY RETURN THE TABLE in CSV format!!!\n",
      "- Do not, under and circumstance, add any prefix or postfix sentences not in CSV format!\n",
      "\n",
      "CSV:\n",
      "\n",
      "Taxable Wages,,,,,,\n",
      "Description,Amount,YTD,,,,\n",
      "Federal Income Tax (FIT) Taxable Wages,\"1,542.96\",\"93,754.93\",,,,\n",
      "Province Income Tax (PIT) - Taxable Wages,\"1,542.96\",\"93,754.93\",,,,\n",
      ",,,,,,\n",
      ",,,,,,\n"
     ]
    }
   ],
   "source": [
    "from langchain_openai import ChatOpenAI\n",
    "from dotenv import load_dotenv, find_dotenv\n",
    "load_dotenv(find_dotenv())\n",
    "\n",
    "llm = ChatOpenAI(model=\"gpt-4-turbo\", temperature=0)\n",
    "print(prompt + csvs_1[i])"
   ],
   "metadata": {
    "collapsed": false,
    "ExecuteTime": {
     "end_time": "2024-04-17T18:40:27.378551800Z",
     "start_time": "2024-04-17T18:40:27.315863100Z"
    }
   },
   "id": "726633260188d96b",
   "execution_count": 107
  },
  {
   "cell_type": "code",
   "outputs": [
    {
     "name": "stdout",
     "output_type": "stream",
     "text": [
      "Federal Income Tax (FIT) Taxable Wages,\"1,542.96\",\"93,754.93\",,,,\n",
      "Province Income Tax (PIT) - Taxable Wages,\"1,542.96\",\"93,754.93\",,,,\n",
      ",,,,,,\n",
      ",,,,,,\n"
     ]
    }
   ],
   "source": [
    "result = llm.invoke(prompt + csvs_1[i]).content\n",
    "print(result)"
   ],
   "metadata": {
    "collapsed": false,
    "ExecuteTime": {
     "end_time": "2024-04-17T18:40:30.006888300Z",
     "start_time": "2024-04-17T18:40:27.348440100Z"
    }
   },
   "id": "bdd5e88a7a9b9e05",
   "execution_count": 108
  },
  {
   "cell_type": "code",
   "outputs": [
    {
     "data": {
      "text/plain": "      Federal Income Tax (FIT) Taxable Wages  1,542.96  93,754.93  Unnamed: 3  \\\n0  Province Income Tax (PIT) - Taxable Wages  1,542.96  93,754.93         NaN   \n1                                        NaN       NaN        NaN         NaN   \n2                                        NaN       NaN        NaN         NaN   \n\n   Unnamed: 4  Unnamed: 5  Unnamed: 6  \n0         NaN         NaN         NaN  \n1         NaN         NaN         NaN  \n2         NaN         NaN         NaN  ",
      "text/html": "<div>\n<style scoped>\n    .dataframe tbody tr th:only-of-type {\n        vertical-align: middle;\n    }\n\n    .dataframe tbody tr th {\n        vertical-align: top;\n    }\n\n    .dataframe thead th {\n        text-align: right;\n    }\n</style>\n<table border=\"1\" class=\"dataframe\">\n  <thead>\n    <tr style=\"text-align: right;\">\n      <th></th>\n      <th>Federal Income Tax (FIT) Taxable Wages</th>\n      <th>1,542.96</th>\n      <th>93,754.93</th>\n      <th>Unnamed: 3</th>\n      <th>Unnamed: 4</th>\n      <th>Unnamed: 5</th>\n      <th>Unnamed: 6</th>\n    </tr>\n  </thead>\n  <tbody>\n    <tr>\n      <th>0</th>\n      <td>Province Income Tax (PIT) - Taxable Wages</td>\n      <td>1,542.96</td>\n      <td>93,754.93</td>\n      <td>NaN</td>\n      <td>NaN</td>\n      <td>NaN</td>\n      <td>NaN</td>\n    </tr>\n    <tr>\n      <th>1</th>\n      <td>NaN</td>\n      <td>NaN</td>\n      <td>NaN</td>\n      <td>NaN</td>\n      <td>NaN</td>\n      <td>NaN</td>\n      <td>NaN</td>\n    </tr>\n    <tr>\n      <th>2</th>\n      <td>NaN</td>\n      <td>NaN</td>\n      <td>NaN</td>\n      <td>NaN</td>\n      <td>NaN</td>\n      <td>NaN</td>\n      <td>NaN</td>\n    </tr>\n  </tbody>\n</table>\n</div>"
     },
     "execution_count": 109,
     "metadata": {},
     "output_type": "execute_result"
    }
   ],
   "source": [
    "from io import StringIO\n",
    "\n",
    "\n",
    "csv_result = StringIO(result)\n",
    "result_df = pd.read_csv(csv_result)\n",
    "result_df"
   ],
   "metadata": {
    "collapsed": false,
    "ExecuteTime": {
     "end_time": "2024-04-17T18:40:30.022915300Z",
     "start_time": "2024-04-17T18:40:30.006888300Z"
    }
   },
   "id": "1a345609f101654c",
   "execution_count": 109
  },
  {
   "cell_type": "code",
   "outputs": [
    {
     "data": {
      "text/plain": "                               Taxable Wages Unnamed: 1 Unnamed: 2  \\\n0                                Description     Amount        YTD   \n1     Federal Income Tax (FIT) Taxable Wages   1,542.96  93,754.93   \n2  Province Income Tax (PIT) - Taxable Wages   1,542.96  93,754.93   \n3                                        NaN        NaN        NaN   \n4                                        NaN        NaN        NaN   \n\n   Unnamed: 3  Unnamed: 4  Unnamed: 5  Unnamed: 6  \n0         NaN         NaN         NaN         NaN  \n1         NaN         NaN         NaN         NaN  \n2         NaN         NaN         NaN         NaN  \n3         NaN         NaN         NaN         NaN  \n4         NaN         NaN         NaN         NaN  ",
      "text/html": "<div>\n<style scoped>\n    .dataframe tbody tr th:only-of-type {\n        vertical-align: middle;\n    }\n\n    .dataframe tbody tr th {\n        vertical-align: top;\n    }\n\n    .dataframe thead th {\n        text-align: right;\n    }\n</style>\n<table border=\"1\" class=\"dataframe\">\n  <thead>\n    <tr style=\"text-align: right;\">\n      <th></th>\n      <th>Taxable Wages</th>\n      <th>Unnamed: 1</th>\n      <th>Unnamed: 2</th>\n      <th>Unnamed: 3</th>\n      <th>Unnamed: 4</th>\n      <th>Unnamed: 5</th>\n      <th>Unnamed: 6</th>\n    </tr>\n  </thead>\n  <tbody>\n    <tr>\n      <th>0</th>\n      <td>Description</td>\n      <td>Amount</td>\n      <td>YTD</td>\n      <td>NaN</td>\n      <td>NaN</td>\n      <td>NaN</td>\n      <td>NaN</td>\n    </tr>\n    <tr>\n      <th>1</th>\n      <td>Federal Income Tax (FIT) Taxable Wages</td>\n      <td>1,542.96</td>\n      <td>93,754.93</td>\n      <td>NaN</td>\n      <td>NaN</td>\n      <td>NaN</td>\n      <td>NaN</td>\n    </tr>\n    <tr>\n      <th>2</th>\n      <td>Province Income Tax (PIT) - Taxable Wages</td>\n      <td>1,542.96</td>\n      <td>93,754.93</td>\n      <td>NaN</td>\n      <td>NaN</td>\n      <td>NaN</td>\n      <td>NaN</td>\n    </tr>\n    <tr>\n      <th>3</th>\n      <td>NaN</td>\n      <td>NaN</td>\n      <td>NaN</td>\n      <td>NaN</td>\n      <td>NaN</td>\n      <td>NaN</td>\n      <td>NaN</td>\n    </tr>\n    <tr>\n      <th>4</th>\n      <td>NaN</td>\n      <td>NaN</td>\n      <td>NaN</td>\n      <td>NaN</td>\n      <td>NaN</td>\n      <td>NaN</td>\n      <td>NaN</td>\n    </tr>\n  </tbody>\n</table>\n</div>"
     },
     "execution_count": 111,
     "metadata": {},
     "output_type": "execute_result"
    }
   ],
   "source": [
    "dfs_1[i]\n"
   ],
   "metadata": {
    "collapsed": false,
    "ExecuteTime": {
     "end_time": "2024-04-17T18:41:24.106568100Z",
     "start_time": "2024-04-17T18:41:24.074923800Z"
    }
   },
   "id": "3b67591eec987e6a",
   "execution_count": 111
  },
  {
   "cell_type": "code",
   "outputs": [],
   "source": [
    "# TODO:\n",
    "# Only use LLM for detection and remove lines manually\n",
    "# Maybe agent that will iterate until done"
   ],
   "metadata": {
    "collapsed": false,
    "ExecuteTime": {
     "end_time": "2024-04-17T18:41:28.313477800Z",
     "start_time": "2024-04-17T18:41:28.285393100Z"
    }
   },
   "id": "a7c175c5614cbf23",
   "execution_count": 112
  },
  {
   "cell_type": "code",
   "outputs": [],
   "source": [],
   "metadata": {
    "collapsed": false
   },
   "id": "15442cbca0cbda21"
  }
 ],
 "metadata": {
  "kernelspec": {
   "display_name": "Python 3",
   "language": "python",
   "name": "python3"
  },
  "language_info": {
   "codemirror_mode": {
    "name": "ipython",
    "version": 2
   },
   "file_extension": ".py",
   "mimetype": "text/x-python",
   "name": "python",
   "nbconvert_exporter": "python",
   "pygments_lexer": "ipython2",
   "version": "2.7.6"
  }
 },
 "nbformat": 4,
 "nbformat_minor": 5
}
