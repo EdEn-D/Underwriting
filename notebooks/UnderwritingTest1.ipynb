{
 "cells": [
  {
   "cell_type": "code",
   "execution_count": 2,
   "id": "initial_id",
   "metadata": {
    "collapsed": true,
    "jupyter": {
     "outputs_hidden": true
    },
    "ExecuteTime": {
     "end_time": "2024-03-01T12:27:18.717045900Z",
     "start_time": "2024-03-01T12:27:18.696793400Z"
    }
   },
   "outputs": [],
   "source": [
    "import fitz  # Import the PyMuPDF library\n"
   ]
  },
  {
   "cell_type": "markdown",
   "id": "691d3c34dbb9d13",
   "metadata": {
    "collapsed": false
   },
   "source": [
    "# Extracting Text from PDF"
   ]
  },
  {
   "cell_type": "code",
   "execution_count": 3,
   "id": "7fbd0f224551f3ee",
   "metadata": {
    "collapsed": false,
    "ExecuteTime": {
     "end_time": "2024-03-01T12:27:20.520701500Z",
     "start_time": "2024-03-01T12:27:20.495036300Z"
    }
   },
   "outputs": [],
   "source": [
    "def extract_text_from_pdf(pdf_path):\n",
    "    document = fitz.open(pdf_path)  # Open the PDF file\n",
    "    text = \"\"\n",
    "    for page in document:  # Iterate through each page\n",
    "        text += page.get_text()  # Extract text from the page\n",
    "    document.close()  # Close the document\n",
    "    return text"
   ]
  },
  {
   "cell_type": "code",
   "execution_count": 6,
   "id": "7efdfb923e781e58",
   "metadata": {
    "collapsed": false,
    "ExecuteTime": {
     "end_time": "2024-03-01T12:33:10.718216900Z",
     "start_time": "2024-03-01T12:33:10.679234400Z"
    }
   },
   "outputs": [
    {
     "name": "stdout",
     "output_type": "stream",
     "text": [
      "November 16, 2023\n",
      "To whom it may concern,\n",
      "BARRICK GOLD CORPORATION\n",
      "P.O. Bag 500\n",
      "Marathon, Ontario P0T 2E0 \n",
      "Canada\n",
      "Tel: +1 807-238-1100\n",
      "This letter is confirmation that Yash Patel is employed fulltime/permanent at a company within \n",
      "Ontario, Williams Operating Corporation. He is an employee in the role of Drill and Blast Planner \n",
      "in the Technical Services department working on a 14 on, 14 off schedule. He has been employed \n",
      "since May 7, 2019. He works an average of 40 hrs/week with a current annual salary of\n",
      "$105,000.00\n",
      "If you have any further questions, please feel free to contact me.\n",
      "Sincerely,\n",
      "Stacey Ratte\n",
      "Human Resources Business Partner \n",
      "sratte@barrick.com\n",
      "807-238-2170\n"
     ]
    }
   ],
   "source": [
    "# Replace 'yourfile.pdf' with the path to your PDF file\n",
    "pdf_text_1 = extract_text_from_pdf(\"Underwriting/Yash LOE 11.16.2023.pdf\")\n",
    "pdf_text_2 = extract_text_from_pdf(\"Underwriting/Yash_Patel_2022_-_T4_Slip.pdf\")\n",
    "print(pdf_text_1)"
   ]
  },
  {
   "cell_type": "markdown",
   "source": [
    "## Extracting Employment income from T4 - employee"
   ],
   "metadata": {
    "collapsed": false
   },
   "id": "450ca2c55bc5afba"
  },
  {
   "cell_type": "code",
   "outputs": [
    {
     "data": {
      "text/plain": "'122,024.52'"
     },
     "execution_count": 9,
     "metadata": {},
     "output_type": "execute_result"
    }
   ],
   "source": [
    "pdf_lines = pdf_text_2.split('\\n')\n",
    "i = pdf_lines.index('Employment income')\n",
    "t4_income = pdf_lines[i+3]\n",
    "t4_income"
   ],
   "metadata": {
    "collapsed": false,
    "ExecuteTime": {
     "end_time": "2024-03-01T12:34:19.366887700Z",
     "start_time": "2024-03-01T12:34:19.345121800Z"
    }
   },
   "id": "bedccfea8c031fff",
   "execution_count": 9
  },
  {
   "cell_type": "markdown",
   "id": "a9ae5b6d54a84668",
   "metadata": {
    "collapsed": false
   },
   "source": [
    "# Extracting Tables from PDF\n",
    "\n",
    "## Tabula"
   ]
  },
  {
   "cell_type": "code",
   "execution_count": 1,
   "id": "44d3782779f70824",
   "metadata": {
    "ExecuteTime": {
     "end_time": "2024-02-19T17:23:29.577667800Z",
     "start_time": "2024-02-19T17:23:29.048876900Z"
    },
    "collapsed": false
   },
   "outputs": [],
   "source": [
    "from tabula import read_pdf"
   ]
  },
  {
   "cell_type": "code",
   "execution_count": 2,
   "id": "c3c9726e34aa1fa2",
   "metadata": {
    "ExecuteTime": {
     "end_time": "2024-02-19T18:21:47.217301400Z",
     "start_time": "2024-02-19T18:21:46.597298700Z"
    },
    "collapsed": false
   },
   "outputs": [
    {
     "name": "stderr",
     "output_type": "stream",
     "text": [
      "Error importing jpype dependencies. Fallback to subprocess.\n",
      "No module named 'jpype'\n",
      "C:\\Users\\edent\\AppData\\Local\\Programs\\Python\\Python310\\lib\\site-packages\\tabula\\io.py:1045: FutureWarning: errors='ignore' is deprecated and will raise in a future version. Use to_numeric without passing `errors` and catch exceptions explicitly instead\n",
      "  df[c] = pd.to_numeric(df[c], errors=\"ignore\")\n"
     ]
    }
   ],
   "source": [
    "# The path to your PDF file\n",
    "pdf_path = 'Underwriting/Yash Paystub Nov 17 2023.pdf'\n",
    "\n",
    "# Use read_pdf to extract tables into a DataFrame\n",
    "tables = read_pdf(pdf_path, pages=\"all\", lattice=\"True\", multiple_tables=True)"
   ]
  },
  {
   "cell_type": "code",
   "execution_count": 3,
   "id": "a050404ab3123979",
   "metadata": {
    "ExecuteTime": {
     "end_time": "2024-02-19T18:21:58.524453500Z",
     "start_time": "2024-02-19T18:21:58.516214500Z"
    },
    "collapsed": false
   },
   "outputs": [
    {
     "name": "stdout",
     "output_type": "stream",
     "text": [
      "Table 0:\n",
      "                                          Unnamed: 0  \\\n",
      "0                                                NaN   \n",
      "1                                      Employee Name   \n",
      "2                                         Yash Patel   \n",
      "3                                   Employee Address   \n",
      "4  4 Graham Crescent\\rBox 2180\\rMarathon, ON P0T 2E0   \n",
      "5                                  Period Begin Date   \n",
      "6                                        29-OCT-2023   \n",
      "\n",
      "                                          Unnamed: 1  \\\n",
      "0                                                NaN   \n",
      "1                                    Employee Number   \n",
      "2                                            1500334   \n",
      "3                                   Employer Address   \n",
      "4  Surface Warehouse\\r3 KM West of the junction o...   \n",
      "5                                    Period End Date   \n",
      "6                                        11-NOV-2023   \n",
      "\n",
      "                        Unnamed: 2          Pay Date  \n",
      "0                              NaN       17-NOV-2023  \n",
      "1              Employer Legal Name       Base Salary  \n",
      "2  Williams Operating\\rCorporation        105,000.00  \n",
      "3                              NaN               NaN  \n",
      "4                              NaN               NaN  \n",
      "5           Personal Leave Balance  Vacation Balance  \n",
      "6                              NaN               NaN  \n",
      "Table 1:\n",
      "                                    Summary  Current  YTD\n",
      "0               Gross Pay4,438.46117,446.29      NaN  NaN\n",
      "1            Taxable Benefits259.305,963.90      NaN  NaN\n",
      "2  Employee Tax Deductions1,187.8838,511.90      NaN  NaN\n",
      "3        Voluntary Deductions201.924,703.56      NaN  NaN\n",
      "4             Nonpayroll Payments0.00300.00      NaN  NaN\n",
      "5                  Net Pay3,048.6674,530.83      NaN  NaN\n",
      "Table 2:\n",
      "                            Gross Pay  \\\n",
      "0               Residential Allowance   \n",
      "1                Short Term Incentive   \n",
      "2                 Vacation Adjustment   \n",
      "3                         Regular Pay   \n",
      "4                      Bank Time Paid   \n",
      "5  Bank Time Paid\\rDisbursement Retro   \n",
      "6                      Personal Leave   \n",
      "7                Personal Leave Retro   \n",
      "8                            Subtotal   \n",
      "\n",
      "                                               Hours  Rate  Multiple  Current  \\\n",
      "0  400.009,200.00\\r0.008,203.00\\r0.001,504.86\\r80...   NaN       NaN      NaN   \n",
      "1                                                NaN   NaN       NaN      NaN   \n",
      "2                                                NaN   NaN       NaN      NaN   \n",
      "3                                                NaN   NaN       NaN      NaN   \n",
      "4                                                NaN   NaN       NaN      NaN   \n",
      "5                                                NaN   NaN       NaN      NaN   \n",
      "6                                                NaN   NaN       NaN      NaN   \n",
      "7                                                NaN   NaN       NaN      NaN   \n",
      "8                                 4,438.46117,446.29   NaN       NaN      NaN   \n",
      "\n",
      "   YTD  \n",
      "0  NaN  \n",
      "1  NaN  \n",
      "2  NaN  \n",
      "3  NaN  \n",
      "4  NaN  \n",
      "5  NaN  \n",
      "6  NaN  \n",
      "7  NaN  \n",
      "8  NaN  \n",
      "Table 3:\n",
      "                                    Taxable Benefits  \\\n",
      "0  AD&D Benefit1.4633.58\\rBSPP Employer201.924,64...   \n",
      "1                             Subtotal259.305,963.90   \n",
      "2                          Subtotal1,389.8043,215.46   \n",
      "\n",
      "                                             Current  YTD  Deductions  \\\n",
      "0  Canada Pension Plan0.00\\r3,754.45\\rEmployment ...  NaN         NaN   \n",
      "1                                                NaN  NaN         NaN   \n",
      "2                                                NaN  NaN         NaN   \n",
      "\n",
      "   Current.1  YTD.1  \n",
      "0        NaN    NaN  \n",
      "1        NaN    NaN  \n",
      "2        NaN    NaN  \n",
      "Table 4:\n",
      "  Nonpayroll Payments  Current    YTD\n",
      "0      Safety Apparel      0.0  300.0\n",
      "Table 5:\n",
      "  Employer Contributions  Current        YTD\n",
      "0             BSPP Match   201.92   4,644.16\n",
      "1        Company Pension   484.61  11,146.03\n",
      "Table 6:\n",
      "  Net Pay Distribution                     Unnamed: 0     Unnamed: 1  \\\n",
      "0       Deposit Number                      Bank Name  Branch Number   \n",
      "1           4176860516  002 - The Bank of Nova Scotia          01032   \n",
      "\n",
      "       Unnamed: 2    Unnamed: 3  \n",
      "0  Account Number  Amount (CAD)  \n",
      "1        XXXX4186      3,048.66  \n"
     ]
    }
   ],
   "source": [
    "# Iterate over the list of DataFrames and print them\n",
    "for i, table in enumerate(tables):\n",
    "    print(f\"Table {i}:\")\n",
    "    print(table)\n"
   ]
  },
  {
   "cell_type": "markdown",
   "source": [
    "## Camelot"
   ],
   "metadata": {
    "collapsed": false
   },
   "id": "9df916f33cd4a996"
  },
  {
   "cell_type": "code",
   "outputs": [
    {
     "name": "stdout",
     "output_type": "stream",
     "text": [
      "Total tables extracted: 2\n",
      "Table 0:\n",
      "                                                    0           1  \\\n",
      "0            EARNINGS       \\n    YMMDD \\n       RATE      AMOUNT   \n",
      "1   REGULAR                 \\n                0.00...     3846.15   \n",
      "2   CASHFLEX                \\n                0.00...        6.46   \n",
      "3   TXGRSU                  \\n                0.00...        0.00   \n",
      "4   RECAWDTB                \\n                0.00...        0.00   \n",
      "5                                      TOTAL EARNINGS     3852.61   \n",
      "6                               LESS TAXABLE BENEFITS        0.00   \n",
      "7                                         TOTAL GROSS     3852.61   \n",
      "8                                 CURRENT\\n       YTD               \n",
      "9              DEDUCTIONS     \\n    AMOUNT\\n   AMOUNT  DEDUCTIONS   \n",
      "10    GOVT PEN               \\n    221.22      450.00    EI  CONT   \n",
      "11    FEDL TAX               \\n    520.93     1081.85    EERRSP$F   \n",
      "12    EERSP%                 \\n    192.31      384.62     PEN VOL   \n",
      "13    EE LIFE                \\n      6.14       12.14    EEOPTLFE   \n",
      "14    CHLFEOPT               \\n      0.52        1.04    EECRTILL   \n",
      "15    CHCRTILL               \\n      3.78        7.56        AD&D   \n",
      "16    SP AD&D                \\n      2.65        5.30    VOL AD&D   \n",
      "17    VAC BUY                \\n     73.97      147.94         LTD   \n",
      "18    PST ON                 \\n     10.11       20.07    HM&CRINS   \n",
      "19    DONATION               \\n     10.00       20.00        GMSP   \n",
      "20                                   TOTAL DEDUCTIONS               \n",
      "21                                            NET PAY               \n",
      "\n",
      "                            2  \n",
      "0        HRS/UNITS\\n   AMOUNT  \n",
      "1      0.00           7692.30  \n",
      "2      0.00             12.92  \n",
      "3      0.00             47.55  \n",
      "4      0.00             79.48  \n",
      "5                     7832.25  \n",
      "6                       79.48  \n",
      "7                     7752.77  \n",
      "8         CURRENT \\n      YTD  \n",
      "9          AMOUNT \\n   AMOUNT  \n",
      "10    63.95            127.90  \n",
      "11     6.46             12.92  \n",
      "12   384.62            769.24  \n",
      "13     0.97              1.94  \n",
      "14     8.01             16.01  \n",
      "15     1.06              2.12  \n",
      "16     2.65              5.30  \n",
      "17   100.71            199.33  \n",
      "18    65.92            131.84  \n",
      "19    38.00             76.00  \n",
      "20  1713.98           3473.12  \n",
      "21                             \n",
      "Table 1:\n",
      "                           0                                 1  \\\n",
      "0                                                ASSOCIATE ID:   \n",
      "1             NON NEGOTIABLE                                     \n",
      "2                                                SAVINGS ACCT:   \n",
      "3                                             DEDN. DEP. ACCT:   \n",
      "4                                             EMPL./PAYEE ID.:   \n",
      "5                                                  OCCUPATION:   \n",
      "6       3GM6 CA-D  000016358                                     \n",
      "7           RAYMOND JEANNINE                                     \n",
      "8                             NO. PAY PER.:             OF\\n02   \n",
      "9   23 GORDON COWLING STREET                                     \n",
      "10       COURTICE ON L1E 0G7                                     \n",
      "11                    CANADA                                     \n",
      "12                                                    NET PAY:   \n",
      "\n",
      "                       2  \n",
      "0                  16358  \n",
      "1                         \n",
      "2                         \n",
      "3                         \n",
      "4   3GM6 CA-D  000016358  \n",
      "5        SENIOR LEARNING  \n",
      "6                         \n",
      "7                         \n",
      "8                     26  \n",
      "9                         \n",
      "10                        \n",
      "11                        \n",
      "12           $***2138.63  \n"
     ]
    }
   ],
   "source": [
    "import camelot\n",
    "import pandas as pd\n",
    "\n",
    "\n",
    "# The path to your PDF file\n",
    "pdf_path = 'Underwriting/Jeannine Paystub 01.26.2024.pdf'\n",
    "\n",
    "# Extract tables from the PDF\n",
    "tables = camelot.read_pdf(pdf_path, pages='1', flavor='stream')\n",
    "\n",
    "# Print the number of tables extracted\n",
    "print(\"Total tables extracted:\", tables.n)\n",
    "\n",
    "# Iterate over the extracted tables and print them\n",
    "for i, table in enumerate(tables):\n",
    "    print(f\"Table {i}:\")\n",
    "    print(table.df)\n"
   ],
   "metadata": {
    "collapsed": false,
    "ExecuteTime": {
     "end_time": "2024-02-21T21:10:56.971825900Z",
     "start_time": "2024-02-21T21:10:56.474620Z"
    }
   },
   "id": "d8c9b29f958cb124",
   "execution_count": 28
  },
  {
   "cell_type": "code",
   "outputs": [
    {
     "data": {
      "text/plain": "                                                    0           1  \\\n0            EARNINGS       \\n    YMMDD \\n       RATE      AMOUNT   \n1   REGULAR                 \\n                0.00...     3846.15   \n2   CASHFLEX                \\n                0.00...        6.46   \n3   TXGRSU                  \\n                0.00...        0.00   \n4   RECAWDTB                \\n                0.00...        0.00   \n5                                      TOTAL EARNINGS     3852.61   \n6                               LESS TAXABLE BENEFITS        0.00   \n7                                         TOTAL GROSS     3852.61   \n8                                 CURRENT\\n       YTD               \n9              DEDUCTIONS     \\n    AMOUNT\\n   AMOUNT  DEDUCTIONS   \n10    GOVT PEN               \\n    221.22      450.00    EI  CONT   \n11    FEDL TAX               \\n    520.93     1081.85    EERRSP$F   \n12    EERSP%                 \\n    192.31      384.62     PEN VOL   \n13    EE LIFE                \\n      6.14       12.14    EEOPTLFE   \n14    CHLFEOPT               \\n      0.52        1.04    EECRTILL   \n15    CHCRTILL               \\n      3.78        7.56        AD&D   \n16    SP AD&D                \\n      2.65        5.30    VOL AD&D   \n17    VAC BUY                \\n     73.97      147.94         LTD   \n18    PST ON                 \\n     10.11       20.07    HM&CRINS   \n19    DONATION               \\n     10.00       20.00        GMSP   \n20                                   TOTAL DEDUCTIONS               \n21                                            NET PAY               \n\n                            2  \n0        HRS/UNITS\\n   AMOUNT  \n1      0.00           7692.30  \n2      0.00             12.92  \n3      0.00             47.55  \n4      0.00             79.48  \n5                     7832.25  \n6                       79.48  \n7                     7752.77  \n8         CURRENT \\n      YTD  \n9          AMOUNT \\n   AMOUNT  \n10    63.95            127.90  \n11     6.46             12.92  \n12   384.62            769.24  \n13     0.97              1.94  \n14     8.01             16.01  \n15     1.06              2.12  \n16     2.65              5.30  \n17   100.71            199.33  \n18    65.92            131.84  \n19    38.00             76.00  \n20  1713.98           3473.12  \n21                             ",
      "text/html": "<div>\n<style scoped>\n    .dataframe tbody tr th:only-of-type {\n        vertical-align: middle;\n    }\n\n    .dataframe tbody tr th {\n        vertical-align: top;\n    }\n\n    .dataframe thead th {\n        text-align: right;\n    }\n</style>\n<table border=\"1\" class=\"dataframe\">\n  <thead>\n    <tr style=\"text-align: right;\">\n      <th></th>\n      <th>0</th>\n      <th>1</th>\n      <th>2</th>\n    </tr>\n  </thead>\n  <tbody>\n    <tr>\n      <th>0</th>\n      <td>EARNINGS       \\n    YMMDD \\n       RATE</td>\n      <td>AMOUNT</td>\n      <td>HRS/UNITS\\n   AMOUNT</td>\n    </tr>\n    <tr>\n      <th>1</th>\n      <td>REGULAR                 \\n                0.00...</td>\n      <td>3846.15</td>\n      <td>0.00           7692.30</td>\n    </tr>\n    <tr>\n      <th>2</th>\n      <td>CASHFLEX                \\n                0.00...</td>\n      <td>6.46</td>\n      <td>0.00             12.92</td>\n    </tr>\n    <tr>\n      <th>3</th>\n      <td>TXGRSU                  \\n                0.00...</td>\n      <td>0.00</td>\n      <td>0.00             47.55</td>\n    </tr>\n    <tr>\n      <th>4</th>\n      <td>RECAWDTB                \\n                0.00...</td>\n      <td>0.00</td>\n      <td>0.00             79.48</td>\n    </tr>\n    <tr>\n      <th>5</th>\n      <td>TOTAL EARNINGS</td>\n      <td>3852.61</td>\n      <td>7832.25</td>\n    </tr>\n    <tr>\n      <th>6</th>\n      <td>LESS TAXABLE BENEFITS</td>\n      <td>0.00</td>\n      <td>79.48</td>\n    </tr>\n    <tr>\n      <th>7</th>\n      <td>TOTAL GROSS</td>\n      <td>3852.61</td>\n      <td>7752.77</td>\n    </tr>\n    <tr>\n      <th>8</th>\n      <td>CURRENT\\n       YTD</td>\n      <td></td>\n      <td>CURRENT \\n      YTD</td>\n    </tr>\n    <tr>\n      <th>9</th>\n      <td>DEDUCTIONS     \\n    AMOUNT\\n   AMOUNT</td>\n      <td>DEDUCTIONS</td>\n      <td>AMOUNT \\n   AMOUNT</td>\n    </tr>\n    <tr>\n      <th>10</th>\n      <td>GOVT PEN               \\n    221.22      450.00</td>\n      <td>EI  CONT</td>\n      <td>63.95            127.90</td>\n    </tr>\n    <tr>\n      <th>11</th>\n      <td>FEDL TAX               \\n    520.93     1081.85</td>\n      <td>EERRSP$F</td>\n      <td>6.46             12.92</td>\n    </tr>\n    <tr>\n      <th>12</th>\n      <td>EERSP%                 \\n    192.31      384.62</td>\n      <td>PEN VOL</td>\n      <td>384.62            769.24</td>\n    </tr>\n    <tr>\n      <th>13</th>\n      <td>EE LIFE                \\n      6.14       12.14</td>\n      <td>EEOPTLFE</td>\n      <td>0.97              1.94</td>\n    </tr>\n    <tr>\n      <th>14</th>\n      <td>CHLFEOPT               \\n      0.52        1.04</td>\n      <td>EECRTILL</td>\n      <td>8.01             16.01</td>\n    </tr>\n    <tr>\n      <th>15</th>\n      <td>CHCRTILL               \\n      3.78        7.56</td>\n      <td>AD&amp;D</td>\n      <td>1.06              2.12</td>\n    </tr>\n    <tr>\n      <th>16</th>\n      <td>SP AD&amp;D                \\n      2.65        5.30</td>\n      <td>VOL AD&amp;D</td>\n      <td>2.65              5.30</td>\n    </tr>\n    <tr>\n      <th>17</th>\n      <td>VAC BUY                \\n     73.97      147.94</td>\n      <td>LTD</td>\n      <td>100.71            199.33</td>\n    </tr>\n    <tr>\n      <th>18</th>\n      <td>PST ON                 \\n     10.11       20.07</td>\n      <td>HM&amp;CRINS</td>\n      <td>65.92            131.84</td>\n    </tr>\n    <tr>\n      <th>19</th>\n      <td>DONATION               \\n     10.00       20.00</td>\n      <td>GMSP</td>\n      <td>38.00             76.00</td>\n    </tr>\n    <tr>\n      <th>20</th>\n      <td>TOTAL DEDUCTIONS</td>\n      <td></td>\n      <td>1713.98           3473.12</td>\n    </tr>\n    <tr>\n      <th>21</th>\n      <td>NET PAY</td>\n      <td></td>\n      <td></td>\n    </tr>\n  </tbody>\n</table>\n</div>"
     },
     "execution_count": 29,
     "metadata": {},
     "output_type": "execute_result"
    }
   ],
   "source": [
    "table_df = tables[0].df\n",
    "table_df"
   ],
   "metadata": {
    "collapsed": false,
    "ExecuteTime": {
     "end_time": "2024-02-21T21:11:12.849174900Z",
     "start_time": "2024-02-21T21:11:12.823535400Z"
    }
   },
   "id": "c59b3a7370ffc053",
   "execution_count": 29
  },
  {
   "cell_type": "code",
   "outputs": [
    {
     "ename": "KeyError",
     "evalue": "'Data'",
     "output_type": "error",
     "traceback": [
      "\u001B[1;31m---------------------------------------------------------------------------\u001B[0m",
      "\u001B[1;31mKeyError\u001B[0m                                  Traceback (most recent call last)",
      "Cell \u001B[1;32mIn[25], line 2\u001B[0m\n\u001B[0;32m      1\u001B[0m \u001B[38;5;66;03m# Split the 'Data' column into multiple columns\u001B[39;00m\n\u001B[1;32m----> 2\u001B[0m df_split \u001B[38;5;241m=\u001B[39m \u001B[43mtable_df\u001B[49m\u001B[43m[\u001B[49m\u001B[38;5;124;43m'\u001B[39;49m\u001B[38;5;124;43mData\u001B[39;49m\u001B[38;5;124;43m'\u001B[39;49m\u001B[43m]\u001B[49m\u001B[38;5;241m.\u001B[39mstr\u001B[38;5;241m.\u001B[39msplit(\u001B[38;5;124m'\u001B[39m\u001B[38;5;130;01m\\n\u001B[39;00m\u001B[38;5;124m'\u001B[39m, expand\u001B[38;5;241m=\u001B[39m\u001B[38;5;28;01mTrue\u001B[39;00m)\n\u001B[0;32m      4\u001B[0m \u001B[38;5;66;03m# If the first row contains the headers, you can set it as the DataFrame header\u001B[39;00m\n\u001B[0;32m      5\u001B[0m new_header \u001B[38;5;241m=\u001B[39m df_split\u001B[38;5;241m.\u001B[39miloc[\u001B[38;5;241m0\u001B[39m] \u001B[38;5;66;03m# Grab the first row for the header\u001B[39;00m\n",
      "File \u001B[1;32m~\\AppData\\Local\\Programs\\Python\\Python310\\lib\\site-packages\\pandas\\core\\frame.py:4090\u001B[0m, in \u001B[0;36mDataFrame.__getitem__\u001B[1;34m(self, key)\u001B[0m\n\u001B[0;32m   4088\u001B[0m \u001B[38;5;28;01mif\u001B[39;00m \u001B[38;5;28mself\u001B[39m\u001B[38;5;241m.\u001B[39mcolumns\u001B[38;5;241m.\u001B[39mnlevels \u001B[38;5;241m>\u001B[39m \u001B[38;5;241m1\u001B[39m:\n\u001B[0;32m   4089\u001B[0m     \u001B[38;5;28;01mreturn\u001B[39;00m \u001B[38;5;28mself\u001B[39m\u001B[38;5;241m.\u001B[39m_getitem_multilevel(key)\n\u001B[1;32m-> 4090\u001B[0m indexer \u001B[38;5;241m=\u001B[39m \u001B[38;5;28;43mself\u001B[39;49m\u001B[38;5;241;43m.\u001B[39;49m\u001B[43mcolumns\u001B[49m\u001B[38;5;241;43m.\u001B[39;49m\u001B[43mget_loc\u001B[49m\u001B[43m(\u001B[49m\u001B[43mkey\u001B[49m\u001B[43m)\u001B[49m\n\u001B[0;32m   4091\u001B[0m \u001B[38;5;28;01mif\u001B[39;00m is_integer(indexer):\n\u001B[0;32m   4092\u001B[0m     indexer \u001B[38;5;241m=\u001B[39m [indexer]\n",
      "File \u001B[1;32m~\\AppData\\Local\\Programs\\Python\\Python310\\lib\\site-packages\\pandas\\core\\indexes\\range.py:417\u001B[0m, in \u001B[0;36mRangeIndex.get_loc\u001B[1;34m(self, key)\u001B[0m\n\u001B[0;32m    415\u001B[0m         \u001B[38;5;28;01mraise\u001B[39;00m \u001B[38;5;167;01mKeyError\u001B[39;00m(key) \u001B[38;5;28;01mfrom\u001B[39;00m \u001B[38;5;21;01merr\u001B[39;00m\n\u001B[0;32m    416\u001B[0m \u001B[38;5;28;01mif\u001B[39;00m \u001B[38;5;28misinstance\u001B[39m(key, Hashable):\n\u001B[1;32m--> 417\u001B[0m     \u001B[38;5;28;01mraise\u001B[39;00m \u001B[38;5;167;01mKeyError\u001B[39;00m(key)\n\u001B[0;32m    418\u001B[0m \u001B[38;5;28mself\u001B[39m\u001B[38;5;241m.\u001B[39m_check_indexing_error(key)\n\u001B[0;32m    419\u001B[0m \u001B[38;5;28;01mraise\u001B[39;00m \u001B[38;5;167;01mKeyError\u001B[39;00m(key)\n",
      "\u001B[1;31mKeyError\u001B[0m: 'Data'"
     ]
    }
   ],
   "source": [
    "# Split the 'Data' column into multiple columns\n",
    "df_split = table_df['Data'].str.split('\\n', expand=True)\n",
    "\n",
    "# If the first row contains the headers, you can set it as the DataFrame header\n",
    "new_header = df_split.iloc[0] # Grab the first row for the header\n",
    "df_split = df_split[1:] # Take the data less the header row\n",
    "df_split.columns = new_header # Set the header row as the df header\n",
    "\n",
    "df_split"
   ],
   "metadata": {
    "collapsed": false,
    "ExecuteTime": {
     "end_time": "2024-02-21T20:52:28.067135Z",
     "start_time": "2024-02-21T20:52:27.760696800Z"
    }
   },
   "id": "6b81d0ec435f719c",
   "execution_count": 25
  },
  {
   "cell_type": "code",
   "outputs": [
    {
     "name": "stdout",
     "output_type": "stream",
     "text": [
      "       Label        Current           YTD\n",
      "0  Gross Pay          Hours          Rate\n",
      "1   Subtotal       4,438.46    117,446.29\n"
     ]
    }
   ],
   "source": [
    "import pandas as pd\n",
    "\n",
    "# Define a function to parse each row\n",
    "def parse_row(row):\n",
    "    parts = row.split('\\n')  # Split by newline to separate the label from values\n",
    "    return parts\n",
    "\n",
    "for table in tables:\n",
    "    table_df = table.df\n",
    "    structured_data = [parse_row(row) for row in table_df[0]]\n",
    "    new_df = pd.DataFrame(structured_data, columns=['Label', 'Current', 'YTD'])\n",
    "\n",
    "print(new_df)\n"
   ],
   "metadata": {
    "collapsed": false,
    "ExecuteTime": {
     "end_time": "2024-02-21T20:35:24.602834300Z",
     "start_time": "2024-02-21T20:35:24.581404500Z"
    }
   },
   "id": "755e842695d61e53",
   "execution_count": 19
  },
  {
   "cell_type": "code",
   "outputs": [],
   "source": [],
   "metadata": {
    "collapsed": false
   },
   "id": "5ade1d21aa51194e"
  }
 ],
 "metadata": {
  "kernelspec": {
   "display_name": "Python 3 (ipykernel)",
   "language": "python",
   "name": "python3"
  },
  "language_info": {
   "codemirror_mode": {
    "name": "ipython",
    "version": 3
   },
   "file_extension": ".py",
   "mimetype": "text/x-python",
   "name": "python",
   "nbconvert_exporter": "python",
   "pygments_lexer": "ipython3",
   "version": "3.10.2"
  }
 },
 "nbformat": 4,
 "nbformat_minor": 5
}
