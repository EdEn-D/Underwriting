{
 "cells": [
  {
   "cell_type": "markdown",
   "source": [
    "# Accessing sheet"
   ],
   "metadata": {
    "collapsed": false
   },
   "id": "21895f8d254540c9"
  },
  {
   "cell_type": "code",
   "outputs": [
    {
     "name": "stdout",
     "output_type": "stream",
     "text": [
      "1QhAFMUnA3r3AhxnivebHb1BIsYvX2uXiUFumyZz7uRg\n",
      "Successfully accessed the spreadsheet!\n",
      "[['fuck you']]\n"
     ]
    }
   ],
   "source": [
    "import os\n",
    "from dotenv import load_dotenv, find_dotenv\n",
    "load_dotenv(find_dotenv())\n",
    "import gspread\n",
    "from oauth2client.service_account import ServiceAccountCredentials\n",
    "\n",
    "# Path to your service account key file\n",
    "SERVICE_ACCOUNT_FILE = r'N:\\Dev\\AI\\Underwriting\\single-obelisk-421013-3fc29a09a343.json' \n",
    "# Spreadsheet ID from your URL\n",
    "SPREADSHEET_ID = os.getenv(\"EVAL_SPREADSHEET_ID\")\n",
    "\n",
    "# Define the scope\n",
    "scope = ['https://www.googleapis.com/auth/spreadsheets', 'https://www.googleapis.com/auth/drive']\n",
    "\n",
    "# Authorize with the Google Drive API\n",
    "creds = ServiceAccountCredentials.from_json_keyfile_name(SERVICE_ACCOUNT_FILE, scope)\n",
    "client = gspread.authorize(creds)\n",
    "\n",
    "# Attempt to open the spreadsheet\n",
    "try:\n",
    "    sheet = client.open_by_key(SPREADSHEET_ID).sheet1\n",
    "    print(\"Successfully accessed the spreadsheet!\")\n",
    "    print(sheet.get('A1'))  # Try to read cell A1 as a test\n",
    "except gspread.SpreadsheetNotFound:\n",
    "    raise Exception(\"Failed to find the spreadsheet. Check the spreadsheet ID and sharing settings.\")\n",
    "except Exception as e:\n",
    "    raise Exception(\"An error occurred:\", e)\n"
   ],
   "metadata": {
    "collapsed": false,
    "ExecuteTime": {
     "end_time": "2024-04-22T21:19:59.333330700Z",
     "start_time": "2024-04-22T21:19:57.648525800Z"
    }
   },
   "id": "58c701349ddd257",
   "execution_count": 3
  },
  {
   "cell_type": "code",
   "outputs": [
    {
     "name": "stdout",
     "output_type": "stream",
     "text": [
      "Values in range A1:C10: [[]]\n"
     ]
    }
   ],
   "source": [
    "# Correct usage to get values from a range\n",
    "values = sheet.get('B2')  # This gets all values from A1 to C10\n",
    "print(\"Values in range A1:C10:\", values)\n"
   ],
   "metadata": {
    "collapsed": false,
    "ExecuteTime": {
     "end_time": "2024-04-22T21:28:45.085684600Z",
     "start_time": "2024-04-22T21:28:44.648565100Z"
    }
   },
   "id": "bf7a0064e7762a64",
   "execution_count": 7
  },
  {
   "cell_type": "markdown",
   "source": [
    "# PDF to Image"
   ],
   "metadata": {
    "collapsed": false
   },
   "id": "55352f3c76587f82"
  },
  {
   "cell_type": "code",
   "outputs": [
    {
     "name": "stdout",
     "output_type": "stream",
     "text": [
      "Saved: N:\\Dev\\AI\\Underwriting\\data\\clients\\Safia Seyed\\Safia Seyed Paystub_page_1.png\n",
      "Saved: N:\\Dev\\AI\\Underwriting\\data\\clients\\Safia Seyed\\Safia Seyed Paystub_page_2.png\n"
     ]
    }
   ],
   "source": [
    "from pdf2image import convert_from_path\n",
    "import os\n",
    "\n",
    "def convert_pdf_to_images(pdf_path):\n",
    "    # Extract the directory path and file base from the PDF path\n",
    "    directory, filename = os.path.split(pdf_path)\n",
    "    file_base = os.path.splitext(filename)[0]\n",
    "    \n",
    "    # Convert PDF to a list of images\n",
    "    images = convert_from_path(pdf_path)\n",
    "\n",
    "    image_paths = []\n",
    "    # Save each page as an image\n",
    "    for i, image in enumerate(images):\n",
    "        image_path = os.path.join(directory, f\"{file_base}_page_{i+1}.png\")\n",
    "        image.save(image_path, 'PNG')\n",
    "        print(f\"Saved: {image_path}\")\n",
    "        image_paths.append(str(image_path))\n",
    "    \n",
    "    return image_paths\n",
    "\n",
    "# pdf_pages = convert_pdf_to_images(r\"N:\\Dev\\AI\\Underwriting\\data\\clients\\Yash Patel\\Yash Paystub Nov 17 2023.pdf\")\n",
    "pdf_pages = convert_pdf_to_images(r\"N:\\Dev\\AI\\Underwriting\\data\\clients\\Safia Seyed\\Safia Seyed Paystub.pdf\")"
   ],
   "metadata": {
    "collapsed": false,
    "ExecuteTime": {
     "end_time": "2024-04-22T21:50:12.717506500Z",
     "start_time": "2024-04-22T21:50:12.225686300Z"
    }
   },
   "id": "c5ed4d0c29ef1460",
   "execution_count": 23
  },
  {
   "cell_type": "code",
   "outputs": [
    {
     "name": "stdout",
     "output_type": "stream",
     "text": [
      "Uploaded Image URL: https://i.imgur.com/Dddb7zB.png\n"
     ]
    }
   ],
   "source": [
    "import requests\n",
    "\n",
    "def upload_image_to_imgur(image_path, client_id):\n",
    "    \"\"\"\n",
    "    Uploads an image to Imgur and returns the link to the uploaded image.\n",
    "\n",
    "    :param image_path: Path to the image file to upload\n",
    "    :param client_id: Imgur application client ID\n",
    "    :return: URL of the uploaded image or None if upload fails\n",
    "    \"\"\"\n",
    "    headers = {'Authorization': f'Client-ID {client_id}'}\n",
    "    url = 'https://api.imgur.com/3/image'\n",
    "    \n",
    "    try:\n",
    "        with open(image_path, 'rb') as img:\n",
    "            files = {'image': img}\n",
    "            response = requests.post(url, headers=headers, files=files)\n",
    "        response.raise_for_status()  # This will raise an exception for HTTP errors\n",
    "        data = response.json()\n",
    "        # print(data)\n",
    "        return data['data']['link']\n",
    "    except requests.exceptions.RequestException as e:\n",
    "        raise Exception(f\"An error occurred: {e}\")\n",
    "        # return None\n",
    "\n",
    "# Usage example\n",
    "CLIENT_ID = os.getenv(\"IMGUR_CLIENT_ID\")\n",
    "# IMAGE_PATH = r'N:\\Dev\\AI\\Underwriting\\notebooks\\cropped.jpg'\n",
    "IMAGE_PATH = pdf_pages[0]\n",
    "\n",
    "uploaded_image_url = upload_image_to_imgur(IMAGE_PATH, CLIENT_ID)\n",
    "if uploaded_image_url:\n",
    "    print(\"Uploaded Image URL:\", uploaded_image_url)\n",
    "else:\n",
    "    raise Exception(\"Failed to upload image.\")\n"
   ],
   "metadata": {
    "collapsed": false,
    "ExecuteTime": {
     "end_time": "2024-04-22T21:51:10.131998900Z",
     "start_time": "2024-04-22T21:51:07.571994700Z"
    }
   },
   "id": "baf223154d9a6b11",
   "execution_count": 24
  },
  {
   "cell_type": "code",
   "outputs": [
    {
     "name": "stdout",
     "output_type": "stream",
     "text": [
      "{\n",
      "    \"spreadsheetId\": \"1QhAFMUnA3r3AhxnivebHb1BIsYvX2uXiUFumyZz7uRg\",\n",
      "    \"tableRange\": \"Sheet1!A1:B4\",\n",
      "    \"updates\": {\n",
      "        \"spreadsheetId\": \"1QhAFMUnA3r3AhxnivebHb1BIsYvX2uXiUFumyZz7uRg\",\n",
      "        \"updatedRange\": \"Sheet1!A5\",\n",
      "        \"updatedRows\": 1,\n",
      "        \"updatedColumns\": 1,\n",
      "        \"updatedCells\": 1\n",
      "    }\n",
      "}\n",
      "A5\n",
      "5\n"
     ]
    }
   ],
   "source": [
    "import json\n",
    "\n",
    "def getrow(s):\n",
    "    for c in s:\n",
    "        i = 0\n",
    "        if c.isdigit():\n",
    "            i = s.index(c)\n",
    "            return str(s[i:])\n",
    "\n",
    "def append_image_link_to_sheet(spreadsheet_id, credentials_json, image_url):\n",
    "    scope = ['https://www.googleapis.com/auth/spreadsheets', 'https://www.googleapis.com/auth/drive']\n",
    "    creds = ServiceAccountCredentials.from_json_keyfile_name(credentials_json, scope)\n",
    "    client = gspread.authorize(creds)\n",
    "    sheet = client.open_by_key(spreadsheet_id).sheet1  # Open the first sheet\n",
    "\n",
    "    # Append a new row with an image formula\n",
    "    image_formula = r\"=ADD\"\n",
    "    test = sheet.append_row([image_formula])\n",
    "    # print(json.dumps(test, indent=4))\n",
    "    updated_cell = test[\"updates\"][\"updatedRange\"].split(\"!\")[1]\n",
    "    print(f\"Inserted image to cell: {updated_cell}\")\n",
    "    i = int(getrow(updated_cell))\n",
    "    sheet.update_cell(i,1, f'=IMAGE(\"{image_url}\")')\n",
    "\n",
    "\n",
    "append_image_link_to_sheet(SPREADSHEET_ID, SERVICE_ACCOUNT_FILE ,uploaded_image_url)"
   ],
   "metadata": {
    "collapsed": false,
    "ExecuteTime": {
     "end_time": "2024-04-22T21:51:15.145637500Z",
     "start_time": "2024-04-22T21:51:13.297169Z"
    }
   },
   "id": "2b1d0e66ba8b3c70",
   "execution_count": 25
  },
  {
   "cell_type": "code",
   "outputs": [
    {
     "data": {
      "text/plain": "'56'"
     },
     "execution_count": 64,
     "metadata": {},
     "output_type": "execute_result"
    }
   ],
   "source": [],
   "metadata": {
    "collapsed": false,
    "ExecuteTime": {
     "end_time": "2024-04-21T17:18:21.182267100Z",
     "start_time": "2024-04-21T17:18:21.167231600Z"
    }
   },
   "id": "78a5325843c7e397",
   "execution_count": 64
  },
  {
   "cell_type": "code",
   "outputs": [],
   "source": [],
   "metadata": {
    "collapsed": false
   },
   "id": "a0ca3b279ac64cff"
  }
 ],
 "metadata": {
  "kernelspec": {
   "display_name": "Python 3",
   "language": "python",
   "name": "python3"
  },
  "language_info": {
   "codemirror_mode": {
    "name": "ipython",
    "version": 2
   },
   "file_extension": ".py",
   "mimetype": "text/x-python",
   "name": "python",
   "nbconvert_exporter": "python",
   "pygments_lexer": "ipython2",
   "version": "2.7.6"
  }
 },
 "nbformat": 4,
 "nbformat_minor": 5
}
